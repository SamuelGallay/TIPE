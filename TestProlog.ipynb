{
 "cells": [
  {
   "cell_type": "markdown",
   "metadata": {},
   "source": [
    "# Le test de l'implémentation Prolog"
   ]
  },
  {
   "cell_type": "code",
   "execution_count": 1,
   "metadata": {},
   "outputs": [],
   "source": [
    "# load \"prolog.cmo\";;\n",
    "open Prolog;;"
   ]
  },
  {
   "cell_type": "code",
   "execution_count": 2,
   "metadata": {
    "scrolled": true
   },
   "outputs": [
    {
     "data": {
      "text/plain": [
       "val program : string =\n",
       "  \"\\nconnected(bond_street,oxford_circus,central).\\nconnected(oxford_circus,tottenham_court_road,central).\\nconnected(bond_street,green_park,jubilee).\\nconnected(green_park,charing_cross,jubilee).\\nconnected(green_park,piccadilly_circus,piccadilly).\\nconnected(piccadilly_circus,leicester_square,piccadilly).\"... (* string length 816; truncated *)\n"
      ]
     },
     "execution_count": 2,
     "metadata": {},
     "output_type": "execute_result"
    }
   ],
   "source": [
    "let program = \"\n",
    "connected(bond_street,oxford_circus,central).\n",
    "connected(oxford_circus,tottenham_court_road,central).\n",
    "connected(bond_street,green_park,jubilee).\n",
    "connected(green_park,charing_cross,jubilee).\n",
    "connected(green_park,piccadilly_circus,piccadilly).\n",
    "connected(piccadilly_circus,leicester_square,piccadilly).\n",
    "connected(green_park,oxford_circus,victoria).\n",
    "connected(oxford_circus,piccadilly_circus,bakerloo).\n",
    "connected(piccadilly_circus,charing_cross,bakerloo).\n",
    "connected(tottenham_court_road,leicester_square,northern).\n",
    "connected(leicester_square,charing_cross,northern).\n",
    "\n",
    "nearby(X,Y):-connected(X,Y,L).\n",
    "nearby(X,Y):-connected(X,Z,L),connected(Z,Y,L).\n",
    "\n",
    "reachable(X,Y):-connected(X,Y,L).\n",
    "reachable(X,Y):-connected(X,Z,L),reachable(Z,Y).\n",
    "\n",
    "path(X,Y,noroute):-connected(X,Y,L).\n",
    "path(X,Y,route(Z,R)):-connected(X,Z,L),path(Z,Y,R).\";; (*connected(X,Y,L):-connected(Y,X,L).*)"
   ]
  },
  {
   "cell_type": "code",
   "execution_count": 3,
   "metadata": {
    "scrolled": true
   },
   "outputs": [
    {
     "data": {
      "text/plain": [
       "val world : Prolog.clause list =\n",
       "  [Clause\n",
       "    (Term (Atom \"connected\",\n",
       "      [Term (Atom \"bond_street\", []); Term (Atom \"oxford_circus\", []);\n",
       "       Term (Atom \"central\", [])]),\n",
       "    []);\n",
       "   Clause\n",
       "    (Term (Atom \"connected\",\n",
       "      [Term (Atom \"oxford_circus\", []);\n",
       "       Term (Atom \"tottenham_court_road\", []); Term (Atom \"central\", [])]),\n",
       "    []);\n",
       "   Clause\n",
       "    (Term (Atom \"connected\",\n",
       "      [Term (Atom \"bond_street\", []); Term (Atom \"green_park\", []);\n",
       "       Term (Atom \"jubilee\", [])]),\n",
       "    []);\n",
       "   Clause\n",
       "    (Term (Atom \"connected\",\n",
       "      [Term (Atom \"green_park\", []); Term (Atom \"charing_cross\", []);\n",
       "       Term (Atom \"jubilee\", [])]),\n",
       "    []);\n",
       "   Clause\n",
       "    (Term (Atom \"connected\",\n",
       "      [Term (Atom \"green_park\", []); Term (Atom \"piccadilly_circus\", []);\n",
       "       Term (Atom \"piccadilly\", [])]),\n",
       "    []);\n",
       "   Clause\n",
       "    (Term (Atom \"connected\",\n",
       "      [Term (Atom \"piccadilly_circus\", []);\n",
       "       Term (Atom \"leicester_square\", []); Term (Atom \"piccadilly\", [])]),\n",
       "    []);\n",
       "   Clause\n",
       "    (Term (Atom \"connected\",\n",
       "      [Term (Atom \"green_park\", []); Term (Atom \"oxford_circus\", []);\n",
       "       Term (Atom \"victoria\", [])]),\n",
       "    []);\n",
       "   Clause\n",
       "    (Term (Atom \"connected\",\n",
       "      [Term (Atom \"oxford_circus\", []); Term (Atom \"piccadilly_circus\", []);\n",
       "       Term (Atom \"bakerloo\", [])]),\n",
       "    []);\n",
       "   Clause\n",
       "    (Term (Atom \"connected\",\n",
       "      [Term (Atom \"piccadilly_circus\", []); Term (Atom \"charing_cross\", []);\n",
       "       Term (Atom \"bakerloo\", [])]),\n",
       "    []);\n",
       "   Clause\n",
       "    (Term (Atom \"connected\",\n",
       "      [Term (Atom \"tottenham_court_road\", []);\n",
       "       Term (Atom \"leicester_square\", []); Term (Atom \"northern\", [])]),\n",
       "    []);\n",
       "   Clause\n",
       "    (Term (Atom \"connected\",\n",
       "      [Term (Atom \"leicester_square\", []); Term (Atom \"charing_cross\", []);\n",
       "       Term (Atom \"northern\", [])]),\n",
       "    []);\n",
       "   Clause (Term (Atom \"nearby\", [Var (Id (\"X\", 0)); Var (Id (\"Y\", 0))]),\n",
       "    [Term (Atom \"connected\",\n",
       "      [Var (Id (\"X\", 0)); Var (Id (\"Y\", 0)); Var (Id (\"L\", 0))])]);\n",
       "   Clause (Term (Atom \"nearby\", [Var (Id (\"X\", 0)); Var (Id (\"Y\", 0))]),\n",
       "    [Term (Atom \"connected\",\n",
       "      [Var (Id (\"X\", 0)); Var (Id (\"Z\", 0)); Var (Id (\"L\", 0))]);\n",
       "     Term (Atom \"connected\",\n",
       "      [Var (Id (\"Z\", 0)); Var (Id (\"Y\", 0)); Var (Id (\"L\", 0))])]);\n",
       "   Clause (Term (Atom \"reachable\", [Var (Id (\"X\", 0)); Var (Id (\"Y\", 0))]),\n",
       "    [Term (Atom \"connecte\"... (* string length 9; truncated *),\n",
       "      [Var (Id (\"X\", 0));\n",
       "       Var (Id (\"\"... (* string length 1; truncated *), ...)); ...]);\n",
       "     ...]);\n",
       "   ...]\n"
      ]
     },
     "execution_count": 3,
     "metadata": {},
     "output_type": "execute_result"
    }
   ],
   "source": [
    "let world = parser program;;"
   ]
  },
  {
   "cell_type": "code",
   "execution_count": 4,
   "metadata": {
    "scrolled": true
   },
   "outputs": [
    {
     "name": "stdout",
     "output_type": "stream",
     "text": [
      "This is True.\n"
     ]
    },
    {
     "data": {
      "text/plain": [
       "- : unit = ()\n"
      ]
     },
     "execution_count": 4,
     "metadata": {},
     "output_type": "execute_result"
    }
   ],
   "source": [
    "request world \"connected(piccadilly_circus,leicester_square,piccadilly)\";;"
   ]
  },
  {
   "cell_type": "code",
   "execution_count": 5,
   "metadata": {},
   "outputs": [
    {
     "name": "stdout",
     "output_type": "stream",
     "text": [
      "This is True.\n"
     ]
    },
    {
     "data": {
      "text/plain": [
       "- : unit = ()\n"
      ]
     },
     "execution_count": 5,
     "metadata": {},
     "output_type": "execute_result"
    }
   ],
   "source": [
    "request world \"nearby(oxford_circus, charing_cross)\";;"
   ]
  },
  {
   "cell_type": "code",
   "execution_count": 6,
   "metadata": {},
   "outputs": [
    {
     "name": "stdout",
     "output_type": "stream",
     "text": [
      "There is : W = leicester_square\n",
      "There is : W = charing_cross\n"
     ]
    },
    {
     "data": {
      "text/plain": [
       "- : unit = ()\n"
      ]
     },
     "execution_count": 6,
     "metadata": {},
     "output_type": "execute_result"
    }
   ],
   "source": [
    "request world \"nearby(tottenham_court_road,W)\";;"
   ]
  },
  {
   "cell_type": "code",
   "execution_count": 7,
   "metadata": {},
   "outputs": [
    {
     "name": "stdout",
     "output_type": "stream",
     "text": [
      "This is True.\n",
      "This is True.\n",
      "This is True.\n"
     ]
    },
    {
     "data": {
      "text/plain": [
       "- : unit = ()\n"
      ]
     },
     "execution_count": 7,
     "metadata": {},
     "output_type": "execute_result"
    }
   ],
   "source": [
    "request world \"reachable(bond_street, leicester_square)\";;"
   ]
  },
  {
   "cell_type": "code",
   "execution_count": 8,
   "metadata": {},
   "outputs": [
    {
     "name": "stdout",
     "output_type": "stream",
     "text": [
      "This is True.\n",
      "This is True.\n",
      "This is false.\n"
     ]
    },
    {
     "data": {
      "text/plain": [
       "- : unit = ()\n"
      ]
     },
     "execution_count": 8,
     "metadata": {},
     "output_type": "execute_result"
    }
   ],
   "source": [
    "request world \"connected(oxford_circus, bond_street, L)\";;"
   ]
  },
  {
   "cell_type": "code",
   "execution_count": 9,
   "metadata": {},
   "outputs": [
    {
     "name": "stdout",
     "output_type": "stream",
     "text": [
      "There is : R = route(tottenham_court_road, route(leicester_square, noroute))\n",
      "There is : R = route(piccadilly_circus, noroute)\n",
      "There is : R = route(piccadilly_circus, route(leicester_square, noroute))\n"
     ]
    },
    {
     "data": {
      "text/plain": [
       "- : unit = ()\n"
      ]
     },
     "execution_count": 9,
     "metadata": {},
     "output_type": "execute_result"
    }
   ],
   "source": [
    "request world \"path(oxford_circus,charing_cross,R)\";;"
   ]
  },
  {
   "cell_type": "code",
   "execution_count": null,
   "metadata": {},
   "outputs": [],
   "source": []
  }
 ],
 "metadata": {
  "kernelspec": {
   "display_name": "OCaml 4.08.1",
   "language": "OCaml",
   "name": "jupyter"
  },
  "language_info": {
   "codemirror_mode": "text/x-ocaml",
   "file_extension": ".ml",
   "mimetype": "text/x-ocaml",
   "name": "OCaml",
   "nbconverter_exporter": null,
   "pygments_lexer": "OCaml",
   "version": "4.08.1"
  }
 },
 "nbformat": 4,
 "nbformat_minor": 4
}
