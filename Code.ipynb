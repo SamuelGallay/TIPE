{
 "cells": [
  {
   "cell_type": "raw",
   "metadata": {},
   "source": [
    "\\bibliography{biblio}\n",
    "\\bibliographystyle{abbrv}\n",
    "\\clearpage\n",
    "\\appendix"
   ]
  },
  {
   "cell_type": "markdown",
   "metadata": {},
   "source": [
    "# Déchiffrement de la syntaxe Prolog"
   ]
  },
  {
   "cell_type": "code",
   "execution_count": 2,
   "metadata": {},
   "outputs": [
    {
     "data": {
      "text/plain": [
       "type var = Id of string * int\n"
      ]
     },
     "execution_count": 2,
     "metadata": {},
     "output_type": "execute_result"
    },
    {
     "data": {
      "text/plain": [
       "type table = Empty | NonEmpty of term * table\n",
       "and term = Var of var | Predicate of string * term list | Table of table\n"
      ]
     },
     "execution_count": 2,
     "metadata": {},
     "output_type": "execute_result"
    },
    {
     "data": {
      "text/plain": [
       "type clause = Clause of term * term list\n"
      ]
     },
     "execution_count": 2,
     "metadata": {},
     "output_type": "execute_result"
    }
   ],
   "source": [
    "type var = Id of string * int\n",
    "\n",
    "type table = Empty | NonEmpty of term * table\n",
    "and term = Var of var | Predicate of string * (term list) | Table of table\n",
    "\n",
    "type clause = Clause of term * (term list);;"
   ]
  },
  {
   "cell_type": "markdown",
   "metadata": {},
   "source": [
    "## Le nouveau Parser :"
   ]
  },
  {
   "cell_type": "code",
   "execution_count": 3,
   "metadata": {},
   "outputs": [
    {
     "data": {
      "text/plain": [
       "type structure =\n",
       "    S of string\n",
       "  | V of var\n",
       "  | L of table\n",
       "  | T of term\n",
       "  | C of clause\n",
       "  | W of clause list\n",
       "  | P of string\n",
       "  | TL of term list\n"
      ]
     },
     "execution_count": 3,
     "metadata": {},
     "output_type": "execute_result"
    }
   ],
   "source": [
    "type structure = S of string | V of var | L of table | T of term | C of clause \n",
    "                | W of clause list | P of string | TL of term list \n"
   ]
  },
  {
   "cell_type": "code",
   "execution_count": 4,
   "metadata": {},
   "outputs": [
    {
     "data": {
      "text/plain": [
       "val to_list : string -> char list = <fun>\n"
      ]
     },
     "execution_count": 4,
     "metadata": {},
     "output_type": "execute_result"
    },
    {
     "data": {
      "text/plain": [
       "val remove_spaces : char list -> char list = <fun>\n"
      ]
     },
     "execution_count": 4,
     "metadata": {},
     "output_type": "execute_result"
    },
    {
     "data": {
      "text/plain": [
       "val ( |> ) : 'a -> ('a -> 'b) -> 'b = <fun>\n"
      ]
     },
     "execution_count": 4,
     "metadata": {},
     "output_type": "execute_result"
    },
    {
     "data": {
      "text/plain": [
       "val of_char : char -> string = <fun>\n"
      ]
     },
     "execution_count": 4,
     "metadata": {},
     "output_type": "execute_result"
    }
   ],
   "source": [
    "let to_list str = List.init (String.length str) (String.get str);;\n",
    "let rec remove_spaces = function\n",
    "| [] -> []\n",
    "| (' ' | '\\t' | '\\n')::l -> remove_spaces l\n",
    "| a::l -> a::(remove_spaces l);;\n",
    "let (|>) a b = b a;;\n",
    "let of_char c = String.make 1 c;;"
   ]
  },
  {
   "cell_type": "code",
   "execution_count": 5,
   "metadata": {},
   "outputs": [
    {
     "data": {
      "text/plain": [
       "val ( <+> ) : ('a -> 'b list) -> ('a -> 'b list) -> 'a -> 'b list = <fun>\n"
      ]
     },
     "execution_count": 5,
     "metadata": {},
     "output_type": "execute_result"
    },
    {
     "data": {
      "text/plain": [
       "val chain : 'a list -> ('b * 'a list) list -> ('b * 'a list) list = <fun>\n"
      ]
     },
     "execution_count": 5,
     "metadata": {},
     "output_type": "execute_result"
    },
    {
     "data": {
      "text/plain": [
       "val ( *~* ) :\n",
       "  ('a -> ('b * 'c list) list) ->\n",
       "  ('b -> ('d * 'c list) list) -> 'a -> ('d * 'c list) list = <fun>\n"
      ]
     },
     "execution_count": 5,
     "metadata": {},
     "output_type": "execute_result"
    },
    {
     "data": {
      "text/plain": [
       "val ( >~> ) : ('a -> ('b * 'c) list) -> ('c -> 'd) -> 'a -> ('b * 'd) list =\n",
       "  <fun>\n"
      ]
     },
     "execution_count": 5,
     "metadata": {},
     "output_type": "execute_result"
    },
    {
     "data": {
      "text/plain": [
       "val skip : 'a -> 'b list = <fun>\n"
      ]
     },
     "execution_count": 5,
     "metadata": {},
     "output_type": "execute_result"
    },
    {
     "data": {
      "text/plain": [
       "val fix : (('a -> 'b) -> 'a -> 'b) -> 'a -> 'b = <fun>\n"
      ]
     },
     "execution_count": 5,
     "metadata": {},
     "output_type": "execute_result"
    }
   ],
   "source": [
    "let ( <+> ) ra rb = fun l -> (ra l) @ (rb l)\n",
    "\n",
    "let chain y l = List.map (fun (a, b) -> (a, y@b)) l\n",
    "\n",
    "let ( *~* ) ra rb = \n",
    "let chain y l = List.map (fun (a, b) -> (a, y@b)) l in\n",
    "                    fun l -> List.concat (\n",
    "                        List.map (fun (x, y) -> chain y (rb x)) (ra l)\n",
    "                    )\n",
    "                    \n",
    "let ( >~> ) ra f = fun l -> List.map (fun (a, b) -> (a, f b)) (ra l)\n",
    "\n",
    "let skip = fun l -> []\n",
    "                    \n",
    "let fix aux = let rec g x = aux g x in g"
   ]
  },
  {
   "cell_type": "code",
   "execution_count": 6,
   "metadata": {},
   "outputs": [
    {
     "data": {
      "text/plain": [
       "type var = Id of string * int\n"
      ]
     },
     "execution_count": 6,
     "metadata": {},
     "output_type": "execute_result"
    },
    {
     "data": {
      "text/plain": [
       "type table = Empty | NonEmpty of term * table\n",
       "and term = Var of var | Predicate of string * term list | Table of table\n"
      ]
     },
     "execution_count": 6,
     "metadata": {},
     "output_type": "execute_result"
    },
    {
     "data": {
      "text/plain": [
       "type clause = Clause of term * term list\n"
      ]
     },
     "execution_count": 6,
     "metadata": {},
     "output_type": "execute_result"
    },
    {
     "data": {
      "text/plain": [
       "type structure =\n",
       "    S of string\n",
       "  | V of var\n",
       "  | L of table\n",
       "  | T of term\n",
       "  | C of clause\n",
       "  | W of clause list\n",
       "  | P of string\n",
       "  | TL of term list\n"
      ]
     },
     "execution_count": 6,
     "metadata": {},
     "output_type": "execute_result"
    },
    {
     "data": {
      "text/plain": [
       "val rlow : char list -> (char list * structure list) list = <fun>\n"
      ]
     },
     "execution_count": 6,
     "metadata": {},
     "output_type": "execute_result"
    },
    {
     "data": {
      "text/plain": [
       "val rup : char list -> (char list * structure list) list = <fun>\n"
      ]
     },
     "execution_count": 6,
     "metadata": {},
     "output_type": "execute_result"
    },
    {
     "data": {
      "text/plain": [
       "val rsym : char -> char list -> (char list * structure list) list = <fun>\n"
      ]
     },
     "execution_count": 6,
     "metadata": {},
     "output_type": "execute_result"
    },
    {
     "data": {
      "text/plain": [
       "val rchar : char list -> (char list * structure list) list = <fun>\n"
      ]
     },
     "execution_count": 6,
     "metadata": {},
     "output_type": "execute_result"
    },
    {
     "data": {
      "text/plain": [
       "val rmot : char list -> (char list * structure list) list = <fun>\n"
      ]
     },
     "execution_count": 6,
     "metadata": {},
     "output_type": "execute_result"
    },
    {
     "data": {
      "text/plain": [
       "val variable : char list -> (char list * structure list) list = <fun>\n"
      ]
     },
     "execution_count": 6,
     "metadata": {},
     "output_type": "execute_result"
    },
    {
     "data": {
      "text/plain": [
       "val predicate : char list -> (char list * structure list) list = <fun>\n"
      ]
     },
     "execution_count": 6,
     "metadata": {},
     "output_type": "execute_result"
    },
    {
     "data": {
      "text/plain": [
       "val term : char list -> (char list * structure list) list = <fun>\n",
       "val termlist : char list -> (char list * structure list) list = <fun>\n"
      ]
     },
     "execution_count": 6,
     "metadata": {},
     "output_type": "execute_result"
    },
    {
     "data": {
      "text/plain": [
       "val clause : char list -> (char list * structure list) list = <fun>\n"
      ]
     },
     "execution_count": 6,
     "metadata": {},
     "output_type": "execute_result"
    },
    {
     "data": {
      "text/plain": [
       "val programme : char list -> (char list * structure list) list = <fun>\n"
      ]
     },
     "execution_count": 6,
     "metadata": {},
     "output_type": "execute_result"
    },
    {
     "data": {
      "text/plain": [
       "val check : ('a -> ('b list * 'c) list) -> 'a -> 'c = <fun>\n"
      ]
     },
     "execution_count": 6,
     "metadata": {},
     "output_type": "execute_result"
    },
    {
     "data": {
      "text/plain": [
       "val parse_program : string -> clause list = <fun>\n"
      ]
     },
     "execution_count": 6,
     "metadata": {},
     "output_type": "execute_result"
    }
   ],
   "source": [
    "let rlow = function\n",
    "| ('a'..'z' as c)::l -> [l, [S (of_char c)]]\n",
    "| _ -> []\n",
    "\n",
    "let rup = function\n",
    "| ('A'..'Z' as c)::l -> [l, [S (of_char c)]]\n",
    "| _ -> []\n",
    "\n",
    "let rsym s = function\n",
    "| h::t when s = h -> [t, [S (of_char s)]]\n",
    "| _ -> []\n",
    "\n",
    "let rchar = function\n",
    "| ('a'..'z' | 'A'..'Z' | '0'..'9' | '_' as c)::t -> [t, [S (of_char c)]]\n",
    "| _ -> []\n",
    "\n",
    "let rmot =\n",
    "let aux self = rchar \n",
    "            <+> rchar *~* self >~> (function | [S s; S s'] -> [S (s^s')] | l -> l)\n",
    "in fix aux\n",
    "\n",
    "let variable = \n",
    "    rup >~> (function | [S s] -> [V (Id (s,0) )] | l -> l)\n",
    "<+> rup *~* rmot >~> (function | [S s; S s'] -> [V (Id ((s^s'),0) )] | l -> l)\n",
    "\n",
    "let predicate = rlow >~> (function | [S s] -> [P s] | l -> l)\n",
    "                <+> rlow *~* rmot >~> (function | [S s; S s'] -> [P (s^s')] | l -> l)\n",
    "                \n",
    "let rec term l = (\n",
    "    variable >~> (function | [V s] -> [T (Var s)] | l -> l)\n",
    "<+> predicate >~> (function | [P s] -> [T (Predicate (s,[]))] | l -> l)\n",
    "<+> predicate *~* (rsym '(' >~> skip) *~* termlist *~* (rsym ')' >~> skip) \n",
    "        >~> (function | [P s; TL tl] -> [T (Predicate (s, tl))] | l -> l)\n",
    ") l\n",
    "and termlist l = (\n",
    "term >~> (function | [T t] -> [TL [t]] | l -> l)\n",
    "<+> term *~* (rsym ',' >~> skip) *~* termlist >~> (function | [T t; TL tl] -> [TL (t::tl)] | l -> l)\n",
    ") l\n",
    "\n",
    "let clause = term *~* (rsym '.' >~> skip) >~> (function | [T t] -> [C (Clause (t,[]))] | l -> l)\n",
    "            <+> term *~* (rsym ':' *~* rsym '-' >~> skip) *~* termlist *~* (rsym '.' >~> skip)\n",
    "                    >~> (function | [T t; TL tl] -> [C (Clause (t,tl))] | l -> l)\n",
    "let programme =\n",
    "let aux self = clause >~> (function | [C c] -> [W [c]] | l -> l)\n",
    "            <+> clause *~* self >~> (function | [C c; W cl] -> [W (c::cl)]| l -> l)\n",
    "in fix aux\n",
    "\n",
    "let check r l = \n",
    "let aux = function\n",
    "| [], result -> Some result\n",
    "| _ -> None\n",
    "in match List.filter_map aux (r l) with\n",
    "| [] -> failwith \"Parsing failed\"\n",
    "| [a] -> a\n",
    "| _ -> failwith \"Ambiguous grammar\";;\n",
    "\n",
    "let parse_program s = match (s |> to_list |> remove_spaces |> (check programme)) with\n",
    "| [W w] -> w\n",
    "| _ -> failwith \"input is not a program\""
   ]
  },
  {
   "cell_type": "markdown",
   "metadata": {},
   "source": [
    "# Algorithme d'unification"
   ]
  },
  {
   "cell_type": "code",
   "execution_count": 7,
   "metadata": {},
   "outputs": [
    {
     "ename": "error",
     "evalue": "compile_error",
     "output_type": "error",
     "traceback": [
      "File \"[7]\", line 4, characters 2-6:\n4 | | Term (_, l) -> List.mem true (List.map (var_in_term v) l)\n      ^^^^\nError: This variant pattern is expected to have type term\n       The constructor Term does not belong to type term\n"
     ]
    }
   ],
   "source": [
    "(* Teste si une variable est dans un terme *)\n",
    "let rec var_in_term v = function\n",
    "| Var w -> v = w\n",
    "| Term (_, l) -> List.mem true (List.map (var_in_term v) l)\n",
    "| PList Empty -> false\n",
    "| PList (PLCons (l, t)) -> List.mem true (List.map (var_in_term v) l) || var_in_term v t;;\n",
    "\n",
    "var_in_term (VarT (\"P\", 0)) (parser_term \"[A,[B,Z],C | [E | P] ]\");;"
   ]
  },
  {
   "cell_type": "code",
   "execution_count": 14,
   "metadata": {},
   "outputs": [
    {
     "data": {
      "text/plain": [
       "val replace_var_in_term : var -> term -> term -> term = <fun>\n"
      ]
     },
     "execution_count": 14,
     "metadata": {},
     "output_type": "execute_result"
    },
    {
     "data": {
      "text/plain": [
       "- : term =\n",
       "Term (\"etudiant_de\",\n",
       " [PList\n",
       "   (PLCons ([Var (VarT (\"E\", 0)); Var (VarT (\"B\", 0))], Term (\"pierre\", [])));\n",
       "  Var (VarT (\"P\", 0))])\n"
      ]
     },
     "execution_count": 14,
     "metadata": {},
     "output_type": "execute_result"
    }
   ],
   "source": [
    "(* Remplace une variable par un nouveau terme, récursivement à l'intérieur d'un terme *)\n",
    "let rec replace_var_in_term var new_t = function\n",
    "| Var v when v = var -> new_t\n",
    "| Var v -> Var v\n",
    "| Term (a , l) -> Term (a, List.map (replace_var_in_term var new_t) l)\n",
    "| PList Empty -> PList Empty\n",
    "| PList (PLCons (l, t)) -> PList \n",
    "(PLCons ((List.map (replace_var_in_term var new_t) l), (replace_var_in_term  var new_t t)));;\n",
    "\n",
    "replace_var_in_term (VarL (\"E\",0)) (parser_term \"pierre\") (parser_term \"etudiant_de([E,B | E],P)\");;"
   ]
  },
  {
   "cell_type": "code",
   "execution_count": 15,
   "metadata": {},
   "outputs": [
    {
     "data": {
      "text/plain": [
       "val var_in_eql : var -> (term * term) list -> bool = <fun>\n"
      ]
     },
     "execution_count": 15,
     "metadata": {},
     "output_type": "execute_result"
    },
    {
     "data": {
      "text/plain": [
       "val replace_var_in_eql :\n",
       "  var -> term -> (term * term) list -> (term * term) list = <fun>\n"
      ]
     },
     "execution_count": 15,
     "metadata": {},
     "output_type": "execute_result"
    }
   ],
   "source": [
    "(* Teste si une variable est dans une liste de couples de termes *)\n",
    "let var_in_eql v e = List.mem true (List.map (function t -> var_in_term v (fst t) || var_in_term v (snd t)) e);;\n",
    "\n",
    "(* Remplace une variable par un nouveau terme, à l'intérieur d'une liste de couples de termes *)\n",
    "let replace_var_in_eql var new_t eql = \n",
    "List.map (function (a, b) -> (replace_var_in_term var new_t a), (replace_var_in_term var new_t b)) eql;;"
   ]
  },
  {
   "cell_type": "code",
   "execution_count": 16,
   "metadata": {},
   "outputs": [
    {
     "name": "stderr",
     "output_type": "stream",
     "text": [
      "File \"[16]\", line 5, characters 23-712:\n",
      " 5 | .......................function\n",
      " 6 |     | [] -> Some tmp\n",
      " 7 |     \n",
      " 8 |     | (Term (f, lf), Term (g, lg))::l when f = g && List.length lf = List.length lg -> \n",
      " 9 |         pass ((List.map2 (fun a b -> a,b) lf lg)@tmp) l\n",
      "...\n",
      "18 |         if var_in_term x t then None (* failwith \"Unification failed, loop\" *)\n",
      "19 |         else pass ((Var x, t)::(replace_var_in_eql x t tmp)) (replace_var_in_eql x t l)\n",
      "20 |         \n",
      "21 |     | (Var x, t)::l -> pass ((Var x, t)::tmp) l\n",
      "Warning 8: this pattern-matching is not exhaustive.\n",
      "Here is an example of a case that is not matched:\n",
      "((Term (_, _), PList _)::_|(PList _, _)::_)\n"
     ]
    },
    {
     "data": {
      "text/plain": [
       "val solve : (term * term) list -> (term * term) list option = <fun>\n"
      ]
     },
     "execution_count": 16,
     "metadata": {},
     "output_type": "execute_result"
    }
   ],
   "source": [
    "(* E est une liste de couples de termes *)\n",
    "(* transforme E en un équivalent sous forme résolue (type option, None si impossible) *) \n",
    "let rec solve e =\n",
    "    (* Parcourt une fois l'ensemble des équations *)\n",
    "    let rec pass tmp = function\n",
    "    | [] -> Some tmp\n",
    "    \n",
    "    | (Term (f, lf), Term (g, lg))::l when f = g && List.length lf = List.length lg -> \n",
    "        pass ((List.map2 (fun a b -> a,b) lf lg)@tmp) l\n",
    "        \n",
    "    | (Term (_, _), Term (_, _))::l -> None (* failwith \"Unification failed\" *)\n",
    "    \n",
    "    | (Var x, Var y)::l when x = y -> pass tmp l\n",
    "    \n",
    "    | (Term (a, la), Var x)::l -> pass ((Var x, Term (a, la))::tmp) l\n",
    "    \n",
    "    | (Var x, t)::l when var_in_eql x tmp || var_in_eql x l -> \n",
    "        if var_in_term x t then None (* failwith \"Unification failed, loop\" *)\n",
    "        else pass ((Var x, t)::(replace_var_in_eql x t tmp)) (replace_var_in_eql x t l)\n",
    "        \n",
    "    | (Var x, t)::l -> pass ((Var x, t)::tmp) l\n",
    "    \n",
    "in match (pass [] e) with \n",
    "| None -> None\n",
    "| Some eqlpp -> let b = List.sort_uniq compare eqlpp in if e = b then Some e else solve b;;"
   ]
  },
  {
   "cell_type": "code",
   "execution_count": 17,
   "metadata": {},
   "outputs": [
    {
     "data": {
      "text/plain": [
       "- : (term * term) list option =\n",
       "Some [(Var (VarT (\"E\", 0)), Var (VarT (\"S\", 0)))]\n"
      ]
     },
     "execution_count": 17,
     "metadata": {},
     "output_type": "execute_result"
    }
   ],
   "source": [
    "solve [parser_term \"etudiant_de(E, P)\", parser_term \"etudiant_de(S, P)\"];; (* E = S *)"
   ]
  },
  {
   "cell_type": "code",
   "execution_count": 18,
   "metadata": {},
   "outputs": [
    {
     "name": "stderr",
     "output_type": "stream",
     "text": [
      "File \"[18]\", line 4, characters 26-162:\n",
      "4 | ..........................function\n",
      "5 |     | Var x, Term (a, l) -> x, Term (a, l)\n",
      "6 |     | Var x, Var y -> x, Var y\n",
      "7 |     | Term (_, _), _ -> failwith \"Should not happen.\"\n",
      "Warning 8: this pattern-matching is not exhaustive.\n",
      "Here is an example of a case that is not matched:\n",
      "((Var _, PList _)|(PList _, _))\n"
     ]
    },
    {
     "data": {
      "text/plain": [
       "val mgu : term -> term -> (var * term) list option = <fun>\n"
      ]
     },
     "execution_count": 18,
     "metadata": {},
     "output_type": "execute_result"
    }
   ],
   "source": [
    "(* Prend 2 terme et renvoie l'unifieur le plus général s'il existe, None sinon. \n",
    "Attention, aucune variable ne doit être présente dans (r) la requête et dans (c) la tête de la clause *)\n",
    "\n",
    "let rec mgu r c = let f = function\n",
    "    | Var x, Term (a, l) -> x, Term (a, l)\n",
    "    | Var x, Var y -> x, Var y\n",
    "    | Term (_, _), _ -> failwith \"Should not happen.\"\n",
    "in match solve [r, c] with\n",
    "| None -> None\n",
    "| Some e -> Some (List.map f e);;"
   ]
  },
  {
   "cell_type": "code",
   "execution_count": 19,
   "metadata": {},
   "outputs": [
    {
     "data": {
      "text/plain": [
       "val test_unification : string -> string -> (var * term) list option = <fun>\n"
      ]
     },
     "execution_count": 19,
     "metadata": {},
     "output_type": "execute_result"
    },
    {
     "data": {
      "text/plain": [
       "- : (var * term) list option =\n",
       "Some\n",
       " [(VarT (\"E\", 0), Var (VarT (\"F\", 0))); (VarT (\"P\", 0), Term (\"pierre\", []))]\n"
      ]
     },
     "execution_count": 19,
     "metadata": {},
     "output_type": "execute_result"
    },
    {
     "data": {
      "text/plain": [
       "- : (var * term) list option =\n",
       "Some\n",
       " [(VarT (\"F\", 0), Var (VarT (\"E\", 0))); (VarT (\"P\", 0), Term (\"pierre\", []))]\n"
      ]
     },
     "execution_count": 19,
     "metadata": {},
     "output_type": "execute_result"
    },
    {
     "data": {
      "text/plain": [
       "- : (var * term) list option =\n",
       "Some\n",
       " [(VarT (\"X\", 0), Term (\"g\", [Term (\"g\", [Var (VarT (\"Y\", 0))])]));\n",
       "  (VarT (\"Z\", 0), Term (\"g\", [Var (VarT (\"Y\", 0))]))]\n"
      ]
     },
     "execution_count": 19,
     "metadata": {},
     "output_type": "execute_result"
    },
    {
     "data": {
      "text/plain": [
       "- : (var * term) list option =\n",
       "Some\n",
       " [(VarT (\"X\", 0), Term (\"g\", [Term (\"g\", [Var (VarT (\"Y\", 0))])]));\n",
       "  (VarT (\"Z\", 0), Term (\"g\", [Var (VarT (\"Y\", 0))]))]\n"
      ]
     },
     "execution_count": 19,
     "metadata": {},
     "output_type": "execute_result"
    }
   ],
   "source": [
    "(* La fonction test_unification a pour but de tester mgu *)\n",
    "let test_unification str_r str_c = mgu (parser_term str_r) (parser_term str_c);;\n",
    "\n",
    "test_unification \"etudiant_de(E, pierre)\" \"etudiant_de(F,P)\";; (* F/E et P/pierre *)\n",
    "\n",
    "test_unification \"etudiant_de(F,P)\" \"etudiant_de(E, pierre)\";; (* E/F et P/pierre *)\n",
    "\n",
    "test_unification \"f(X,g(Y))\" \"f(g(Z),Z)\";; (* X/g(g(Y)) et Z/g(Y) *)\n",
    "\n",
    "test_unification \"f(g(Z),Z)\" \"f(X,g(Y))\";; (* X/g(g(Y)) et Z/g(Y) *)"
   ]
  },
  {
   "cell_type": "markdown",
   "metadata": {},
   "source": [
    "# Algorithme de backtracking"
   ]
  },
  {
   "cell_type": "code",
   "execution_count": 20,
   "metadata": {},
   "outputs": [
    {
     "data": {
      "text/plain": [
       "val apply_subst_on_term : (var * term) list -> term -> term = <fun>\n"
      ]
     },
     "execution_count": 20,
     "metadata": {},
     "output_type": "execute_result"
    },
    {
     "data": {
      "text/plain": [
       "val apply_subst_on_termlist : (var * term) list -> term list -> term list =\n",
       "  <fun>\n"
      ]
     },
     "execution_count": 20,
     "metadata": {},
     "output_type": "execute_result"
    }
   ],
   "source": [
    "(* Applique une substitution sur un terme *)\n",
    "let rec apply_subst_on_term uni term = match uni with\n",
    "| [] -> term\n",
    "| (v,t)::l -> apply_subst_on_term l (replace_var_in_term v t term);;\n",
    "\n",
    "(* Applique une substitution sur une liste de termes *)\n",
    "let rec apply_subst_on_termlist uni lst = List.map (apply_subst_on_term uni) lst;;"
   ]
  },
  {
   "cell_type": "code",
   "execution_count": 21,
   "metadata": {},
   "outputs": [
    {
     "name": "stderr",
     "output_type": "stream",
     "text": [
      "File \"[21]\", line 3, characters 12-110:\n",
      "3 | ............function \n",
      "4 | | Var (VarT (str, _)) -> Var (VarT (str, n))\n",
      "5 | | Term (atm, l) -> Term (atm, List.map f l)\n",
      "Warning 8: this pattern-matching is not exhaustive.\n",
      "Here is an example of a case that is not matched:\n",
      "(Var (VarL (_, _))|PList _)\n"
     ]
    },
    {
     "data": {
      "text/plain": [
       "val rename : int -> clause -> clause = <fun>\n"
      ]
     },
     "execution_count": 21,
     "metadata": {},
     "output_type": "execute_result"
    },
    {
     "data": {
      "text/plain": [
       "- : clause =\n",
       "Clause (Term (\"etudiant_de\", [Var (VarT (\"E\", 42)); Var (VarT (\"P\", 42))]),\n",
       " [Term (\"apprend\", [Var (VarT (\"E\", 42)); Var (VarT (\"M\", 42))]);\n",
       "  Term (\"enseigne\", [Var (VarT (\"P\", 42)); Var (VarT (\"M\", 42))])])\n"
      ]
     },
     "execution_count": 21,
     "metadata": {},
     "output_type": "execute_result"
    }
   ],
   "source": [
    "(* Prend un entier et une clause, renvoie la clause avec les variables renommées à l'entier *)\n",
    "let rename n (Clause (t1, tl)) = \n",
    "let rec f = function \n",
    "| Var (VarT (str, _)) -> Var (VarT (str, n))\n",
    "| Term (atm, l) -> Term (atm, List.map f l)\n",
    "in Clause (f t1, List.map f tl);;\n",
    "\n",
    "rename 42 (parser_clause \"etudiant_de(E,P):-apprend(E,M), enseigne(P,M)\");;"
   ]
  },
  {
   "cell_type": "code",
   "execution_count": 22,
   "metadata": {},
   "outputs": [
    {
     "data": {
      "text/plain": [
       "type 'a tree = Leaf of 'a | Node of 'a tree Lazy.t list\n"
      ]
     },
     "execution_count": 22,
     "metadata": {},
     "output_type": "execute_result"
    },
    {
     "data": {
      "text/plain": [
       "val sld_tree :\n",
       "  clause list ->\n",
       "  term list -> (var * term) list list -> int -> (var * term) list list tree =\n",
       "  <fun>\n"
      ]
     },
     "execution_count": 22,
     "metadata": {},
     "output_type": "execute_result"
    }
   ],
   "source": [
    "type 'a tree = Leaf of 'a | Node of (('a tree) Lazy.t) list;;\n",
    "\n",
    "(* La fonction de recherche, renvoie l'arbre des solutions *)\n",
    "let rec sld_tree world req subs n = match req with\n",
    "| [] -> Leaf subs \n",
    "| head_request_term::other_request_terms -> \n",
    "    Node (List.filter_map (fun c -> let Clause (left_member, right_member) = rename n c in \n",
    "    (match mgu head_request_term left_member with\n",
    "        | None -> None\n",
    "        | Some unifier -> Some (lazy (sld_tree world \n",
    "            (apply_subst_on_termlist unifier (right_member@other_request_terms)) \n",
    "            (unifier::subs) (n+1)))\n",
    "    )) world);;"
   ]
  },
  {
   "cell_type": "code",
   "execution_count": 23,
   "metadata": {},
   "outputs": [
    {
     "data": {
      "text/plain": [
       "val compose : (var * term) list list -> (var * term) list = <fun>\n"
      ]
     },
     "execution_count": 23,
     "metadata": {},
     "output_type": "execute_result"
    },
    {
     "name": "stderr",
     "output_type": "stream",
     "text": [
      "File \"[23]\", line 8, characters 0-70:\n",
      " 8 | (function \n",
      " 9 | | Var v -> [Var v]\n",
      "10 | | Term (_,l) -> find_vars_in_termlist l).\n",
      "Warning 8: this pattern-matching is not exhaustive.\n",
      "Here is an example of a case that is not matched:\n",
      "PList _\n"
     ]
    },
    {
     "data": {
      "text/plain": [
       "val find_vars_in_termlist : term list -> term list = <fun>\n"
      ]
     },
     "execution_count": 23,
     "metadata": {},
     "output_type": "execute_result"
    }
   ],
   "source": [
    "(* Compose correctement la liste de substitutions *)\n",
    "let compose l = \n",
    "let compose2 s1 s2 = s1@(List.map (function (v2, lt2) -> (v2, apply_subst_on_term s1 lt2)) s2)\n",
    "in List.fold_left compose2 [] l;;\n",
    "\n",
    "(* Recherche les termes qui sont des variables récursivement dans une liste de termes *)\n",
    "let rec find_vars_in_termlist tl = List.sort_uniq compare (List.concat (List.map \n",
    "(function \n",
    "| Var v -> [Var v]\n",
    "| Term (_,l) -> find_vars_in_termlist l) \n",
    "tl));;"
   ]
  },
  {
   "cell_type": "code",
   "execution_count": 24,
   "metadata": {},
   "outputs": [
    {
     "data": {
      "text/plain": [
       "val list_to_seq : 'a list -> 'a Seq.t = <fun>\n"
      ]
     },
     "execution_count": 24,
     "metadata": {},
     "output_type": "execute_result"
    },
    {
     "data": {
      "text/plain": [
       "val to_seq : 'a tree -> 'a Seq.t = <fun>\n"
      ]
     },
     "execution_count": 24,
     "metadata": {},
     "output_type": "execute_result"
    },
    {
     "data": {
      "text/plain": [
       "val solutions : clause list -> string -> (term list * term list) Seq.t =\n",
       "  <fun>\n"
      ]
     },
     "execution_count": 24,
     "metadata": {},
     "output_type": "execute_result"
    },
    {
     "data": {
      "text/plain": [
       "val request : clause list -> string -> unit = <fun>\n"
      ]
     },
     "execution_count": 24,
     "metadata": {},
     "output_type": "execute_result"
    }
   ],
   "source": [
    "let list_to_seq l = List.fold_right (fun x s -> (fun ()->Seq.Cons(x, s)) ) l Seq.empty;;\n",
    "\n",
    "let rec to_seq = function\n",
    "| Leaf str -> Seq.return str\n",
    "| Node tl -> Seq.flat_map (fun par -> to_seq (Lazy.force par)) (list_to_seq tl);;\n",
    "\n",
    "let solutions world req = let tree = sld_tree world (parser_term_list req) [] 1 in \n",
    "let vars = (find_vars_in_termlist (parser_term_list req)) in\n",
    "Seq.map  (fun l -> vars, apply_subst_on_termlist (compose l) vars) (to_seq tree);;\n",
    "\n",
    "let request world req = let sol = solutions world req in\n",
    "if sol () = Seq.Nil then Format.printf \"This is false.\\n%!\"\n",
    "else Seq.iter (fun (vars, tl) -> \n",
    "if vars = [] then Format.printf \"This is True.\\n%!\"\n",
    "else Format.printf \"There is : %s\\n%!\"\n",
    "(String.concat \", \" (List.map2 (fun v t -> (term_to_string v) ^ \" = \" ^ (term_to_string t)) vars tl))\n",
    ") sol;;"
   ]
  },
  {
   "cell_type": "markdown",
   "metadata": {},
   "source": [
    "# Essais de l'implémentation"
   ]
  },
  {
   "cell_type": "markdown",
   "metadata": {},
   "source": [
    "## Tests basiques... des élèves, des cours et des professeurs"
   ]
  },
  {
   "cell_type": "code",
   "execution_count": 25,
   "metadata": {
    "scrolled": true
   },
   "outputs": [
    {
     "data": {
      "text/plain": [
       "val program : string =\n",
       "  \"apprend(eve, mathematiques).\\napprend(benjamin, informatique).\\napprend(benjamin, physique).\\nenseigne(alice, physique).\\nenseigne(pierre, mathematiques).\\nenseigne(pierre, informatique).\\netudiant_de(E,P):-apprend(E,M), enseigne(P,M).\\n\"\n"
      ]
     },
     "execution_count": 25,
     "metadata": {},
     "output_type": "execute_result"
    },
    {
     "data": {
      "text/plain": [
       "- : token list =\n",
       "[TPred \"apprend\"; TLPar; TPred \"eve\"; TAnd; TPred \"mathematiques\"; TRPar;\n",
       " TDot; TPred \"apprend\"; TLPar; TPred \"benjamin\"; TAnd; TPred \"informatique\";\n",
       " TRPar; TDot; TPred \"apprend\"; TLPar; TPred \"benjamin\"; TAnd;\n",
       " TPred \"physique\"; TRPar; TDot; TPred \"enseigne\"; TLPar; TPred \"alice\"; TAnd;\n",
       " TPred \"physique\"; TRPar; TDot; TPred \"enseigne\"; TLPar; TPred \"pierre\";\n",
       " TAnd; TPred \"mathematiques\"; TRPar; TDot; TPred \"enseigne\"; TLPar;\n",
       " TPred \"pierre\"; TAnd; TPred \"informatique\"; TRPar; TDot;\n",
       " TPred \"etudiant_de\"; TLPar; TVar \"E\"; TAnd; TVar \"P\"; TRPar; TIf;\n",
       " TPred \"apprend\"; TLPar; TVar \"E\"; TAnd; TVar \"M\"; TRPar; TAnd;\n",
       " TPred \"enseigne\"; TLPar; TVar \"P\"; TAnd; TVar \"M\"; TRPar; TDot]\n"
      ]
     },
     "execution_count": 25,
     "metadata": {},
     "output_type": "execute_result"
    }
   ],
   "source": [
    "let program = \"apprend(eve, mathematiques).\n",
    "apprend(benjamin, informatique).\n",
    "apprend(benjamin, physique).\n",
    "enseigne(alice, physique).\n",
    "enseigne(pierre, mathematiques).\n",
    "enseigne(pierre, informatique).\n",
    "etudiant_de(E,P):-apprend(E,M), enseigne(P,M).\n",
    "\";;\n",
    "\n",
    "lexer program;;"
   ]
  },
  {
   "cell_type": "code",
   "execution_count": 25,
   "metadata": {
    "scrolled": true
   },
   "outputs": [
    {
     "data": {
      "text/plain": [
       "val program : string =\n",
       "  \"apprend(eve, mathematiques).\\napprend(benjamin, informatique).\\napprend(benjamin, physique).\\nenseigne(alice, physique).\\nenseigne(pierre, mathematiques).\\nenseigne(pierre, informatique).\\netudiant_de(E,P):-apprend(E,M), enseigne(P,M).\\n\"\n"
      ]
     },
     "execution_count": 25,
     "metadata": {},
     "output_type": "execute_result"
    },
    {
     "data": {
      "text/plain": [
       "- : token list =\n",
       "[TAtom \"apprend\"; TLPar; TAtom \"eve\"; TAnd; TAtom \"mathematiques\"; TRPar;\n",
       " TDot; TAtom \"apprend\"; TLPar; TAtom \"benjamin\"; TAnd; TAtom \"informatique\";\n",
       " TRPar; TDot; TAtom \"apprend\"; TLPar; TAtom \"benjamin\"; TAnd;\n",
       " TAtom \"physique\"; TRPar; TDot; TAtom \"enseigne\"; TLPar; TAtom \"alice\"; TAnd;\n",
       " TAtom \"physique\"; TRPar; TDot; TAtom \"enseigne\"; TLPar; TAtom \"pierre\";\n",
       " TAnd; TAtom \"mathematiques\"; TRPar; TDot; TAtom \"enseigne\"; TLPar;\n",
       " TAtom \"pierre\"; TAnd; TAtom \"informatique\"; TRPar; TDot;\n",
       " TAtom \"etudiant_de\"; TLPar; TVar \"E\"; TAnd; TVar \"P\"; TRPar; TIf;\n",
       " TAtom \"apprend\"; TLPar; TVar \"E\"; TAnd; TVar \"M\"; TRPar; TAnd;\n",
       " TAtom \"enseigne\"; TLPar; TVar \"P\"; TAnd; TVar \"M\"; TRPar; TDot]\n"
      ]
     },
     "execution_count": 25,
     "metadata": {},
     "output_type": "execute_result"
    },
    {
     "data": {
      "text/plain": [
       "- : token list list =\n",
       "[[TAtom \"apprend\"; TLPar; TAtom \"eve\"; TAnd; TAtom \"mathematiques\"; TRPar];\n",
       " [TAtom \"apprend\"; TLPar; TAtom \"benjamin\"; TAnd; TAtom \"informatique\";\n",
       "  TRPar];\n",
       " [TAtom \"apprend\"; TLPar; TAtom \"benjamin\"; TAnd; TAtom \"physique\"; TRPar];\n",
       " [TAtom \"enseigne\"; TLPar; TAtom \"alice\"; TAnd; TAtom \"physique\"; TRPar];\n",
       " [TAtom \"enseigne\"; TLPar; TAtom \"pierre\"; TAnd; TAtom \"mathematiques\";\n",
       "  TRPar];\n",
       " [TAtom \"enseigne\"; TLPar; TAtom \"pierre\"; TAnd; TAtom \"informatique\"; TRPar];\n",
       " [TAtom \"etudiant_de\"; TLPar; TVar \"E\"; TAnd; TVar \"P\"; TRPar; TIf;\n",
       "  TAtom \"apprend\"; TLPar; TVar \"E\"; TAnd; TVar \"M\"; TRPar; TAnd;\n",
       "  TAtom \"enseigne\"; TLPar; TVar \"P\"; TAnd; TVar \"M\"; TRPar]]\n"
      ]
     },
     "execution_count": 25,
     "metadata": {},
     "output_type": "execute_result"
    },
    {
     "data": {
      "text/plain": [
       "- : token list * token list =\n",
       "([TAtom \"etudiant_de\"; TLPar; TVar \"E\"; TAnd; TVar \"P\"; TRPar],\n",
       " [TAtom \"apprend\"; TLPar; TVar \"E\"; TAnd; TVar \"M\"; TRPar; TAnd;\n",
       "  TAtom \"enseigne\"; TLPar; TVar \"P\"; TAnd; TVar \"M\"; TRPar])\n"
      ]
     },
     "execution_count": 25,
     "metadata": {},
     "output_type": "execute_result"
    },
    {
     "data": {
      "text/plain": [
       "- : token list list =\n",
       "[[TAtom \"apprend\"; TLPar; TVar \"E\"; TAnd; TVar \"M\"; TRPar];\n",
       " [TAtom \"enseigne\"; TLPar; TVar \"P\"; TAnd; TVar \"M\"; TRPar]]\n"
      ]
     },
     "execution_count": 25,
     "metadata": {},
     "output_type": "execute_result"
    },
    {
     "data": {
      "text/plain": [
       "- : token list list =\n",
       "[[TAtom \"apprend\"; TLPar; TLBra; TVar \"A\"; TAnd; TVar \"B\"; TAnd; TVar \"C\";\n",
       "  TRBra; TRPar];\n",
       " [TAtom \"enseigne\"; TLPar; TLBra; TVar \"B\"; TAnd; TVar \"C\"; TAnd; TVar \"A\";\n",
       "  TRBra; TRPar];\n",
       " [TLBra; TAtom \"a\"; TLPar; TVar \"A\"; TRPar; TAnd; TAtom \"b\"; TLPar; TVar \"B\";\n",
       "  TRPar; TAnd; TAtom \"c\"; TLPar; TVar \"C\"; TRPar; TVert; TLBra; TRBra; TRBra]]\n"
      ]
     },
     "execution_count": 25,
     "metadata": {},
     "output_type": "execute_result"
    },
    {
     "data": {
      "text/plain": [
       "- : token list = [TVar \"E\"; TAnd; TVar \"M\"]\n"
      ]
     },
     "execution_count": 25,
     "metadata": {},
     "output_type": "execute_result"
    },
    {
     "data": {
      "text/plain": [
       "- : token list =\n",
       "[TLPar; TVar \"E\"; TRPar; TAnd; TLBra; TVar \"M\"; TRBra; TAnd; TVar \"A\"]\n"
      ]
     },
     "execution_count": 25,
     "metadata": {},
     "output_type": "execute_result"
    },
    {
     "data": {
      "text/plain": [
       "- : term =\n",
       "Term (\"apprend\", [Term (\"benjamin\", []); Term (\"informatique\", [])])\n"
      ]
     },
     "execution_count": 25,
     "metadata": {},
     "output_type": "execute_result"
    },
    {
     "data": {
      "text/plain": [
       "- : term =\n",
       "PList\n",
       " (PLCons\n",
       "   ([Term (\"benjamin\", []); Term (\"informatique\", []);\n",
       "     PList\n",
       "      (PLCons\n",
       "        ([Var (VarT (\"A\", 0)); Var (VarT (\"B\", 0)); Var (VarT (\"C\", 0))],\n",
       "        Var (VarL (\"T\", 0))))],\n",
       "   PList Empty))\n"
      ]
     },
     "execution_count": 25,
     "metadata": {},
     "output_type": "execute_result"
    },
    {
     "data": {
      "text/plain": [
       "val world1 : clause list =\n",
       "  [Clause (Term (\"apprend\", [Term (\"eve\", []); Term (\"mathematiques\", [])]),\n",
       "    []);\n",
       "   Clause\n",
       "    (Term (\"apprend\", [Term (\"benjamin\", []); Term (\"informatique\", [])]),\n",
       "    []);\n",
       "   Clause (Term (\"apprend\", [Term (\"benjamin\", []); Term (\"physique\", [])]),\n",
       "    []);\n",
       "   Clause (Term (\"enseigne\", [Term (\"alice\", []); Term (\"physique\", [])]),\n",
       "    []);\n",
       "   Clause\n",
       "    (Term (\"enseigne\", [Term (\"pierre\", []); Term (\"mathematiques\", [])]),\n",
       "    []);\n",
       "   Clause\n",
       "    (Term (\"enseigne\", [Term (\"pierre\", []); Term (\"informatique\", [])]), \n",
       "    []);\n",
       "   Clause (Term (\"etudiant_de\", [Var (VarT (\"E\", 0)); Var (VarT (\"P\", 0))]),\n",
       "    [Term (\"apprend\", [Var (VarT (\"E\", 0)); Var (VarT (\"M\", 0))]);\n",
       "     Term (\"enseigne\", [Var (VarT (\"P\", 0)); Var (VarT (\"M\", 0))])])]\n"
      ]
     },
     "execution_count": 25,
     "metadata": {},
     "output_type": "execute_result"
    },
    {
     "data": {
      "text/plain": [
       "- : term =\n",
       "Term (\"apprend\", [Term (\"benjamin\", []); Term (\"informatique\", [])])\n"
      ]
     },
     "execution_count": 25,
     "metadata": {},
     "output_type": "execute_result"
    },
    {
     "data": {
      "text/plain": [
       "- : term list =\n",
       "[Term (\"apprend\", [Var (VarT (\"E\", 0)); Var (VarT (\"M\", 0))]);\n",
       " Term (\"enseigne\", [Var (VarT (\"P\", 0)); Var (VarT (\"M\", 0))])]\n"
      ]
     },
     "execution_count": 25,
     "metadata": {},
     "output_type": "execute_result"
    },
    {
     "data": {
      "text/plain": [
       "- : clause =\n",
       "Clause (Term (\"etudiant_de\", [Var (VarT (\"E\", 0)); Var (VarT (\"P\", 0))]),\n",
       " [Term (\"apprend\", [Var (VarT (\"E\", 0)); Var (VarT (\"M\", 0))]);\n",
       "  Term (\"enseigne\", [Var (VarT (\"P\", 0)); Var (VarT (\"M\", 0))])])\n"
      ]
     },
     "execution_count": 25,
     "metadata": {},
     "output_type": "execute_result"
    }
   ],
   "source": [
    "extract_clauses (lexer program);;\n",
    "\n",
    "extract_rightleft (lexer \"etudiant_de(E,P):-apprend(E,M), enseigne(P,M)\");;\n",
    "\n",
    "extract_term_list_old (lexer \"apprend(E,M), enseigne(P,M)\");;\n",
    "\n",
    "extract_term_list (lexer \"apprend([A,B,C]), enseigne([B,C,A]), [a(A),b(B),c(C) | [] ]\");;\n",
    "\n",
    "inside_parenthesis (lexer \"(E,M)\");;\n",
    "\n",
    "inside_parenthesis (lexer \"[(E),[M],A]\");;\n",
    "\n",
    "tokenlist_to_term (lexer \"apprend(benjamin, informatique)\");;\n",
    "\n",
    "tokenlist_to_term (lexer \"[benjamin, informatique, [A,B,C | T ]]\");;\n",
    "\n",
    "let world1 = parser program;;\n",
    "\n",
    "parser_term \"apprend(benjamin, informatique)\";;\n",
    "\n",
    "parser_term_list \"apprend(E,M), enseigne(P,M)\";;\n",
    "\n",
    "parser_clause \"etudiant_de(E,P):-apprend(E,M), enseigne(P,M)\";;"
   ]
  },
  {
   "cell_type": "code",
   "execution_count": 26,
   "metadata": {},
   "outputs": [
    {
     "name": "stdout",
     "output_type": "stream",
     "text": [
      "There is : E = eve\n",
      "There is : E = benjamin\n"
     ]
    },
    {
     "data": {
      "text/plain": [
       "- : unit = ()\n"
      ]
     },
     "execution_count": 26,
     "metadata": {},
     "output_type": "execute_result"
    }
   ],
   "source": [
    "request world1 \"etudiant_de(E, pierre)\";;"
   ]
  },
  {
   "cell_type": "code",
   "execution_count": 27,
   "metadata": {},
   "outputs": [
    {
     "name": "stdout",
     "output_type": "stream",
     "text": [
      "There is : E = benjamin\n"
     ]
    },
    {
     "data": {
      "text/plain": [
       "- : unit = ()\n"
      ]
     },
     "execution_count": 27,
     "metadata": {},
     "output_type": "execute_result"
    }
   ],
   "source": [
    "request world1 \"etudiant_de(E, pierre), etudiant_de(E, alice)\";;"
   ]
  },
  {
   "cell_type": "code",
   "execution_count": 28,
   "metadata": {},
   "outputs": [
    {
     "name": "stdout",
     "output_type": "stream",
     "text": [
      "There is : A = eve, B = pierre\n",
      "There is : A = benjamin, B = pierre\n",
      "There is : A = benjamin, B = alice\n"
     ]
    },
    {
     "data": {
      "text/plain": [
       "- : unit = ()\n"
      ]
     },
     "execution_count": 28,
     "metadata": {},
     "output_type": "execute_result"
    }
   ],
   "source": [
    "request world1 \"etudiant_de(A, B)\";;"
   ]
  },
  {
   "cell_type": "code",
   "execution_count": 29,
   "metadata": {},
   "outputs": [
    {
     "name": "stdout",
     "output_type": "stream",
     "text": [
      "This is false.\n"
     ]
    },
    {
     "data": {
      "text/plain": [
       "- : unit = ()\n"
      ]
     },
     "execution_count": 29,
     "metadata": {},
     "output_type": "execute_result"
    }
   ],
   "source": [
    "request world1 \"etudiant_de(A, A)\";;"
   ]
  },
  {
   "cell_type": "code",
   "execution_count": 30,
   "metadata": {},
   "outputs": [
    {
     "name": "stdout",
     "output_type": "stream",
     "text": [
      "This is false.\n"
     ]
    },
    {
     "data": {
      "text/plain": [
       "- : unit = ()\n"
      ]
     },
     "execution_count": 30,
     "metadata": {},
     "output_type": "execute_result"
    }
   ],
   "source": [
    "request world1 \"apprend(A, A)\";;"
   ]
  },
  {
   "cell_type": "code",
   "execution_count": 31,
   "metadata": {},
   "outputs": [
    {
     "name": "stdout",
     "output_type": "stream",
     "text": [
      "This is false.\n"
     ]
    },
    {
     "data": {
      "text/plain": [
       "- : unit = ()\n"
      ]
     },
     "execution_count": 31,
     "metadata": {},
     "output_type": "execute_result"
    }
   ],
   "source": [
    "request world1 \"enseigne(A, A)\";;"
   ]
  },
  {
   "cell_type": "code",
   "execution_count": 32,
   "metadata": {},
   "outputs": [
    {
     "name": "stdout",
     "output_type": "stream",
     "text": [
      "This is True.\n"
     ]
    },
    {
     "data": {
      "text/plain": [
       "- : unit = ()\n"
      ]
     },
     "execution_count": 32,
     "metadata": {},
     "output_type": "execute_result"
    }
   ],
   "source": [
    "request world1 \"enseigne(alice, physique)\";;"
   ]
  },
  {
   "cell_type": "code",
   "execution_count": 33,
   "metadata": {},
   "outputs": [
    {
     "name": "stdout",
     "output_type": "stream",
     "text": [
      "This is false.\n"
     ]
    },
    {
     "data": {
      "text/plain": [
       "- : unit = ()\n"
      ]
     },
     "execution_count": 33,
     "metadata": {},
     "output_type": "execute_result"
    }
   ],
   "source": [
    "request world1 \"enseigne(alice, mathematiques)\";; "
   ]
  },
  {
   "cell_type": "markdown",
   "metadata": {},
   "source": [
    "## Le métro londonien"
   ]
  },
  {
   "cell_type": "code",
   "execution_count": 34,
   "metadata": {
    "scrolled": true
   },
   "outputs": [
    {
     "data": {
      "text/plain": [
       "val program : string =\n",
       "  \"\\nconnected(bond_street,oxford_circus,central).\\nconnected(oxford_circus,tottenham_court_road,central).\\nconnected(bond_street,green_park,jubilee).\\nconnected(green_park,charing_cross,jubilee).\\nconnected(green_park,piccadilly_circus,piccadilly).\\nconnected(piccadilly_circus,leicester_square,piccadilly).\"... (* string length 816; truncated *)\n"
      ]
     },
     "execution_count": 34,
     "metadata": {},
     "output_type": "execute_result"
    }
   ],
   "source": [
    "let program = \"\n",
    "connected(bond_street,oxford_circus,central).\n",
    "connected(oxford_circus,tottenham_court_road,central).\n",
    "connected(bond_street,green_park,jubilee).\n",
    "connected(green_park,charing_cross,jubilee).\n",
    "connected(green_park,piccadilly_circus,piccadilly).\n",
    "connected(piccadilly_circus,leicester_square,piccadilly).\n",
    "connected(green_park,oxford_circus,victoria).\n",
    "connected(oxford_circus,piccadilly_circus,bakerloo).\n",
    "connected(piccadilly_circus,charing_cross,bakerloo).\n",
    "connected(tottenham_court_road,leicester_square,northern).\n",
    "connected(leicester_square,charing_cross,northern).\n",
    "\n",
    "nearby(X,Y):-connected(X,Y,L).\n",
    "nearby(X,Y):-connected(X,Z,L),connected(Z,Y,L).\n",
    "\n",
    "reachable(X,Y):-connected(X,Y,L).\n",
    "reachable(X,Y):-connected(X,Z,L),reachable(Z,Y).\n",
    "\n",
    "path(X,Y,noroute):-connected(X,Y,L).\n",
    "path(X,Y,route(Z,R)):-connected(X,Z,L),path(Z,Y,R).\";; (*connected(X,Y,L):-connected(Y,X,L).*)"
   ]
  },
  {
   "cell_type": "code",
   "execution_count": 35,
   "metadata": {
    "scrolled": true
   },
   "outputs": [
    {
     "data": {
      "text/plain": [
       "val world : clause list =\n",
       "  [Clause\n",
       "    (Term (\"connected\",\n",
       "      [Term (\"bond_street\", []); Term (\"oxford_circus\", []);\n",
       "       Term (\"central\", [])]),\n",
       "    []);\n",
       "   Clause\n",
       "    (Term (\"connected\",\n",
       "      [Term (\"oxford_circus\", []); Term (\"tottenham_court_road\", []);\n",
       "       Term (\"central\", [])]),\n",
       "    []);\n",
       "   Clause\n",
       "    (Term (\"connected\",\n",
       "      [Term (\"bond_street\", []); Term (\"green_park\", []);\n",
       "       Term (\"jubilee\", [])]),\n",
       "    []);\n",
       "   Clause\n",
       "    (Term (\"connected\",\n",
       "      [Term (\"green_park\", []); Term (\"charing_cross\", []);\n",
       "       Term (\"jubilee\", [])]),\n",
       "    []);\n",
       "   Clause\n",
       "    (Term (\"connected\",\n",
       "      [Term (\"green_park\", []); Term (\"piccadilly_circus\", []);\n",
       "       Term (\"piccadilly\", [])]),\n",
       "    []);\n",
       "   Clause\n",
       "    (Term (\"connected\",\n",
       "      [Term (\"piccadilly_circus\", []); Term (\"leicester_square\", []);\n",
       "       Term (\"piccadilly\", [])]),\n",
       "    []);\n",
       "   Clause\n",
       "    (Term (\"connected\",\n",
       "      [Term (\"green_park\", []); Term (\"oxford_circus\", []);\n",
       "       Term (\"victoria\", [])]),\n",
       "    []);\n",
       "   Clause\n",
       "    (Term (\"connected\",\n",
       "      [Term (\"oxford_circus\", []); Term (\"piccadilly_circus\", []);\n",
       "       Term (\"bakerloo\", [])]),\n",
       "    []);\n",
       "   Clause\n",
       "    (Term (\"connected\",\n",
       "      [Term (\"piccadilly_circus\", []); Term (\"charing_cross\", []);\n",
       "       Term (\"bakerloo\", [])]),\n",
       "    []);\n",
       "   Clause\n",
       "    (Term (\"connected\",\n",
       "      [Term (\"tottenham_court_road\", []); Term (\"leicester_square\", []);\n",
       "       Term (\"northern\", [])]),\n",
       "    []);\n",
       "   Clause\n",
       "    (Term (\"connected\",\n",
       "      [Term (\"leicester_square\", []); Term (\"charing_cross\", []);\n",
       "       Term (\"northern\", [])]),\n",
       "    []);\n",
       "   Clause (Term (\"nearby\", [Var (VarT (\"X\", 0)); Var (VarT (\"Y\", 0))]),\n",
       "    [Term (\"connected\",\n",
       "      [Var (VarT (\"X\", 0)); Var (VarT (\"Y\", 0)); Var (VarT (\"L\", 0))])]);\n",
       "   Clause (Term (\"nearby\", [Var (VarT (\"X\", 0)); Var (VarT (\"Y\", 0))]),\n",
       "    [Term (\"connected\",\n",
       "      [Var (VarT (\"X\", 0)); Var (VarT (\"Z\", 0)); Var (VarT (\"L\", 0))]);\n",
       "     Term (\"connected\",\n",
       "      [Var (VarT (\"Z\", 0)); Var (VarT (\"Y\", 0)); Var (VarT (\"L\", 0))])]);\n",
       "   Clause (Term (\"reachable\", [Var (VarT (\"X\", 0)); Var (VarT (\"Y\", 0))]),\n",
       "    [Term (\"connected\",\n",
       "      [Var (VarT (\"X\", 0)); Var (VarT (\"Y\", 0)); Var (VarT (\"L\", 0))])]);\n",
       "   Clause (Term (\"reachable\", [Var (VarT (\"X\", 0)); Var (VarT (\"Y\", 0))]),\n",
       "    [Term (\"connected\",\n",
       "      [Var (VarT (\"X\", 0)); Var (VarT (\"Z\", 0)); Var (VarT (\"L\", 0))]);\n",
       "     Term (\"reachable\", [Var (VarT (\"Z\", 0)); Var (VarT (\"Y\", 0))])]);\n",
       "   Clause\n",
       "    (Term (\"path\",\n",
       "      [Var (VarT (\"\"... (* string length 1; truncated *), ...)); ...]),\n",
       "    ...);\n",
       "   ...]\n"
      ]
     },
     "execution_count": 35,
     "metadata": {},
     "output_type": "execute_result"
    }
   ],
   "source": [
    "let world = parser program;;"
   ]
  },
  {
   "cell_type": "code",
   "execution_count": 36,
   "metadata": {
    "scrolled": true
   },
   "outputs": [
    {
     "name": "stdout",
     "output_type": "stream",
     "text": [
      "This is True.\n"
     ]
    },
    {
     "data": {
      "text/plain": [
       "- : unit = ()\n"
      ]
     },
     "execution_count": 36,
     "metadata": {},
     "output_type": "execute_result"
    }
   ],
   "source": [
    "request world \"connected(piccadilly_circus,leicester_square,piccadilly)\";;"
   ]
  },
  {
   "cell_type": "code",
   "execution_count": 37,
   "metadata": {},
   "outputs": [
    {
     "name": "stdout",
     "output_type": "stream",
     "text": [
      "This is True.\n"
     ]
    },
    {
     "data": {
      "text/plain": [
       "- : unit = ()\n"
      ]
     },
     "execution_count": 37,
     "metadata": {},
     "output_type": "execute_result"
    }
   ],
   "source": [
    "request world \"nearby(oxford_circus, charing_cross)\";;"
   ]
  },
  {
   "cell_type": "code",
   "execution_count": 38,
   "metadata": {},
   "outputs": [
    {
     "name": "stdout",
     "output_type": "stream",
     "text": [
      "There is : W = leicester_square\n",
      "There is : W = charing_cross\n"
     ]
    },
    {
     "data": {
      "text/plain": [
       "- : unit = ()\n"
      ]
     },
     "execution_count": 38,
     "metadata": {},
     "output_type": "execute_result"
    }
   ],
   "source": [
    "request world \"nearby(tottenham_court_road,W)\";;"
   ]
  },
  {
   "cell_type": "code",
   "execution_count": 39,
   "metadata": {},
   "outputs": [
    {
     "name": "stdout",
     "output_type": "stream",
     "text": [
      "This is True.\n",
      "This is True.\n",
      "This is True.\n",
      "This is True.\n",
      "This is True.\n"
     ]
    },
    {
     "data": {
      "text/plain": [
       "- : unit = ()\n"
      ]
     },
     "execution_count": 39,
     "metadata": {},
     "output_type": "execute_result"
    }
   ],
   "source": [
    "request world \"reachable(bond_street, leicester_square)\";;"
   ]
  },
  {
   "cell_type": "code",
   "execution_count": 40,
   "metadata": {},
   "outputs": [
    {
     "name": "stdout",
     "output_type": "stream",
     "text": [
      "This is false.\n"
     ]
    },
    {
     "data": {
      "text/plain": [
       "- : unit = ()\n"
      ]
     },
     "execution_count": 40,
     "metadata": {},
     "output_type": "execute_result"
    }
   ],
   "source": [
    "request world \"connected(oxford_circus, bond_street, L)\";;"
   ]
  },
  {
   "cell_type": "code",
   "execution_count": 41,
   "metadata": {},
   "outputs": [
    {
     "name": "stdout",
     "output_type": "stream",
     "text": [
      "There is : R = route(tottenham_court_road, route(leicester_square, noroute))\n",
      "There is : R = route(piccadilly_circus, noroute)\n",
      "There is : R = route(piccadilly_circus, route(leicester_square, noroute))\n"
     ]
    },
    {
     "data": {
      "text/plain": [
       "- : unit = ()\n"
      ]
     },
     "execution_count": 41,
     "metadata": {},
     "output_type": "execute_result"
    }
   ],
   "source": [
    "request world \"path(oxford_circus,charing_cross,R)\";;"
   ]
  },
  {
   "cell_type": "code",
   "execution_count": 42,
   "metadata": {},
   "outputs": [
    {
     "data": {
      "text/plain": [
       "- : string =\n",
       "\"\\nconnected(bond_street,oxford_circus,central).\\nconnected(oxford_circus,tottenham_court_road,central).\\nconnected(bond_street,green_park,jubilee).\\nconnected(green_park,charing_cross,jubilee).\\nconnected(green_park,piccadilly_circus,piccadilly).\\nconnected(piccadilly_circus,leicester_square,piccadilly).\"... (* string length 816; truncated *)\n"
      ]
     },
     "execution_count": 42,
     "metadata": {},
     "output_type": "execute_result"
    }
   ],
   "source": [
    "program;;"
   ]
  }
 ],
 "metadata": {
  "kernelspec": {
   "display_name": "OCaml 4.08.1",
   "language": "OCaml",
   "name": "ocaml-jupyter"
  },
  "language_info": {
   "codemirror_mode": "text/x-ocaml",
   "file_extension": ".ml",
   "mimetype": "text/x-ocaml",
   "name": "OCaml",
   "nbconverter_exporter": null,
   "pygments_lexer": "OCaml",
   "version": "4.08.1"
  }
 },
 "nbformat": 4,
 "nbformat_minor": 4
}
