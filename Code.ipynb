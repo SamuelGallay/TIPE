{
 "cells": [
  {
   "cell_type": "raw",
   "metadata": {},
   "source": [
    "\\bibliography{biblio}\n",
    "\\bibliographystyle{abbrv}\n",
    "\\clearpage\n",
    "\\appendix"
   ]
  },
  {
   "cell_type": "markdown",
   "metadata": {},
   "source": [
    "# Déchiffrement de la syntaxe Prolog"
   ]
  },
  {
   "cell_type": "code",
   "execution_count": 1,
   "metadata": {},
   "outputs": [
    {
     "name": "stdout",
     "output_type": "stream",
     "text": [
      "Findlib has been successfully loaded. Additional directives:\n",
      "  #require \"package\";;      to load a package\n",
      "  #list;;                   to list the available packages\n",
      "  #camlp4o;;                to load camlp4 (standard syntax)\n",
      "  #camlp4r;;                to load camlp4 (revised syntax)\n",
      "  #predicates \"p,q,...\";;   to set these predicates\n",
      "  Topfind.reset();;         to force that packages will be reloaded\n",
      "  #thread;;                 to enable threads\n",
      "\n"
     ]
    },
    {
     "data": {
      "text/plain": [
       "type var = Id of string * int\n"
      ]
     },
     "execution_count": 1,
     "metadata": {},
     "output_type": "execute_result"
    },
    {
     "data": {
      "text/plain": [
       "type table = Empty | NonEmpty of term * table | TVar of var\n",
       "and term = Var of var | Predicate of string * term list | Table of table\n"
      ]
     },
     "execution_count": 1,
     "metadata": {},
     "output_type": "execute_result"
    },
    {
     "data": {
      "text/plain": [
       "type clause = Clause of term * term list\n"
      ]
     },
     "execution_count": 1,
     "metadata": {},
     "output_type": "execute_result"
    }
   ],
   "source": [
    "type var = Id of string * int\n",
    "\n",
    "type table = Empty | NonEmpty of term * table | TVar of var\n",
    "and term = Var of var | Predicate of string * (term list) | Table of table\n",
    "\n",
    "type clause = Clause of term * (term list);;"
   ]
  },
  {
   "cell_type": "markdown",
   "metadata": {},
   "source": [
    "## Le nouveau Parser :"
   ]
  },
  {
   "cell_type": "code",
   "execution_count": 2,
   "metadata": {},
   "outputs": [
    {
     "data": {
      "text/plain": [
       "type structure =\n",
       "    S of string\n",
       "  | V of var\n",
       "  | L of table\n",
       "  | T of term\n",
       "  | C of clause\n",
       "  | W of clause list\n",
       "  | P of string\n",
       "  | TL of term list\n"
      ]
     },
     "execution_count": 2,
     "metadata": {},
     "output_type": "execute_result"
    }
   ],
   "source": [
    "type structure = S of string | V of var | L of table | T of term | C of clause \n",
    "                | W of clause list | P of string | TL of term list \n"
   ]
  },
  {
   "cell_type": "code",
   "execution_count": 3,
   "metadata": {},
   "outputs": [
    {
     "data": {
      "text/plain": [
       "val to_list : string -> char list = <fun>\n"
      ]
     },
     "execution_count": 3,
     "metadata": {},
     "output_type": "execute_result"
    },
    {
     "data": {
      "text/plain": [
       "val remove_spaces : char list -> char list = <fun>\n"
      ]
     },
     "execution_count": 3,
     "metadata": {},
     "output_type": "execute_result"
    },
    {
     "data": {
      "text/plain": [
       "val ( |> ) : 'a -> ('a -> 'b) -> 'b = <fun>\n"
      ]
     },
     "execution_count": 3,
     "metadata": {},
     "output_type": "execute_result"
    },
    {
     "data": {
      "text/plain": [
       "val of_char : char -> string = <fun>\n"
      ]
     },
     "execution_count": 3,
     "metadata": {},
     "output_type": "execute_result"
    }
   ],
   "source": [
    "let to_list str = List.init (String.length str) (String.get str);;\n",
    "let rec remove_spaces = function\n",
    "| [] -> []\n",
    "| (' ' | '\\t' | '\\n')::l -> remove_spaces l\n",
    "| a::l -> a::(remove_spaces l);;\n",
    "let (|>) a b = b a;;\n",
    "let of_char c = String.make 1 c;;"
   ]
  },
  {
   "cell_type": "code",
   "execution_count": 4,
   "metadata": {},
   "outputs": [
    {
     "data": {
      "text/plain": [
       "val ( <+> ) : ('a -> 'b list) -> ('a -> 'b list) -> 'a -> 'b list = <fun>\n"
      ]
     },
     "execution_count": 4,
     "metadata": {},
     "output_type": "execute_result"
    },
    {
     "data": {
      "text/plain": [
       "val chain : 'a list -> ('b * 'a list) list -> ('b * 'a list) list = <fun>\n"
      ]
     },
     "execution_count": 4,
     "metadata": {},
     "output_type": "execute_result"
    },
    {
     "data": {
      "text/plain": [
       "val ( *~* ) :\n",
       "  ('a -> ('b * 'c list) list) ->\n",
       "  ('b -> ('d * 'c list) list) -> 'a -> ('d * 'c list) list = <fun>\n"
      ]
     },
     "execution_count": 4,
     "metadata": {},
     "output_type": "execute_result"
    },
    {
     "data": {
      "text/plain": [
       "val ( >~> ) : ('a -> ('b * 'c) list) -> ('c -> 'd) -> 'a -> ('b * 'd) list =\n",
       "  <fun>\n"
      ]
     },
     "execution_count": 4,
     "metadata": {},
     "output_type": "execute_result"
    },
    {
     "data": {
      "text/plain": [
       "val skip : 'a -> 'b list = <fun>\n"
      ]
     },
     "execution_count": 4,
     "metadata": {},
     "output_type": "execute_result"
    },
    {
     "data": {
      "text/plain": [
       "val fix : (('a -> 'b) -> 'a -> 'b) -> 'a -> 'b = <fun>\n"
      ]
     },
     "execution_count": 4,
     "metadata": {},
     "output_type": "execute_result"
    }
   ],
   "source": [
    "let ( <+> ) ra rb = fun l -> (ra l) @ (rb l)\n",
    "\n",
    "let chain y l = List.map (fun (a, b) -> (a, y@b)) l\n",
    "\n",
    "let ( *~* ) ra rb = \n",
    "let chain y l = List.map (fun (a, b) -> (a, y@b)) l in\n",
    "                    fun l -> List.concat (\n",
    "                        List.map (fun (x, y) -> chain y (rb x)) (ra l)\n",
    "                    )\n",
    "                    \n",
    "let ( >~> ) ra f = fun l -> List.map (fun (a, b) -> (a, f b)) (ra l)\n",
    "\n",
    "let skip = fun l -> []\n",
    "                    \n",
    "let fix aux = let rec g x = aux g x in g"
   ]
  },
  {
   "cell_type": "code",
   "execution_count": 5,
   "metadata": {},
   "outputs": [
    {
     "data": {
      "text/plain": [
       "val rlow : char list -> (char list * structure list) list = <fun>\n"
      ]
     },
     "execution_count": 5,
     "metadata": {},
     "output_type": "execute_result"
    },
    {
     "data": {
      "text/plain": [
       "val rup : char list -> (char list * structure list) list = <fun>\n"
      ]
     },
     "execution_count": 5,
     "metadata": {},
     "output_type": "execute_result"
    },
    {
     "data": {
      "text/plain": [
       "val rsym : char -> char list -> (char list * structure list) list = <fun>\n"
      ]
     },
     "execution_count": 5,
     "metadata": {},
     "output_type": "execute_result"
    },
    {
     "data": {
      "text/plain": [
       "val rchar : char list -> (char list * structure list) list = <fun>\n"
      ]
     },
     "execution_count": 5,
     "metadata": {},
     "output_type": "execute_result"
    },
    {
     "data": {
      "text/plain": [
       "val rmot : char list -> (char list * structure list) list = <fun>\n"
      ]
     },
     "execution_count": 5,
     "metadata": {},
     "output_type": "execute_result"
    },
    {
     "data": {
      "text/plain": [
       "val variable : char list -> (char list * structure list) list = <fun>\n"
      ]
     },
     "execution_count": 5,
     "metadata": {},
     "output_type": "execute_result"
    },
    {
     "data": {
      "text/plain": [
       "val predicate : char list -> (char list * structure list) list = <fun>\n"
      ]
     },
     "execution_count": 5,
     "metadata": {},
     "output_type": "execute_result"
    },
    {
     "data": {
      "text/plain": [
       "val table_from_list : term list -> table -> table = <fun>\n"
      ]
     },
     "execution_count": 5,
     "metadata": {},
     "output_type": "execute_result"
    },
    {
     "data": {
      "text/plain": [
       "val term : char list -> (char list * structure list) list = <fun>\n",
       "val termlist : char list -> (char list * structure list) list = <fun>\n",
       "val table : char list -> (char list * structure list) list = <fun>\n"
      ]
     },
     "execution_count": 5,
     "metadata": {},
     "output_type": "execute_result"
    },
    {
     "data": {
      "text/plain": [
       "val clause : char list -> (char list * structure list) list = <fun>\n"
      ]
     },
     "execution_count": 5,
     "metadata": {},
     "output_type": "execute_result"
    },
    {
     "data": {
      "text/plain": [
       "val programme : char list -> (char list * structure list) list = <fun>\n"
      ]
     },
     "execution_count": 5,
     "metadata": {},
     "output_type": "execute_result"
    },
    {
     "data": {
      "text/plain": [
       "val check : ('a -> ('b list * 'c) list) -> 'a -> 'c = <fun>\n"
      ]
     },
     "execution_count": 5,
     "metadata": {},
     "output_type": "execute_result"
    },
    {
     "data": {
      "text/plain": [
       "val parse_program : string -> clause list = <fun>\n"
      ]
     },
     "execution_count": 5,
     "metadata": {},
     "output_type": "execute_result"
    },
    {
     "data": {
      "text/plain": [
       "val parse_term : string -> term = <fun>\n"
      ]
     },
     "execution_count": 5,
     "metadata": {},
     "output_type": "execute_result"
    },
    {
     "data": {
      "text/plain": [
       "val parse_clause : string -> clause = <fun>\n"
      ]
     },
     "execution_count": 5,
     "metadata": {},
     "output_type": "execute_result"
    },
    {
     "data": {
      "text/plain": [
       "val parse_termlist : string -> term list = <fun>\n"
      ]
     },
     "execution_count": 5,
     "metadata": {},
     "output_type": "execute_result"
    }
   ],
   "source": [
    "let rlow = function\n",
    "| ('a'..'z' as c)::l -> [l, [S (of_char c)]]\n",
    "| _ -> []\n",
    "\n",
    "let rup = function\n",
    "| ('A'..'Z' as c)::l -> [l, [S (of_char c)]]\n",
    "| _ -> []\n",
    "\n",
    "let rsym s = function\n",
    "| h::t when s = h -> [t, [S (of_char s)]]\n",
    "| _ -> []\n",
    "\n",
    "let rchar = function\n",
    "| ('a'..'z' | 'A'..'Z' | '0'..'9' | '_' as c)::t -> [t, [S (of_char c)]]\n",
    "| _ -> []\n",
    "\n",
    "let rmot =\n",
    "let aux self = rchar \n",
    "            <+> rchar *~* self >~> (function | [S s; S s'] -> [S (s^s')] | l -> l)\n",
    "in fix aux\n",
    "\n",
    "let variable = \n",
    "    rup >~> (function | [S s] -> [V (Id (s,0) )] | l -> l)\n",
    "<+> rup *~* rmot >~> (function | [S s; S s'] -> [V (Id ((s^s'),0) )] | l -> l)\n",
    "\n",
    "let predicate = rlow >~> (function | [S s] -> [P s] | l -> l)\n",
    "                <+> rlow *~* rmot >~> (function | [S s; S s'] -> [P (s^s')] | l -> l)\n",
    "\n",
    "let rec table_from_list tl t = match tl with\n",
    "| h::q -> NonEmpty (h, table_from_list q t)\n",
    "| [] -> t\n",
    "\n",
    "let rec term l = (\n",
    "    variable >~> (function | [V s] -> [T (Var s)] | l -> l)\n",
    "<+> predicate >~> (function | [P s] -> [T (Predicate (s,[]))] | l -> l)\n",
    "<+> predicate *~* (rsym '(' >~> skip) *~* termlist *~* (rsym ')' >~> skip) \n",
    "        >~> (function | [P s; TL tl] -> [T (Predicate (s, tl))] | l -> l)\n",
    "<+> table >~> (function | [L t] -> [T (Table t)] | l -> l)\n",
    ") l\n",
    "and termlist l = (\n",
    "term >~> (function | [T t] -> [TL [t]] | l -> l)\n",
    "<+> term *~* (rsym ',' >~> skip) *~* termlist >~> (function | [T t; TL tl] -> [TL (t::tl)] | l -> l)\n",
    ") l\n",
    "and table l = (\n",
    "rsym '[' *~* rsym ']' >~> (function | [S \"[\"; S \"]\"] -> [L Empty] | l -> l)\n",
    "<+> (rsym '[' >~> skip) *~* termlist *~* (rsym ']' >~> skip) \n",
    "    >~> (function | [TL tl] -> [L (table_from_list tl Empty)] | l -> l)\n",
    "<+> (rsym '[' >~> skip) *~* termlist *~* (rsym '|' >~> skip) *~* table *~* (rsym ']' >~> skip) \n",
    "    >~> (function | [TL tl; L t] -> [L (table_from_list tl t)] | l -> l)\n",
    "<+> (rsym '[' >~> skip) *~* termlist *~* (rsym '|' >~> skip) *~* variable *~* (rsym ']' >~> skip) \n",
    "    >~> (function | [TL tl; V v] -> [L (table_from_list tl (TVar v))] | l -> l)\n",
    ") l\n",
    "\n",
    "\n",
    "let clause = term *~* (rsym '.' >~> skip) >~> (function | [T t] -> [C (Clause (t,[]))] | l -> l)\n",
    "            <+> term *~* (rsym ':' *~* rsym '-' >~> skip) *~* termlist *~* (rsym '.' >~> skip)\n",
    "                    >~> (function | [T t; TL tl] -> [C (Clause (t,tl))] | l -> l)\n",
    "let programme =\n",
    "let aux self = clause >~> (function | [C c] -> [W [c]] | l -> l)\n",
    "            <+> clause *~* self >~> (function | [C c; W cl] -> [W (c::cl)]| l -> l)\n",
    "in fix aux\n",
    "\n",
    "let check r l = \n",
    "let aux = function\n",
    "| [], result -> Some result\n",
    "| _ -> None\n",
    "in match List.filter_map aux (r l) with\n",
    "| [] -> failwith \"Parsing failed\"\n",
    "| [a] -> a\n",
    "| _ -> failwith \"Ambiguous grammar\";;\n",
    "\n",
    "let parse_program s = match (s |> to_list |> remove_spaces |> (check programme)) with\n",
    "| [W w] -> w\n",
    "| _ -> failwith \"input is not a program\"\n",
    "\n",
    "let parse_term s = match (s |> to_list |> remove_spaces |> (check term)) with\n",
    "| [T t] -> t\n",
    "| _ -> failwith \"input is not a term\"\n",
    "\n",
    "let parse_clause c = match (c |> to_list |> remove_spaces |> (check clause)) with\n",
    "| [C a] -> a\n",
    "| _ -> failwith \"input is not a clause\"\n",
    "\n",
    "let parse_termlist str = match (str |> to_list |> remove_spaces |> (check termlist)) with\n",
    "| [TL tl] -> tl\n",
    "| _ -> failwith \"input is not a termlist\""
   ]
  },
  {
   "cell_type": "code",
   "execution_count": 6,
   "metadata": {},
   "outputs": [
    {
     "data": {
      "text/plain": [
       "val chaine : string =\n",
       "  \"apprend([a, b, c | [d, e, f | A]]).\\napprend(benjamin, informatique).\\napprend(benjamin, physique).\\nenseigne(alice, physique).\\nenseigne(pierre, mathematiques).\\nenseigne(pierre, informatique).\\netudiant_de(E,P):-apprend(E,M), enseigne(P,M).\\n\"\n"
      ]
     },
     "execution_count": 6,
     "metadata": {},
     "output_type": "execute_result"
    },
    {
     "data": {
      "text/plain": [
       "- : clause list =\n",
       "[Clause\n",
       "  (Predicate (\"apprend\",\n",
       "    [Table\n",
       "      (NonEmpty (Predicate (\"a\", []),\n",
       "        NonEmpty (Predicate (\"b\", []),\n",
       "         NonEmpty (Predicate (\"c\", []),\n",
       "          NonEmpty (Predicate (\"d\", []),\n",
       "           NonEmpty (Predicate (\"e\", []),\n",
       "            NonEmpty (Predicate (\"f\", []), TVar (Id (\"A\", 0)))))))))]),\n",
       "  []);\n",
       " Clause\n",
       "  (Predicate (\"apprend\",\n",
       "    [Predicate (\"benjamin\", []); Predicate (\"informatique\", [])]),\n",
       "  []);\n",
       " Clause\n",
       "  (Predicate (\"apprend\",\n",
       "    [Predicate (\"benjamin\", []); Predicate (\"physique\", [])]),\n",
       "  []);\n",
       " Clause\n",
       "  (Predicate (\"enseigne\",\n",
       "    [Predicate (\"alice\", []); Predicate (\"physique\", [])]),\n",
       "  []);\n",
       " Clause\n",
       "  (Predicate (\"enseigne\",\n",
       "    [Predicate (\"pierre\", []); Predicate (\"mathematiques\", [])]),\n",
       "  []);\n",
       " Clause\n",
       "  (Predicate (\"enseigne\",\n",
       "    [Predicate (\"pierre\", []); Predicate (\"informatique\", [])]),\n",
       "  []);\n",
       " Clause (Predicate (\"etudiant_de\", [Var (Id (\"E\", 0)); Var (Id (\"P\", 0))]),\n",
       "  [Predicate (\"apprend\", [Var (Id (\"E\", 0)); Var (Id (\"M\", 0))]);\n",
       "   Predicate (\"enseigne\", [Var (Id (\"P\", 0)); Var (Id (\"M\", 0))])])]\n"
      ]
     },
     "execution_count": 6,
     "metadata": {},
     "output_type": "execute_result"
    }
   ],
   "source": [
    "let chaine =  \"apprend([a, b, c | [d, e, f | A]]).\n",
    "apprend(benjamin, informatique).\n",
    "apprend(benjamin, physique).\n",
    "enseigne(alice, physique).\n",
    "enseigne(pierre, mathematiques).\n",
    "enseigne(pierre, informatique).\n",
    "etudiant_de(E,P):-apprend(E,M), enseigne(P,M).\n",
    "\";;\n",
    "parse_program chaine;;"
   ]
  },
  {
   "cell_type": "markdown",
   "metadata": {},
   "source": [
    "# Fonctions de base"
   ]
  },
  {
   "cell_type": "code",
   "execution_count": 7,
   "metadata": {},
   "outputs": [
    {
     "data": {
      "text/plain": [
       "val string_of_term : term -> string = <fun>\n"
      ]
     },
     "execution_count": 7,
     "metadata": {},
     "output_type": "execute_result"
    },
    {
     "data": {
      "text/plain": [
       "val print_eql : (term * term) list -> unit = <fun>\n"
      ]
     },
     "execution_count": 7,
     "metadata": {},
     "output_type": "execute_result"
    }
   ],
   "source": [
    "let rec string_of_term = function\n",
    "| Predicate (p, []) -> p\n",
    "| Predicate (p, l) -> p ^ \"(\" ^ (String.concat \", \" (List.map string_of_term l)) ^ \")\"\n",
    "| Var (Id (s, _)) -> s\n",
    "| Table (Empty) -> \"[]\"\n",
    "| Table (TVar (Id (s,_))) -> s\n",
    "| Table (NonEmpty (t, l)) -> \n",
    "let rec aux = function\n",
    "| Empty -> \"\"\n",
    "| TVar (Id (s, _)) -> \"|\"^s\n",
    "| NonEmpty (t, l) -> \", \"^(string_of_term t)^(aux l)\n",
    "in \"[\"^(string_of_term t)^(aux l)^\"]\"\n",
    "\n",
    "let print_eql eql = \n",
    "List.iter (fun (t1,t2) -> Format.printf \"%s <-> %s\\n%!\" (string_of_term t1) (string_of_term t2)) eql"
   ]
  },
  {
   "cell_type": "code",
   "execution_count": 8,
   "metadata": {},
   "outputs": [
    {
     "data": {
      "text/plain": [
       "val term_in_term : term -> term -> bool = <fun>\n"
      ]
     },
     "execution_count": 8,
     "metadata": {},
     "output_type": "execute_result"
    },
    {
     "data": {
      "text/plain": [
       "- : bool = false\n"
      ]
     },
     "execution_count": 8,
     "metadata": {},
     "output_type": "execute_result"
    },
    {
     "data": {
      "text/plain": [
       "val replace_term_in_term : term -> term -> term -> term = <fun>\n"
      ]
     },
     "execution_count": 8,
     "metadata": {},
     "output_type": "execute_result"
    },
    {
     "data": {
      "text/plain": [
       "- : term =\n",
       "Predicate (\"etudiant_de\",\n",
       " [Table\n",
       "   (NonEmpty (Predicate (\"pierre\", []),\n",
       "     NonEmpty (Var (Id (\"B\", 0)), TVar (Id (\"E\", 0)))));\n",
       "  Var (Id (\"P\", 0))])\n"
      ]
     },
     "execution_count": 8,
     "metadata": {},
     "output_type": "execute_result"
    },
    {
     "data": {
      "text/plain": [
       "- : term =\n",
       "Predicate (\"etudiant_de\",\n",
       " [Table\n",
       "   (NonEmpty (Var (Id (\"E\", 0)),\n",
       "     NonEmpty (Var (Id (\"B\", 0)), NonEmpty (Predicate (\"pierre\", []), Empty))));\n",
       "  Var (Id (\"P\", 0))])\n"
      ]
     },
     "execution_count": 8,
     "metadata": {},
     "output_type": "execute_result"
    },
    {
     "data": {
      "text/plain": [
       "val term_in_eql : term -> (term * term) list -> bool = <fun>\n"
      ]
     },
     "execution_count": 8,
     "metadata": {},
     "output_type": "execute_result"
    },
    {
     "data": {
      "text/plain": [
       "val replace_term_in_eql :\n",
       "  term -> term -> (term * term) list -> (term * term) list = <fun>\n"
      ]
     },
     "execution_count": 8,
     "metadata": {},
     "output_type": "execute_result"
    },
    {
     "data": {
      "text/plain": [
       "val table_in_term : table -> term -> bool = <fun>\n"
      ]
     },
     "execution_count": 8,
     "metadata": {},
     "output_type": "execute_result"
    },
    {
     "data": {
      "text/plain": [
       "val replace_table_in_term : table -> table -> term -> term = <fun>\n"
      ]
     },
     "execution_count": 8,
     "metadata": {},
     "output_type": "execute_result"
    },
    {
     "data": {
      "text/plain": [
       "val table_in_eql : table -> (term * term) list -> bool = <fun>\n"
      ]
     },
     "execution_count": 8,
     "metadata": {},
     "output_type": "execute_result"
    },
    {
     "data": {
      "text/plain": [
       "val replace_table_in_eql :\n",
       "  table -> table -> (term * 'a) list -> (term * term) list = <fun>\n"
      ]
     },
     "execution_count": 8,
     "metadata": {},
     "output_type": "execute_result"
    }
   ],
   "source": [
    "(* Teste si un terme est dans un terme *)\n",
    "let rec term_in_term (tv : term) = function\n",
    "| (Var _ | Table Empty | Table (TVar _) as term) -> tv = term\n",
    "| Predicate (_, l) as term -> tv = term || List.mem true (List.map (term_in_term tv) l)\n",
    "| Table (NonEmpty (head, tail)) as term -> tv = term || term_in_term tv head || term_in_term tv (Table tail);;\n",
    "\n",
    "term_in_term (Var (Id (\"P\", 0))) (parse_term \"[A,[B|Z],C | [E | P] ]\");;\n",
    "\n",
    "(* Remplace un terme par un nouveau terme, récursivement à l'intérieur d'un terme *)\n",
    "let rec replace_term_in_term old_term new_term = function\n",
    "| term when term = old_term -> new_term\n",
    "| Predicate (a , l) -> Predicate (a, List.map (replace_term_in_term old_term new_term) l)\n",
    "| Table (NonEmpty (head, tail)) -> (\n",
    "    match replace_term_in_term old_term new_term (Table tail) with\n",
    "    | Table n -> Table (NonEmpty (replace_term_in_term old_term new_term head, n))\n",
    "    | _ -> failwith \"You tried to replace a subtable by a term that is not a table !\" )\n",
    "| term -> term;;\n",
    "\n",
    "replace_term_in_term (parse_term \"E\") (parse_term \"pierre\") (parse_term \"etudiant_de([E,B | E],P)\");;\n",
    "replace_term_in_term (Table (TVar (Id (\"E\", 0)))) (parse_term \"[pierre]\") (parse_term \"etudiant_de([E,B | E],P)\");;\n",
    "\n",
    "(* Teste si un terme est dans une liste de couples de termes *)\n",
    "let term_in_eql term eql = List.mem true (List.map \n",
    "(function t -> term_in_term term (fst t) || term_in_term term (snd t))\n",
    "eql);;\n",
    "\n",
    "(* Remplace une variable par un nouveau terme, à l'intérieur d'une liste de couples de termes *)\n",
    "let replace_term_in_eql old_term new_term eql = \n",
    "List.map (function (a, b) -> replace_term_in_term old_term new_term a, replace_term_in_term old_term new_term b) eql;;\n",
    "\n",
    "let rec table_in_term table = function\n",
    "| Var v -> false\n",
    "| Predicate (p, l) -> List.mem true (List.map (table_in_term table) l)\n",
    "| Table t -> table = t || (match t with \n",
    "| Empty | TVar _ -> false\n",
    "| NonEmpty (head, tail) -> table_in_term table head || table_in_term table (Table tail))\n",
    "\n",
    "\n",
    "let rec replace_table_in_term old_table new_table = function\n",
    "| Var v -> Var v\n",
    "| Predicate (p, l) -> Predicate (p, List.map (replace_table_in_term old_table new_table) l)\n",
    "| Table t -> if old_table = t then Table new_table else Table (\n",
    "match t with\n",
    "| Empty -> Empty\n",
    "| TVar v -> TVar v\n",
    "| NonEmpty (head, tail) -> (match replace_table_in_term old_table new_table (Table tail) with\n",
    "    | Table n -> NonEmpty (replace_table_in_term old_table new_table head, n)\n",
    "    | Var _ | Predicate (_, _) -> failwith \"I don't know\"\n",
    "    )\n",
    ")\n",
    "\n",
    "(* Teste si une table est dans une liste de couples de termes *)\n",
    "let table_in_eql table eql = List.mem true (List.map \n",
    "(function t -> table_in_term table (fst t) || table_in_term table (snd t))\n",
    "eql);;\n",
    "\n",
    "(* Remplace une variable par un nouveau terme, à l'intérieur d'une liste de couples de termes *)\n",
    "let replace_table_in_eql old_table new_table eql = \n",
    "List.map (function (a, b) -> \n",
    "(replace_table_in_term old_table new_table a), (replace_table_in_term old_table new_table a)) eql;;"
   ]
  },
  {
   "cell_type": "markdown",
   "metadata": {},
   "source": [
    "# Vérification des types"
   ]
  },
  {
   "cell_type": "code",
   "execution_count": 9,
   "metadata": {},
   "outputs": [
    {
     "data": {
      "text/plain": [
       "val list_tvars_in_term : term -> var list = <fun>\n"
      ]
     },
     "execution_count": 9,
     "metadata": {},
     "output_type": "execute_result"
    },
    {
     "data": {
      "text/plain": [
       "val list_tvars_in_termlist : term list -> var list = <fun>\n"
      ]
     },
     "execution_count": 9,
     "metadata": {},
     "output_type": "execute_result"
    },
    {
     "data": {
      "text/plain": [
       "val list_tvars_in_clause : clause -> var list = <fun>\n"
      ]
     },
     "execution_count": 9,
     "metadata": {},
     "output_type": "execute_result"
    },
    {
     "data": {
      "text/plain": [
       "val type_check_cl : clause -> clause = <fun>\n"
      ]
     },
     "execution_count": 9,
     "metadata": {},
     "output_type": "execute_result"
    },
    {
     "data": {
      "text/plain": [
       "val type_check_term : term -> term = <fun>\n"
      ]
     },
     "execution_count": 9,
     "metadata": {},
     "output_type": "execute_result"
    },
    {
     "data": {
      "text/plain": [
       "val read_term : string -> term = <fun>\n"
      ]
     },
     "execution_count": 9,
     "metadata": {},
     "output_type": "execute_result"
    },
    {
     "data": {
      "text/plain": [
       "val read_program : string -> clause list = <fun>\n"
      ]
     },
     "execution_count": 9,
     "metadata": {},
     "output_type": "execute_result"
    },
    {
     "data": {
      "text/plain": [
       "val read_clause : string -> clause = <fun>\n"
      ]
     },
     "execution_count": 9,
     "metadata": {},
     "output_type": "execute_result"
    },
    {
     "data": {
      "text/plain": [
       "val read_termlist : string -> term list = <fun>\n"
      ]
     },
     "execution_count": 9,
     "metadata": {},
     "output_type": "execute_result"
    }
   ],
   "source": [
    "let rec list_tvars_in_term = function\n",
    "| Var _ -> []\n",
    "| Predicate (_, l) -> List.concat (List.map list_tvars_in_term l)\n",
    "| Table t -> \n",
    "let rec aux = function\n",
    "| Empty -> []\n",
    "| NonEmpty (head, tail) -> (list_tvars_in_term head) @ (aux tail)\n",
    "| TVar v -> [v]\n",
    "in aux t\n",
    "\n",
    "let rec list_tvars_in_termlist tl = List.concat (List.map list_tvars_in_term tl)\n",
    "\n",
    "let list_tvars_in_clause (Clause (t, tl)) = (list_tvars_in_term t) @ (list_tvars_in_termlist tl)\n",
    "\n",
    "let type_check_cl cl = \n",
    "let l = list_tvars_in_clause cl in\n",
    "List.fold_left (fun cl v -> \n",
    "let aux = replace_term_in_term (Var v) (Table (TVar v))\n",
    "and Clause (left, right) = cl in\n",
    "Clause (aux left, List.map aux right)\n",
    ") cl l\n",
    "\n",
    "let type_check_term term =\n",
    "List.fold_left (fun t v -> replace_term_in_term (Var v) (Table (TVar v)) t) term (list_tvars_in_term term)\n",
    "\n",
    "let read_term str = type_check_term (parse_term str)\n",
    "let read_program str = List.map type_check_cl (parse_program str)\n",
    "let read_clause str = type_check_cl (parse_clause str)\n",
    "let read_termlist str = List.map type_check_term (parse_termlist str)"
   ]
  },
  {
   "cell_type": "markdown",
   "metadata": {},
   "source": [
    "# Algorithme d'unification"
   ]
  },
  {
   "cell_type": "code",
   "execution_count": 10,
   "metadata": {},
   "outputs": [
    {
     "data": {
      "text/plain": [
       "val solve : (term * term) list -> (term * term) list option = <fun>\n"
      ]
     },
     "execution_count": 10,
     "metadata": {},
     "output_type": "execute_result"
    }
   ],
   "source": [
    "(* E est une liste de couples de termes *)\n",
    "(* transforme E en un équivalent sous forme résolue (type option, None si impossible) *)\n",
    "let rec solve e =\n",
    "    (* Parcourt une fois l'ensemble des équations *)\n",
    "    let rec pass tmp = function\n",
    "    | [] -> Some tmp\n",
    "    \n",
    "    | (Predicate (f, lf), Predicate (g, lg))::l when f = g && List.length lf = List.length lg ->\n",
    "        pass ((List.map2 (fun a b -> a,b) lf lg)@tmp) l\n",
    "        \n",
    "    | (Predicate (_, _), Predicate (_, _))::l -> \n",
    "        None (* failwith \"Unification failed\" *)\n",
    "    \n",
    "    | (Var x, Var y)::l when x = y -> \n",
    "        pass tmp l\n",
    "    \n",
    "    | (Predicate (a, la), Var x)::l -> \n",
    "        pass ((Var x, Predicate (a, la))::tmp) l\n",
    "    \n",
    "    | (Table t, Var x)::l ->\n",
    "        pass ((Var x, Table t)::tmp) l\n",
    "    \n",
    "    | (Var _ as v, t)::l when term_in_eql v tmp || term_in_eql v l ->\n",
    "        if term_in_term v t then None (* failwith \"Unification failed, loop\" *)\n",
    "        else pass ((v, t)::(replace_term_in_eql v t tmp)) (replace_term_in_eql v t l)\n",
    "        \n",
    "    | (Var _ as v, t)::l -> \n",
    "        pass ((v, t)::tmp) l\n",
    "    \n",
    "    | (Predicate (_, _), Table _)::_ -> None\n",
    "    \n",
    "    | (Table _, Predicate (_, _))::_ -> None\n",
    "    \n",
    "    | (Table t1, Table t2)::l -> (\n",
    "        match t1, t2 with \n",
    "        | Empty, Empty -> pass tmp l\n",
    "        \n",
    "        | Empty, NonEmpty _ -> None\n",
    "        \n",
    "        | NonEmpty _, Empty -> None\n",
    "        \n",
    "        | NonEmpty (head1, tail1), NonEmpty (head2, tail2) -> pass ((head1, head2)::(Table tail1, Table tail2)::tmp) l\n",
    "        \n",
    "        | (NonEmpty (_, _) | Empty as t), TVar a -> pass ((Table (TVar a), Table t)::tmp) l\n",
    "        \n",
    "        | TVar a, TVar b when a=b -> pass tmp l\n",
    "        \n",
    "        | TVar _ as v, table when table_in_eql v tmp || table_in_eql v l ->\n",
    "            if table_in_term v (Table table) then None (* Loop *)\n",
    "            else pass ((Table v, Table table)::(replace_table_in_eql v table tmp)) (replace_table_in_eql v table l)\n",
    "        \n",
    "        | TVar _ as v, table -> pass ((Table v, Table table)::tmp) l\n",
    "        )\n",
    "\n",
    "    \n",
    "in match (pass [] e) with \n",
    "| None -> None\n",
    "| Some eqlpp -> \n",
    "let b = List.sort_uniq compare eqlpp in if e = b then Some e else solve b;;"
   ]
  },
  {
   "cell_type": "code",
   "execution_count": 11,
   "metadata": {},
   "outputs": [
    {
     "data": {
      "text/plain": [
       "val mgu : term -> term -> (var * term) list option = <fun>\n"
      ]
     },
     "execution_count": 11,
     "metadata": {},
     "output_type": "execute_result"
    }
   ],
   "source": [
    "(* Prend 2 terme et renvoie l'unifieur le plus général s'il existe, None sinon. \n",
    "Attention, aucune variable ne doit être présente dans (r) la requête et dans (c) la tête de la clause *)\n",
    "\n",
    "let rec mgu r c = let f = function\n",
    "    | Var x, t -> x, t\n",
    "    | Predicate (_, _), _ -> failwith \"Should not happen.\"\n",
    "    | Table (TVar r), t -> r, t\n",
    "    | Table (Empty | NonEmpty _), _ -> failwith \"Should not happen.\"\n",
    "in match solve [r, c] with\n",
    "| None -> None\n",
    "| Some e -> Some (List.map f e);;"
   ]
  },
  {
   "cell_type": "code",
   "execution_count": 12,
   "metadata": {},
   "outputs": [
    {
     "data": {
      "text/plain": [
       "val test_unification : string -> string -> unit = <fun>\n"
      ]
     },
     "execution_count": 12,
     "metadata": {},
     "output_type": "execute_result"
    }
   ],
   "source": [
    "(* La fonction test_unification a pour but de tester mgu *)\n",
    "let test_unification str_r str_c = Format.printf \"Unification de %s et de %s :\\n%!\" str_r str_c;\n",
    "match mgu (str_r |> read_term) (str_c |> read_term) with\n",
    "| Some t -> List.iter (fun (Id (s, a), term) -> Format.printf \"%s <- %s\\n%!\" s (string_of_term term) ) t\n",
    "| None -> Format.printf \"No unification\\n%!\"\n",
    ";;"
   ]
  },
  {
   "cell_type": "code",
   "execution_count": 13,
   "metadata": {},
   "outputs": [
    {
     "name": "stdout",
     "output_type": "stream",
     "text": [
      "Unification de etudiant_de(E, pierre) et de etudiant_de(F,P) :\n",
      "E <- F\n",
      "P <- pierre\n",
      "Unification de etudiant_de(F,P) et de etudiant_de(E, pierre) :\n",
      "F <- E\n",
      "P <- pierre\n",
      "Unification de f(X,g(Y)) et de f(g(Z),Z) :\n",
      "X <- g(g(Y))\n",
      "Z <- g(Y)\n",
      "Unification de f(g(Z),Z) et de f(X,g(Y)) :\n",
      "X <- g(g(Y))\n",
      "Z <- g(Y)\n",
      "Unification de [a, a, b, c] et de [A | B] :\n"
     ]
    },
    {
     "data": {
      "text/plain": [
       "- : unit = ()\n"
      ]
     },
     "execution_count": 13,
     "metadata": {},
     "output_type": "execute_result"
    }
   ],
   "source": [
    "test_unification \"etudiant_de(E, pierre)\" \"etudiant_de(F,P)\"; (* F/E et P/pierre *)\n",
    "\n",
    "test_unification \"etudiant_de(F,P)\" \"etudiant_de(E, pierre)\"; (* E/F et P/pierre *)\n",
    "\n",
    "test_unification \"f(X,g(Y))\" \"f(g(Z),Z)\"; (* X/g(g(Y)) et Z/g(Y) *)\n",
    "\n",
    "test_unification \"f(g(Z),Z)\" \"f(X,g(Y))\"; (* X/g(g(Y)) et Z/g(Y) *)\n",
    "\n",
    "test_unification \"[a, a, b, c]\" \"[A | B]\";\n",
    "\n",
    "test_unification \"[a, a, b, c]\" \"[A | A]\""
   ]
  },
  {
   "cell_type": "markdown",
   "metadata": {},
   "source": [
    "# Algorithme de backtracking"
   ]
  },
  {
   "cell_type": "code",
   "execution_count": 14,
   "metadata": {},
   "outputs": [
    {
     "name": "stdout",
     "output_type": "stream",
     "text": [
      "A <- a\n",
      "B <- [a, b, c]\n",
      "Unification de [a, a, b, c] et de [A | A] :\n",
      "No unification\n"
     ]
    },
    {
     "data": {
      "text/plain": [
       "val apply_subst_on_term : (var * term) list -> term -> term = <fun>\n"
      ]
     },
     "execution_count": 14,
     "metadata": {},
     "output_type": "execute_result"
    },
    {
     "data": {
      "text/plain": [
       "val apply_subst_on_termlist : (var * term) list -> term list -> term list =\n",
       "  <fun>\n"
      ]
     },
     "execution_count": 14,
     "metadata": {},
     "output_type": "execute_result"
    }
   ],
   "source": [
    "(* Applique une substitution sur un terme *)\n",
    "let rec apply_subst_on_term uni term = match uni with\n",
    "| [] -> term\n",
    "| (v,t)::l -> \n",
    "(match t with\n",
    "| Table tbl -> apply_subst_on_term l (replace_table_in_term (TVar v) tbl term)\n",
    "| t -> apply_subst_on_term l (replace_term_in_term (Var v) t term)\n",
    ")\n",
    "\n",
    "(* Applique une substitution sur une liste de termes *)\n",
    "let rec apply_subst_on_termlist uni lst = List.map (apply_subst_on_term uni) lst;;"
   ]
  },
  {
   "cell_type": "code",
   "execution_count": 15,
   "metadata": {},
   "outputs": [
    {
     "data": {
      "text/plain": [
       "val rename : int -> clause -> clause = <fun>\n"
      ]
     },
     "execution_count": 15,
     "metadata": {},
     "output_type": "execute_result"
    },
    {
     "data": {
      "text/plain": [
       "- : clause =\n",
       "Clause (Predicate (\"etudiant_de\", [Var (Id (\"E\", 42)); Var (Id (\"P\", 42))]),\n",
       " [Predicate (\"apprend\", [Var (Id (\"E\", 42)); Var (Id (\"M\", 42))]);\n",
       "  Predicate (\"enseigne\", [Var (Id (\"P\", 42)); Var (Id (\"M\", 42))])])\n"
      ]
     },
     "execution_count": 15,
     "metadata": {},
     "output_type": "execute_result"
    }
   ],
   "source": [
    "(* Prend un entier et une clause, renvoie la clause avec les variables renommées à l'entier *)\n",
    "let rename n (Clause (t1, tl)) = \n",
    "let rec f = function \n",
    "| Var (Id (str, _)) -> Var (Id (str, n))\n",
    "| Predicate (atm, l) -> Predicate (atm, List.map f l)\n",
    "| Table t -> \n",
    "let rec aux = function\n",
    "| Empty -> Empty\n",
    "| TVar (Id (str, _)) -> TVar (Id (str, n))\n",
    "| NonEmpty (head, tail) -> NonEmpty (f head, aux tail)\n",
    "in Table (aux t)\n",
    "in Clause (f t1, List.map f tl);;\n",
    "\n",
    "rename 42 (read_clause \"etudiant_de(E,P):-apprend(E,M), enseigne(P,M).\");;"
   ]
  },
  {
   "cell_type": "code",
   "execution_count": 16,
   "metadata": {},
   "outputs": [
    {
     "data": {
      "text/plain": [
       "type 'a tree = Leaf of 'a | Node of 'a tree Lazy.t list\n"
      ]
     },
     "execution_count": 16,
     "metadata": {},
     "output_type": "execute_result"
    },
    {
     "data": {
      "text/plain": [
       "val sld_tree :\n",
       "  clause list ->\n",
       "  term list -> (var * term) list list -> int -> (var * term) list list tree =\n",
       "  <fun>\n"
      ]
     },
     "execution_count": 16,
     "metadata": {},
     "output_type": "execute_result"
    }
   ],
   "source": [
    "type 'a tree = Leaf of 'a | Node of (('a tree) Lazy.t) list;;\n",
    "\n",
    "(* La fonction de recherche, renvoie l'arbre des solutions *)\n",
    "let rec sld_tree world req subs n = match req with\n",
    "| [] -> Leaf subs \n",
    "| head_request_term::other_request_terms -> \n",
    "    Node (List.filter_map (fun c -> let Clause (left_member, right_member) = rename n c in \n",
    "    (match mgu head_request_term left_member with\n",
    "        | None -> None\n",
    "        | Some unifier -> Some (lazy (sld_tree world \n",
    "            (apply_subst_on_termlist unifier (right_member@other_request_terms)) \n",
    "            (unifier::subs) (n+1)))\n",
    "    )) world);;"
   ]
  },
  {
   "cell_type": "code",
   "execution_count": 17,
   "metadata": {},
   "outputs": [
    {
     "data": {
      "text/plain": [
       "val compose : (var * term) list list -> (var * term) list = <fun>\n"
      ]
     },
     "execution_count": 17,
     "metadata": {},
     "output_type": "execute_result"
    },
    {
     "data": {
      "text/plain": [
       "val find_vars_in_termlist : term list -> term list = <fun>\n"
      ]
     },
     "execution_count": 17,
     "metadata": {},
     "output_type": "execute_result"
    }
   ],
   "source": [
    "(* Compose correctement la liste de substitutions *)\n",
    "let compose l = \n",
    "let compose2 s1 s2 = s1@(List.map (function (v2, lt2) -> (v2, apply_subst_on_term s1 lt2)) s2)\n",
    "in List.fold_left compose2 [] l;;\n",
    "\n",
    "(* Recherche les termes qui sont des variables récursivement dans une liste de termes *)\n",
    "let rec find_vars_in_termlist tl = \n",
    "let rec find_vars_in_term = function\n",
    "| Var v -> [Var v]\n",
    "| Predicate (_, l) -> find_vars_in_termlist l\n",
    "| Table t ->\n",
    "let rec aux = function\n",
    "| Empty -> []\n",
    "| TVar v -> [Table (TVar v)]\n",
    "| NonEmpty (head, tail) -> (find_vars_in_term head)@(aux tail)\n",
    "in aux t\n",
    "in List.sort_uniq compare (List.concat (List.map find_vars_in_term tl));;"
   ]
  },
  {
   "cell_type": "code",
   "execution_count": 18,
   "metadata": {},
   "outputs": [
    {
     "data": {
      "text/plain": [
       "val list_to_seq : 'a list -> 'a Seq.t = <fun>\n"
      ]
     },
     "execution_count": 18,
     "metadata": {},
     "output_type": "execute_result"
    },
    {
     "data": {
      "text/plain": [
       "val to_seq : 'a tree -> 'a Seq.t = <fun>\n"
      ]
     },
     "execution_count": 18,
     "metadata": {},
     "output_type": "execute_result"
    },
    {
     "data": {
      "text/plain": [
       "val solutions : clause list -> string -> (term list * term list) Seq.t =\n",
       "  <fun>\n"
      ]
     },
     "execution_count": 18,
     "metadata": {},
     "output_type": "execute_result"
    },
    {
     "data": {
      "text/plain": [
       "val request : clause list -> string -> unit = <fun>\n"
      ]
     },
     "execution_count": 18,
     "metadata": {},
     "output_type": "execute_result"
    }
   ],
   "source": [
    "let list_to_seq l = List.fold_right (fun x s -> (fun ()->Seq.Cons(x, s)) ) l Seq.empty;;\n",
    "\n",
    "let rec to_seq = function\n",
    "| Leaf str -> Seq.return str\n",
    "| Node tl -> Seq.flat_map (fun par -> to_seq (Lazy.force par)) (list_to_seq tl);;\n",
    "\n",
    "let solutions world req = let tree = sld_tree world (read_termlist req) [] 1 in \n",
    "let vars = (find_vars_in_termlist (read_termlist req)) in\n",
    "Seq.map  (fun l -> vars, apply_subst_on_termlist (compose l) vars) (to_seq tree);;\n",
    "\n",
    "let request world req = let sol = solutions world req in\n",
    "if sol () = Seq.Nil then Format.printf \"This is false.\\n%!\"\n",
    "else Seq.iter (fun (vars, tl) -> \n",
    "if vars = [] then Format.printf \"This is True.\\n%!\"\n",
    "else Format.printf \"There is : %s\\n%!\"\n",
    "(String.concat \", \" (List.map2 (fun v t -> (string_of_term v) ^ \" = \" ^ (string_of_term t)) vars tl))\n",
    ") sol;;"
   ]
  },
  {
   "cell_type": "markdown",
   "metadata": {},
   "source": [
    "# Essais de l'implémentation"
   ]
  },
  {
   "cell_type": "markdown",
   "metadata": {},
   "source": [
    "## Tests basiques... des élèves, des cours et des professeurs"
   ]
  },
  {
   "cell_type": "code",
   "execution_count": 46,
   "metadata": {
    "scrolled": true
   },
   "outputs": [
    {
     "data": {
      "text/plain": [
       "val world1 : clause list =\n",
       "  [Clause\n",
       "    (Predicate (\"apprend\",\n",
       "      [Predicate (\"eve\", []); Predicate (\"mathematiques\", [])]),\n",
       "    []);\n",
       "   Clause\n",
       "    (Predicate (\"apprend\",\n",
       "      [Predicate (\"benjamin\", []); Predicate (\"informatique\", [])]),\n",
       "    []);\n",
       "   Clause\n",
       "    (Predicate (\"apprend\",\n",
       "      [Predicate (\"benjamin\", []); Predicate (\"physique\", [])]),\n",
       "    []);\n",
       "   Clause\n",
       "    (Predicate (\"enseigne\",\n",
       "      [Predicate (\"alice\", []); Predicate (\"physique\", [])]),\n",
       "    []);\n",
       "   Clause\n",
       "    (Predicate (\"enseigne\",\n",
       "      [Predicate (\"pierre\", []); Predicate (\"mathematiques\", [])]),\n",
       "    []);\n",
       "   Clause\n",
       "    (Predicate (\"enseigne\",\n",
       "      [Predicate (\"pierre\", []); Predicate (\"informatique\", [])]),\n",
       "    []);\n",
       "   Clause (Predicate (\"etudiant_de\", [Var (Id (\"E\", 0)); Var (Id (\"P\", 0))]),\n",
       "    [Predicate (\"apprend\", [Var (Id (\"E\", 0)); Var (Id (\"M\", 0))]);\n",
       "     Predicate (\"enseigne\", [Var (Id (\"P\", 0)); Var (Id (\"M\", 0))])])]\n"
      ]
     },
     "execution_count": 46,
     "metadata": {},
     "output_type": "execute_result"
    }
   ],
   "source": [
    "let world1 = read_program \"apprend(eve, mathematiques).\n",
    "apprend(benjamin, informatique).\n",
    "apprend(benjamin, physique).\n",
    "enseigne(alice, physique).\n",
    "enseigne(pierre, mathematiques).\n",
    "enseigne(pierre, informatique).\n",
    "etudiant_de(E,P):-apprend(E,M), enseigne(P,M).\n",
    "\";;"
   ]
  },
  {
   "cell_type": "code",
   "execution_count": 47,
   "metadata": {
    "scrolled": true
   },
   "outputs": [
    {
     "data": {
      "text/plain": [
       "- : term =\n",
       "Predicate (\"apprend\",\n",
       " [Predicate (\"benjamin\", []); Predicate (\"informatique\", [])])\n"
      ]
     },
     "execution_count": 47,
     "metadata": {},
     "output_type": "execute_result"
    },
    {
     "data": {
      "text/plain": [
       "- : term list =\n",
       "[Predicate (\"apprend\", [Var (Id (\"E\", 0)); Var (Id (\"M\", 0))]);\n",
       " Predicate (\"enseigne\", [Var (Id (\"P\", 0)); Var (Id (\"M\", 0))])]\n"
      ]
     },
     "execution_count": 47,
     "metadata": {},
     "output_type": "execute_result"
    },
    {
     "data": {
      "text/plain": [
       "- : clause =\n",
       "Clause (Predicate (\"etudiant_de\", [Var (Id (\"E\", 0)); Var (Id (\"P\", 0))]),\n",
       " [Predicate (\"apprend\", [Var (Id (\"E\", 0)); Var (Id (\"M\", 0))]);\n",
       "  Predicate (\"enseigne\", [Var (Id (\"P\", 0)); Var (Id (\"M\", 0))])])\n"
      ]
     },
     "execution_count": 47,
     "metadata": {},
     "output_type": "execute_result"
    }
   ],
   "source": [
    "read_term \"apprend(benjamin, informatique)\";;\n",
    "\n",
    "read_termlist \"apprend(E,M), enseigne(P,M)\";;\n",
    "\n",
    "read_clause \"etudiant_de(E,P):-apprend(E,M), enseigne(P,M).\";;"
   ]
  },
  {
   "cell_type": "code",
   "execution_count": 48,
   "metadata": {},
   "outputs": [
    {
     "name": "stdout",
     "output_type": "stream",
     "text": [
      "There is : E = eve\n",
      "There is : E = benjamin\n"
     ]
    },
    {
     "data": {
      "text/plain": [
       "- : unit = ()\n"
      ]
     },
     "execution_count": 48,
     "metadata": {},
     "output_type": "execute_result"
    }
   ],
   "source": [
    "request world1 \"etudiant_de(E, pierre)\";;"
   ]
  },
  {
   "cell_type": "code",
   "execution_count": 49,
   "metadata": {},
   "outputs": [
    {
     "name": "stdout",
     "output_type": "stream",
     "text": [
      "There is : E = benjamin\n"
     ]
    },
    {
     "data": {
      "text/plain": [
       "- : unit = ()\n"
      ]
     },
     "execution_count": 49,
     "metadata": {},
     "output_type": "execute_result"
    }
   ],
   "source": [
    "request world1 \"etudiant_de(E, pierre), etudiant_de(E, alice)\";;"
   ]
  },
  {
   "cell_type": "code",
   "execution_count": 50,
   "metadata": {},
   "outputs": [
    {
     "name": "stdout",
     "output_type": "stream",
     "text": [
      "There is : A = eve, B = pierre\n",
      "There is : A = benjamin, B = pierre\n",
      "There is : A = benjamin, B = alice\n"
     ]
    },
    {
     "data": {
      "text/plain": [
       "- : unit = ()\n"
      ]
     },
     "execution_count": 50,
     "metadata": {},
     "output_type": "execute_result"
    }
   ],
   "source": [
    "request world1 \"etudiant_de(A, B)\";;"
   ]
  },
  {
   "cell_type": "code",
   "execution_count": 51,
   "metadata": {},
   "outputs": [
    {
     "name": "stdout",
     "output_type": "stream",
     "text": [
      "This is false.\n"
     ]
    },
    {
     "data": {
      "text/plain": [
       "- : unit = ()\n"
      ]
     },
     "execution_count": 51,
     "metadata": {},
     "output_type": "execute_result"
    }
   ],
   "source": [
    "request world1 \"etudiant_de(A, A)\";;"
   ]
  },
  {
   "cell_type": "code",
   "execution_count": 52,
   "metadata": {},
   "outputs": [
    {
     "name": "stdout",
     "output_type": "stream",
     "text": [
      "This is false.\n"
     ]
    },
    {
     "data": {
      "text/plain": [
       "- : unit = ()\n"
      ]
     },
     "execution_count": 52,
     "metadata": {},
     "output_type": "execute_result"
    }
   ],
   "source": [
    "request world1 \"apprend(A, A)\";;"
   ]
  },
  {
   "cell_type": "code",
   "execution_count": 53,
   "metadata": {},
   "outputs": [
    {
     "name": "stdout",
     "output_type": "stream",
     "text": [
      "This is false.\n"
     ]
    },
    {
     "data": {
      "text/plain": [
       "- : unit = ()\n"
      ]
     },
     "execution_count": 53,
     "metadata": {},
     "output_type": "execute_result"
    }
   ],
   "source": [
    "request world1 \"enseigne(A, A)\";;"
   ]
  },
  {
   "cell_type": "code",
   "execution_count": 54,
   "metadata": {},
   "outputs": [
    {
     "name": "stdout",
     "output_type": "stream",
     "text": [
      "This is True.\n"
     ]
    },
    {
     "data": {
      "text/plain": [
       "- : unit = ()\n"
      ]
     },
     "execution_count": 54,
     "metadata": {},
     "output_type": "execute_result"
    }
   ],
   "source": [
    "request world1 \"enseigne(alice, physique)\";;"
   ]
  },
  {
   "cell_type": "code",
   "execution_count": 28,
   "metadata": {},
   "outputs": [
    {
     "data": {
      "text/plain": [
       "- : unit = ()\n"
      ]
     },
     "execution_count": 28,
     "metadata": {},
     "output_type": "execute_result"
    }
   ],
   "source": [
    "request world1 \"enseigne(alice, mathematiques)\";; "
   ]
  },
  {
   "cell_type": "markdown",
   "metadata": {},
   "source": [
    "## Le métro londonien"
   ]
  },
  {
   "cell_type": "code",
   "execution_count": 39,
   "metadata": {
    "scrolled": true
   },
   "outputs": [
    {
     "data": {
      "text/plain": [
       "val world : clause list =\n",
       "  [Clause\n",
       "    (Predicate (\"connected\",\n",
       "      [Predicate (\"bond_street\", []); Predicate (\"oxford_circus\", []);\n",
       "       Predicate (\"central\", [])]),\n",
       "    []);\n",
       "   Clause\n",
       "    (Predicate (\"connected\",\n",
       "      [Predicate (\"oxford_circus\", []);\n",
       "       Predicate (\"tottenham_court_road\", []); Predicate (\"central\", [])]),\n",
       "    []);\n",
       "   Clause\n",
       "    (Predicate (\"connected\",\n",
       "      [Predicate (\"bond_street\", []); Predicate (\"green_park\", []);\n",
       "       Predicate (\"jubilee\", [])]),\n",
       "    []);\n",
       "   Clause\n",
       "    (Predicate (\"connected\",\n",
       "      [Predicate (\"green_park\", []); Predicate (\"charing_cross\", []);\n",
       "       Predicate (\"jubilee\", [])]),\n",
       "    []);\n",
       "   Clause\n",
       "    (Predicate (\"connected\",\n",
       "      [Predicate (\"green_park\", []); Predicate (\"piccadilly_circus\", []);\n",
       "       Predicate (\"piccadilly\", [])]),\n",
       "    []);\n",
       "   Clause\n",
       "    (Predicate (\"connected\",\n",
       "      [Predicate (\"piccadilly_circus\", []);\n",
       "       Predicate (\"leicester_square\", []); Predicate (\"piccadilly\", [])]),\n",
       "    []);\n",
       "   Clause\n",
       "    (Predicate (\"connected\",\n",
       "      [Predicate (\"green_park\", []); Predicate (\"oxford_circus\", []);\n",
       "       Predicate (\"victoria\", [])]),\n",
       "    []);\n",
       "   Clause\n",
       "    (Predicate (\"connected\",\n",
       "      [Predicate (\"oxford_circus\", []); Predicate (\"piccadilly_circus\", []);\n",
       "       Predicate (\"bakerloo\", [])]),\n",
       "    []);\n",
       "   Clause\n",
       "    (Predicate (\"connected\",\n",
       "      [Predicate (\"piccadilly_circus\", []); Predicate (\"charing_cross\", []);\n",
       "       Predicate (\"bakerloo\", [])]),\n",
       "    []);\n",
       "   Clause\n",
       "    (Predicate (\"connected\",\n",
       "      [Predicate (\"tottenham_court_road\", []);\n",
       "       Predicate (\"leicester_square\", []); Predicate (\"northern\", [])]),\n",
       "    []);\n",
       "   Clause\n",
       "    (Predicate (\"connected\",\n",
       "      [Predicate (\"leicester_square\", []); Predicate (\"charing_cross\", []);\n",
       "       Predicate (\"northern\", [])]),\n",
       "    []);\n",
       "   Clause (Predicate (\"nearby\", [Var (Id (\"X\", 0)); Var (Id (\"Y\", 0))]),\n",
       "    [Predicate (\"connected\",\n",
       "      [Var (Id (\"X\", 0)); Var (Id (\"Y\", 0)); Var (Id (\"L\", 0))])]);\n",
       "   Clause (Predicate (\"nearby\", [Var (Id (\"X\", 0)); Var (Id (\"Y\", 0))]),\n",
       "    [Predicate (\"connected\",\n",
       "      [Var (Id (\"X\", 0)); Var (Id (\"Z\", 0)); Var (Id (\"L\", 0))]);\n",
       "     Predicate (\"connected\",\n",
       "      [Var (Id (\"Z\", 0)); Var (Id (\"Y\", 0)); Var (Id (\"L\", 0))])]);\n",
       "   Clause (Predicate (\"reachable\", [Var (Id (\"X\", 0)); Var (Id (\"Y\", 0))]),\n",
       "    [Predicate (\"connected\",\n",
       "      [Var (Id (\"X\", 0)); Var (Id (\"Y\", 0)); Var (Id (\"L\", 0))])]);\n",
       "   Clause (Predicate (\"reachable\", [Var (Id (\"X\", 0)); Var (Id (\"Y\", 0))]),\n",
       "    [Predicate (\"connected\",\n",
       "      [Var (Id (\"X\", 0)); Var (Id (\"Z\", 0)); Var (Id (\"L\", 0))]);\n",
       "     Predicate (\"reachable\", [Var (Id (\"Z\", 0)); Var (Id (\"Y\", 0))])]);\n",
       "   Clause\n",
       "    (Predicate (\"path\",\n",
       "      [Var (Id (\"\"... (* string length 1; truncated *), ...)); ...]),\n",
       "    ...);\n",
       "   ...]\n"
      ]
     },
     "execution_count": 39,
     "metadata": {},
     "output_type": "execute_result"
    }
   ],
   "source": [
    "let world =\n",
    "let program = \"\n",
    "connected(bond_street,oxford_circus,central).\n",
    "connected(oxford_circus,tottenham_court_road,central).\n",
    "connected(bond_street,green_park,jubilee).\n",
    "connected(green_park,charing_cross,jubilee).\n",
    "connected(green_park,piccadilly_circus,piccadilly).\n",
    "connected(piccadilly_circus,leicester_square,piccadilly).\n",
    "connected(green_park,oxford_circus,victoria).\n",
    "connected(oxford_circus,piccadilly_circus,bakerloo).\n",
    "connected(piccadilly_circus,charing_cross,bakerloo).\n",
    "connected(tottenham_court_road,leicester_square,northern).\n",
    "connected(leicester_square,charing_cross,northern).\n",
    "\n",
    "nearby(X,Y):-connected(X,Y,L).\n",
    "nearby(X,Y):-connected(X,Z,L),connected(Z,Y,L).\n",
    "\n",
    "reachable(X,Y):-connected(X,Y,L).\n",
    "reachable(X,Y):-connected(X,Z,L),reachable(Z,Y).\n",
    "\n",
    "path(X,Y,noroute):-connected(X,Y,L).\n",
    "path(X,Y,route(Z,R)):-connected(X,Z,L),path(Z,Y,R).\"\n",
    "in read_program program;; (*connected(X,Y,L):-connected(Y,X,L).*)"
   ]
  },
  {
   "cell_type": "code",
   "execution_count": 40,
   "metadata": {
    "scrolled": true
   },
   "outputs": [
    {
     "name": "stdout",
     "output_type": "stream",
     "text": [
      "This is True.\n"
     ]
    },
    {
     "data": {
      "text/plain": [
       "- : unit = ()\n"
      ]
     },
     "execution_count": 40,
     "metadata": {},
     "output_type": "execute_result"
    }
   ],
   "source": [
    "request world \"connected(piccadilly_circus,leicester_square,piccadilly)\";;"
   ]
  },
  {
   "cell_type": "code",
   "execution_count": 41,
   "metadata": {},
   "outputs": [
    {
     "name": "stdout",
     "output_type": "stream",
     "text": [
      "This is True.\n"
     ]
    },
    {
     "data": {
      "text/plain": [
       "- : unit = ()\n"
      ]
     },
     "execution_count": 41,
     "metadata": {},
     "output_type": "execute_result"
    }
   ],
   "source": [
    "request world \"nearby(oxford_circus, charing_cross)\";;"
   ]
  },
  {
   "cell_type": "code",
   "execution_count": 42,
   "metadata": {},
   "outputs": [
    {
     "name": "stdout",
     "output_type": "stream",
     "text": [
      "There is : W = leicester_square\n",
      "There is : W = charing_cross\n"
     ]
    },
    {
     "data": {
      "text/plain": [
       "- : unit = ()\n"
      ]
     },
     "execution_count": 42,
     "metadata": {},
     "output_type": "execute_result"
    }
   ],
   "source": [
    "request world \"nearby(tottenham_court_road,W)\";;"
   ]
  },
  {
   "cell_type": "code",
   "execution_count": 43,
   "metadata": {},
   "outputs": [
    {
     "name": "stdout",
     "output_type": "stream",
     "text": [
      "This is True.\n",
      "This is True.\n",
      "This is True.\n",
      "This is True.\n",
      "This is True.\n"
     ]
    },
    {
     "data": {
      "text/plain": [
       "- : unit = ()\n"
      ]
     },
     "execution_count": 43,
     "metadata": {},
     "output_type": "execute_result"
    }
   ],
   "source": [
    "request world \"reachable(bond_street, leicester_square)\";;"
   ]
  },
  {
   "cell_type": "code",
   "execution_count": 44,
   "metadata": {},
   "outputs": [
    {
     "name": "stdout",
     "output_type": "stream",
     "text": [
      "This is false.\n"
     ]
    },
    {
     "data": {
      "text/plain": [
       "- : unit = ()\n"
      ]
     },
     "execution_count": 44,
     "metadata": {},
     "output_type": "execute_result"
    }
   ],
   "source": [
    "request world \"connected(oxford_circus, bond_street, L)\";;"
   ]
  },
  {
   "cell_type": "code",
   "execution_count": 45,
   "metadata": {},
   "outputs": [
    {
     "name": "stdout",
     "output_type": "stream",
     "text": [
      "There is : R = route(tottenham_court_road, route(leicester_square, noroute))\n",
      "There is : R = route(piccadilly_circus, noroute)\n",
      "There is : R = route(piccadilly_circus, route(leicester_square, noroute))\n"
     ]
    },
    {
     "data": {
      "text/plain": [
       "- : unit = ()\n"
      ]
     },
     "execution_count": 45,
     "metadata": {},
     "output_type": "execute_result"
    }
   ],
   "source": [
    "request world \"path(oxford_circus,charing_cross,R)\";;"
   ]
  }
 ],
 "metadata": {
  "kernelspec": {
   "display_name": "OCaml 4.08.1",
   "language": "OCaml",
   "name": "ocaml-jupyter"
  },
  "language_info": {
   "codemirror_mode": "text/x-ocaml",
   "file_extension": ".ml",
   "mimetype": "text/x-ocaml",
   "name": "OCaml",
   "nbconverter_exporter": null,
   "pygments_lexer": "OCaml",
   "version": "4.08.1"
  }
 },
 "nbformat": 4,
 "nbformat_minor": 4
}
