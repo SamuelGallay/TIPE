{
 "cells": [
  {
   "cell_type": "raw",
   "metadata": {},
   "source": [
    "\\bibliography{biblio}\n",
    "\\bibliographystyle{abbrv}\n",
    "\\clearpage\n",
    "\\appendix"
   ]
  },
  {
   "cell_type": "markdown",
   "metadata": {},
   "source": [
    "# Le test de l'implémentation Prolog"
   ]
  },
  {
   "cell_type": "code",
   "execution_count": 1,
   "metadata": {},
   "outputs": [
    {
     "name": "stdout",
     "output_type": "stream",
     "text": [
      "Findlib has been successfully loaded. Additional directives:\n",
      "  #require \"package\";;      to load a package\n",
      "  #list;;                   to list the available packages\n",
      "  #camlp4o;;                to load camlp4 (standard syntax)\n",
      "  #camlp4r;;                to load camlp4 (revised syntax)\n",
      "  #predicates \"p,q,...\";;   to set these predicates\n",
      "  Topfind.reset();;         to force that packages will be reloaded\n",
      "  #thread;;                 to enable threads\n",
      "\n"
     ]
    },
    {
     "data": {
      "text/plain": [
       "type var = VarT of string * int | VarL of string * int\n"
      ]
     },
     "execution_count": 1,
     "metadata": {},
     "output_type": "execute_result"
    },
    {
     "data": {
      "text/plain": [
       "type plist = PLCons of term list * term | Empty\n",
       "and term = Var of var | Term of string * term list | PList of plist\n"
      ]
     },
     "execution_count": 1,
     "metadata": {},
     "output_type": "execute_result"
    },
    {
     "data": {
      "text/plain": [
       "type clause = Clause of term * term list\n"
      ]
     },
     "execution_count": 1,
     "metadata": {},
     "output_type": "execute_result"
    }
   ],
   "source": [
    "type var = VarT of string * int | VarL of string * int;;\n",
    "type plist = PLCons of (term list) * term | Empty\n",
    "and term = Var of var | Term of string * (term list) | PList of plist;;\n",
    "type clause = Clause of term * (term list);;"
   ]
  },
  {
   "cell_type": "code",
   "execution_count": 2,
   "metadata": {},
   "outputs": [
    {
     "data": {
      "text/plain": [
       "type token =\n",
       "    TLPar\n",
       "  | TRPar\n",
       "  | TLBra\n",
       "  | TRBra\n",
       "  | TDot\n",
       "  | TIf\n",
       "  | TAnd\n",
       "  | TVar of string\n",
       "  | TAtom of string\n",
       "  | TVert\n"
      ]
     },
     "execution_count": 2,
     "metadata": {},
     "output_type": "execute_result"
    }
   ],
   "source": [
    "type token = TLPar | TRPar | TLBra | TRBra | TDot | TIf | TAnd | TVar of string | TAtom of string | TVert ;;"
   ]
  },
  {
   "cell_type": "code",
   "execution_count": 3,
   "metadata": {},
   "outputs": [
    {
     "data": {
      "text/plain": [
       "val to_list : string -> char list = <fun>\n"
      ]
     },
     "execution_count": 3,
     "metadata": {},
     "output_type": "execute_result"
    },
    {
     "data": {
      "text/plain": [
       "val to_string : char list -> string = <fun>\n"
      ]
     },
     "execution_count": 3,
     "metadata": {},
     "output_type": "execute_result"
    },
    {
     "data": {
      "text/plain": [
       "val remove_spaces : char list -> char list = <fun>\n"
      ]
     },
     "execution_count": 3,
     "metadata": {},
     "output_type": "execute_result"
    },
    {
     "data": {
      "text/plain": [
       "val read_word : char list -> char list -> char list * string = <fun>\n"
      ]
     },
     "execution_count": 3,
     "metadata": {},
     "output_type": "execute_result"
    },
    {
     "data": {
      "text/plain": [
       "val string_to_atomvar : string -> token = <fun>\n"
      ]
     },
     "execution_count": 3,
     "metadata": {},
     "output_type": "execute_result"
    },
    {
     "data": {
      "text/plain": [
       "val charlist_to_tokenlist : char list -> token list = <fun>\n"
      ]
     },
     "execution_count": 3,
     "metadata": {},
     "output_type": "execute_result"
    },
    {
     "data": {
      "text/plain": [
       "val lexer : string -> token list = <fun>\n"
      ]
     },
     "execution_count": 3,
     "metadata": {},
     "output_type": "execute_result"
    }
   ],
   "source": [
    "(* Transforme une chaîne de caractères en liste et réciproquement *)\n",
    "let to_list str = List.init (String.length str) (String.get str);;\n",
    "let to_string lst = String.init (List.length lst) (List.nth lst);;\n",
    "\n",
    "\n",
    "(* Enlève les espaces, tabulations de la liste de caractères *)\n",
    "let rec remove_spaces = function\n",
    "| (' ' | '\\t' | '\\n')::l -> remove_spaces l\n",
    "| l -> l;;\n",
    "\n",
    "(* Retire le premier mot (suite de lettres et de '_') de la liste *)\n",
    "let rec read_word char_list mot = match char_list with\n",
    "| ('A'..'Z' | 'a'..'z' | '_' as c)::l -> read_word l (c::mot)\n",
    "| char_list -> char_list, to_string (List.rev mot);;\n",
    "\n",
    "(* Pour séparer les variables et les atomes *)\n",
    "let string_to_atomvar = function\n",
    "| str -> (match String.get str 0 with\n",
    "                | ('A'..'Z') -> TVar str\n",
    "                | ('a'..'z') -> TAtom str\n",
    "                | _ -> failwith \"Wrong Word\");;\n",
    "\n",
    "(* Transforme la liste de caractères en liste de symboles *)\n",
    "let rec charlist_to_tokenlist liste_car = let lst = remove_spaces liste_car in match lst with\n",
    "| [] -> []\n",
    "| '.'::l -> TDot::(charlist_to_tokenlist l)\n",
    "| '('::l -> TLPar::(charlist_to_tokenlist l)\n",
    "| ')'::l -> TRPar::(charlist_to_tokenlist l)\n",
    "| '['::l -> TLBra::(charlist_to_tokenlist l)\n",
    "| ']'::l -> TRBra::(charlist_to_tokenlist l)\n",
    "| '|'::l -> TVert::(charlist_to_tokenlist l)\n",
    "| ':'::'-'::l -> TIf::(charlist_to_tokenlist l)\n",
    "| ','::l -> TAnd::(charlist_to_tokenlist l)\n",
    "| ('A'..'Z' | 'a'..'z' | '_')::_ -> let l, m = read_word lst [] \n",
    "in (string_to_atomvar m)::(charlist_to_tokenlist l)\n",
    "| l -> failwith (\"Wrong Syntax in \" ^ (to_string l));;\n",
    "\n",
    "(* Transforme la chaîne de caractères en liste de symboles *)\n",
    "let lexer str = charlist_to_tokenlist (to_list str);;"
   ]
  },
  {
   "cell_type": "code",
   "execution_count": 4,
   "metadata": {},
   "outputs": [
    {
     "data": {
      "text/plain": [
       "val program : string =\n",
       "  \"apprend(eve, mathematiques).\\napprend(benjamin, informatique).\\napprend(benjamin, physique).\\nenseigne(alice, physique).\\nenseigne(pierre, mathematiques).\\nenseigne(pierre, informatique).\\netudiant_de(E,P):-apprend(E,M), enseigne(P,M).\\ntest([a,b|A]).\\n\"\n"
      ]
     },
     "execution_count": 4,
     "metadata": {},
     "output_type": "execute_result"
    },
    {
     "data": {
      "text/plain": [
       "- : token list =\n",
       "[TAtom \"apprend\"; TLPar; TAtom \"eve\"; TAnd; TAtom \"mathematiques\"; TRPar;\n",
       " TDot; TAtom \"apprend\"; TLPar; TAtom \"benjamin\"; TAnd; TAtom \"informatique\";\n",
       " TRPar; TDot; TAtom \"apprend\"; TLPar; TAtom \"benjamin\"; TAnd;\n",
       " TAtom \"physique\"; TRPar; TDot; TAtom \"enseigne\"; TLPar; TAtom \"alice\"; TAnd;\n",
       " TAtom \"physique\"; TRPar; TDot; TAtom \"enseigne\"; TLPar; TAtom \"pierre\";\n",
       " TAnd; TAtom \"mathematiques\"; TRPar; TDot; TAtom \"enseigne\"; TLPar;\n",
       " TAtom \"pierre\"; TAnd; TAtom \"informatique\"; TRPar; TDot;\n",
       " TAtom \"etudiant_de\"; TLPar; TVar \"E\"; TAnd; TVar \"P\"; TRPar; TIf;\n",
       " TAtom \"apprend\"; TLPar; TVar \"E\"; TAnd; TVar \"M\"; TRPar; TAnd;\n",
       " TAtom \"enseigne\"; TLPar; TVar \"P\"; TAnd; TVar \"M\"; TRPar; TDot;\n",
       " TAtom \"test\"; TLPar; TLBra; TAtom \"a\"; TAnd; TAtom \"b\"; TVert; TVar \"A\";\n",
       " TRBra; TRPar; TDot]\n"
      ]
     },
     "execution_count": 4,
     "metadata": {},
     "output_type": "execute_result"
    }
   ],
   "source": [
    "let program = \"apprend(eve, mathematiques).\n",
    "apprend(benjamin, informatique).\n",
    "apprend(benjamin, physique).\n",
    "enseigne(alice, physique).\n",
    "enseigne(pierre, mathematiques).\n",
    "enseigne(pierre, informatique).\n",
    "etudiant_de(E,P):-apprend(E,M), enseigne(P,M).\n",
    "test([a,b|A]).\n",
    "\";;\n",
    "\n",
    "lexer program;;"
   ]
  },
  {
   "cell_type": "code",
   "execution_count": 5,
   "metadata": {},
   "outputs": [
    {
     "data": {
      "text/plain": [
       "val extract_clauses : token list -> token list list = <fun>\n"
      ]
     },
     "execution_count": 5,
     "metadata": {},
     "output_type": "execute_result"
    },
    {
     "data": {
      "text/plain": [
       "- : token list list =\n",
       "[[TAtom \"apprend\"; TLPar; TAtom \"eve\"; TAnd; TAtom \"mathematiques\"; TRPar];\n",
       " [TAtom \"apprend\"; TLPar; TAtom \"benjamin\"; TAnd; TAtom \"informatique\";\n",
       "  TRPar];\n",
       " [TAtom \"apprend\"; TLPar; TAtom \"benjamin\"; TAnd; TAtom \"physique\"; TRPar];\n",
       " [TAtom \"enseigne\"; TLPar; TAtom \"alice\"; TAnd; TAtom \"physique\"; TRPar];\n",
       " [TAtom \"enseigne\"; TLPar; TAtom \"pierre\"; TAnd; TAtom \"mathematiques\";\n",
       "  TRPar];\n",
       " [TAtom \"enseigne\"; TLPar; TAtom \"pierre\"; TAnd; TAtom \"informatique\"; TRPar];\n",
       " [TAtom \"etudiant_de\"; TLPar; TVar \"E\"; TAnd; TVar \"P\"; TRPar; TIf;\n",
       "  TAtom \"apprend\"; TLPar; TVar \"E\"; TAnd; TVar \"M\"; TRPar; TAnd;\n",
       "  TAtom \"enseigne\"; TLPar; TVar \"P\"; TAnd; TVar \"M\"; TRPar];\n",
       " [TAtom \"test\"; TLPar; TLBra; TAtom \"a\"; TAnd; TAtom \"b\"; TVert; TVar \"A\";\n",
       "  TRBra; TRPar]]\n"
      ]
     },
     "execution_count": 5,
     "metadata": {},
     "output_type": "execute_result"
    }
   ],
   "source": [
    "(* Sépare les différentes clauses *)\n",
    "let extract_clauses token_list =\n",
    "let rec f tk_lst tmp = match tk_lst with\n",
    "| [] -> if tmp = [] then [] else failwith \"No end of clause\"\n",
    "| TDot::l -> (List.rev tmp)::(f l [])\n",
    "| t::l -> f l (t::tmp)\n",
    "in f token_list [];;\n",
    "\n",
    "extract_clauses (lexer program);;"
   ]
  },
  {
   "cell_type": "code",
   "execution_count": 6,
   "metadata": {},
   "outputs": [
    {
     "data": {
      "text/plain": [
       "val extract_rightleft : token list -> token list * token list = <fun>\n"
      ]
     },
     "execution_count": 6,
     "metadata": {},
     "output_type": "execute_result"
    },
    {
     "data": {
      "text/plain": [
       "- : token list * token list =\n",
       "([TAtom \"etudiant_de\"; TLPar; TVar \"E\"; TAnd; TVar \"P\"; TRPar],\n",
       " [TAtom \"apprend\"; TLPar; TVar \"E\"; TAnd; TVar \"M\"; TRPar; TAnd;\n",
       "  TAtom \"enseigne\"; TLPar; TVar \"P\"; TAnd; TVar \"M\"; TRPar])\n"
      ]
     },
     "execution_count": 6,
     "metadata": {},
     "output_type": "execute_result"
    }
   ],
   "source": [
    "(* Sépare les membres de droite et de gauche d'une clause *)\n",
    "let extract_rightleft cl =\n",
    "    let rec f cl left = match cl with\n",
    "    | [] -> (List.rev left), []\n",
    "    | TIf::l -> (List.rev left), l\n",
    "    | t::l -> f l (t::left)\n",
    "in f cl [];;\n",
    "\n",
    "extract_rightleft (lexer \"etudiant_de(E,P):-apprend(E,M), enseigne(P,M)\");;"
   ]
  },
  {
   "cell_type": "code",
   "execution_count": 7,
   "metadata": {},
   "outputs": [
    {
     "data": {
      "text/plain": [
       "val extract_term_list_old : token list -> token list list = <fun>\n"
      ]
     },
     "execution_count": 7,
     "metadata": {},
     "output_type": "execute_result"
    },
    {
     "data": {
      "text/plain": [
       "val extract_term_list : token list -> token list list = <fun>\n"
      ]
     },
     "execution_count": 7,
     "metadata": {},
     "output_type": "execute_result"
    },
    {
     "data": {
      "text/plain": [
       "- : token list list =\n",
       "[[TAtom \"apprend\"; TLPar; TVar \"E\"; TAnd; TVar \"M\"; TRPar];\n",
       " [TAtom \"enseigne\"; TLPar; TVar \"P\"; TAnd; TVar \"M\"; TRPar]]\n"
      ]
     },
     "execution_count": 7,
     "metadata": {},
     "output_type": "execute_result"
    },
    {
     "data": {
      "text/plain": [
       "- : token list list =\n",
       "[[TAtom \"apprend\"; TLPar; TLBra; TVar \"A\"; TAnd; TVar \"B\"; TAnd; TVar \"C\";\n",
       "  TRBra; TRPar];\n",
       " [TAtom \"enseigne\"; TLPar; TLBra; TVar \"B\"; TAnd; TVar \"C\"; TAnd; TVar \"A\";\n",
       "  TRBra; TRPar];\n",
       " [TLBra; TAtom \"a\"; TLPar; TVar \"A\"; TRPar; TAnd; TAtom \"b\"; TLPar; TVar \"B\";\n",
       "  TRPar; TAnd; TAtom \"c\"; TLPar; TVar \"C\"; TRPar; TVert; TLBra; TRBra; TRBra]]\n"
      ]
     },
     "execution_count": 7,
     "metadata": {},
     "output_type": "execute_result"
    }
   ],
   "source": [
    "(* Sépare les termes d'une liste de termes *)\n",
    "let extract_term_list_old tk_lst =\n",
    "let rec f tk_lst term_tmp lvl = match tk_lst with\n",
    "    | [] -> [term_tmp]\n",
    "    | TLPar::l -> f l (term_tmp @ [TLPar]) (lvl + 1)\n",
    "    | TRPar::l -> if lvl > 0 then f l (term_tmp @ [TRPar]) (lvl - 1) \n",
    "                else failwith \"Mismatched Parenthesis\"\n",
    "    | TAnd::l when lvl = 0 -> term_tmp::(f l [] 0)\n",
    "    | t::l -> f l (term_tmp @ [t]) lvl\n",
    "in f tk_lst [] 0;;\n",
    "\n",
    "(* Sépare les termes d'une liste de termes *)\n",
    "let extract_term_list tk_lst =\n",
    "let rec f tk_lst term_tmp stack = match tk_lst with\n",
    "    | [] -> [term_tmp]\n",
    "    | TLPar::l -> f l (term_tmp @ [TLPar]) (TLPar::stack)\n",
    "    | TRPar::l -> (match stack with\n",
    "        | [] -> failwith \"Mismatched Parenthesis\"\n",
    "        | TLPar::st -> f l (term_tmp @ [TRPar]) st\n",
    "        | _ -> failwith \"Mismatched Parenthesis\")\n",
    "    | TLBra::l -> f l (term_tmp @ [TLBra]) (TLBra::stack)\n",
    "    | TRBra::l -> (match stack with\n",
    "        | [] -> failwith \"Mismatched Brackets\"\n",
    "        | TLBra::st -> f l (term_tmp @ [TRBra]) st\n",
    "        | _ -> failwith \"Mismatched Brackets\")\n",
    "    | TAnd::l when stack = [] -> term_tmp::(f l [] [])\n",
    "    | t::l -> f l (term_tmp @ [t]) stack\n",
    "in f tk_lst [] [];;\n",
    "\n",
    "extract_term_list_old (lexer \"apprend(E,M), enseigne(P,M)\");;\n",
    "\n",
    "extract_term_list (lexer \"apprend([A,B,C]), enseigne([B,C,A]), [a(A),b(B),c(C) | [] ]\");;"
   ]
  },
  {
   "cell_type": "code",
   "execution_count": 8,
   "metadata": {},
   "outputs": [
    {
     "data": {
      "text/plain": [
       "val inside_parenthesis : token list -> token list = <fun>\n"
      ]
     },
     "execution_count": 8,
     "metadata": {},
     "output_type": "execute_result"
    },
    {
     "data": {
      "text/plain": [
       "- : token list = [TVar \"E\"; TAnd; TVar \"M\"]\n"
      ]
     },
     "execution_count": 8,
     "metadata": {},
     "output_type": "execute_result"
    },
    {
     "data": {
      "text/plain": [
       "- : token list =\n",
       "[TLPar; TVar \"E\"; TRPar; TAnd; TLBra; TVar \"M\"; TRBra; TAnd; TVar \"A\"]\n"
      ]
     },
     "execution_count": 8,
     "metadata": {},
     "output_type": "execute_result"
    }
   ],
   "source": [
    "(* Renvoie l'intérieur d'une liste de symboles dont les extrêmes sont des parenthèses *)\n",
    "let inside_parenthesis = function\n",
    "| [] -> failwith \"Empty List\"\n",
    "| TLPar::l -> (let rec f = function\n",
    "                | [] -> failwith \"Mismatched Parenthesis\"\n",
    "                | [TRPar] -> []\n",
    "                | h::t -> h::(f t)\n",
    "                in f l)\n",
    "| TLBra::l -> (let rec f = function\n",
    "                | [] -> failwith \"Mismatched Brackets\"\n",
    "                | [TRBra] -> []\n",
    "                | h::t -> h::(f t)\n",
    "                in f l)\n",
    "| _ -> failwith \"List is not beginning with Parenthesis or Bracket\";;\n",
    "\n",
    "inside_parenthesis (lexer \"(E,M)\");;\n",
    "inside_parenthesis (lexer \"[(E),[M],A]\");;"
   ]
  },
  {
   "cell_type": "code",
   "execution_count": 9,
   "metadata": {},
   "outputs": [
    {
     "data": {
      "text/plain": [
       "val extract_vert : token list -> token list * token list = <fun>\n"
      ]
     },
     "execution_count": 9,
     "metadata": {},
     "output_type": "execute_result"
    }
   ],
   "source": [
    "(* Sépare la droite et la gauche de la barre verticale | *)\n",
    "let extract_vert tkl =\n",
    "let rec f tkl tmp stack = match tkl with\n",
    "| [] -> (List.rev tmp), []\n",
    "| TLPar::l -> f l (TLPar::tmp) (stack+1)\n",
    "| TLBra::l -> f l (TLBra::tmp) (stack+1)\n",
    "| TRPar::l -> f l (TRPar::tmp) (stack-1)\n",
    "| TRBra::l -> f l (TRBra::tmp) (stack-1)\n",
    "| TVert::l when stack = 0 -> (List.rev tmp), l\n",
    "| a::l -> f l (a::tmp) stack\n",
    "in f tkl [] 0;;"
   ]
  },
  {
   "cell_type": "code",
   "execution_count": 10,
   "metadata": {},
   "outputs": [
    {
     "data": {
      "text/plain": [
       "val tokenlist_to_term : token list -> term = <fun>\n",
       "val tkl_to_plist : token list -> plist = <fun>\n"
      ]
     },
     "execution_count": 10,
     "metadata": {},
     "output_type": "execute_result"
    },
    {
     "data": {
      "text/plain": [
       "- : term =\n",
       "Term (\"apprend\", [Term (\"benjamin\", []); Term (\"informatique\", [])])\n"
      ]
     },
     "execution_count": 10,
     "metadata": {},
     "output_type": "execute_result"
    },
    {
     "data": {
      "text/plain": [
       "- : term =\n",
       "PList\n",
       " (PLCons\n",
       "   ([Term (\"benjamin\", []); Term (\"informatique\", []);\n",
       "     PList\n",
       "      (PLCons\n",
       "        ([Var (VarT (\"A\", 0)); Var (VarT (\"B\", 0)); Var (VarT (\"C\", 0))],\n",
       "        Var (VarL (\"T\", 0))))],\n",
       "   PList Empty))\n"
      ]
     },
     "execution_count": 10,
     "metadata": {},
     "output_type": "execute_result"
    }
   ],
   "source": [
    "(* Prend une liste de tokens qui est censée ne représenter qu'un terme 'mouton', 'élève(samuel)', 'X',\n",
    "'apprend(X, Y)' et renvoie ce terme *)\n",
    "\n",
    "\n",
    "let rec tokenlist_to_term = function\n",
    "| [] -> failwith \"Error : [] is not a term\"\n",
    "| (TVar str)::[] -> Var (VarT (str, 0))\n",
    "| (TVar str)::_ -> failwith \"No other arguments with Var\"\n",
    "| (TAtom str)::[] -> Term(str, [])\n",
    "| (TAtom str)::l -> Term(str, List.map tokenlist_to_term (extract_term_list (inside_parenthesis l)))\n",
    "| TLBra::TRBra::l -> PList Empty\n",
    "| TLBra::l -> PList (tkl_to_plist (TLBra::l))\n",
    "| _ -> failwith \"Not a valid term\"\n",
    "and tkl_to_plist tkl = match extract_vert (inside_parenthesis tkl) with\n",
    "| [], [] -> Empty\n",
    "| l, [] -> PLCons ((List.map tokenlist_to_term (extract_term_list l)), PList Empty)\n",
    "| g, [TVar str] -> PLCons ((List.map tokenlist_to_term (extract_term_list g)), (Var (VarL (str,0))))\n",
    "| g, d -> PLCons ((List.map tokenlist_to_term (extract_term_list g)), PList (tkl_to_plist d));;\n",
    "\n",
    "tokenlist_to_term (lexer \"apprend(benjamin, informatique)\");;\n",
    "tokenlist_to_term (lexer \"[benjamin, informatique, [A,B,C | T ]]\");;"
   ]
  },
  {
   "cell_type": "code",
   "execution_count": 11,
   "metadata": {},
   "outputs": [
    {
     "data": {
      "text/plain": [
       "val tokenlist_to_clause : token list -> clause = <fun>\n"
      ]
     },
     "execution_count": 11,
     "metadata": {},
     "output_type": "execute_result"
    },
    {
     "data": {
      "text/plain": [
       "val parser : string -> clause list = <fun>\n"
      ]
     },
     "execution_count": 11,
     "metadata": {},
     "output_type": "execute_result"
    }
   ],
   "source": [
    "(* Transforme une liste de symboles représentant une clause en la clause elle même *)\n",
    "let tokenlist_to_clause tklcl = \n",
    "let c = extract_rightleft tklcl in let l = fst c and r = snd c\n",
    "in Clause (tokenlist_to_term l, if r = [] then [] else List.map tokenlist_to_term (extract_term_list r));;\n",
    "\n",
    "(* Transforme la chaîne de caractères du programme en la liste de clauses du format voulu *)\n",
    "let parser str = List.map tokenlist_to_clause (extract_clauses (lexer str)) ;;"
   ]
  },
  {
   "cell_type": "code",
   "execution_count": 12,
   "metadata": {},
   "outputs": [
    {
     "data": {
      "text/plain": [
       "val parser_term : string -> term = <fun>\n"
      ]
     },
     "execution_count": 12,
     "metadata": {},
     "output_type": "execute_result"
    },
    {
     "data": {
      "text/plain": [
       "val parser_term_list : string -> term list = <fun>\n"
      ]
     },
     "execution_count": 12,
     "metadata": {},
     "output_type": "execute_result"
    },
    {
     "data": {
      "text/plain": [
       "val parser_clause : string -> clause = <fun>\n"
      ]
     },
     "execution_count": 12,
     "metadata": {},
     "output_type": "execute_result"
    },
    {
     "data": {
      "text/plain": [
       "- : term =\n",
       "Term (\"apprend\", [Term (\"benjamin\", []); Term (\"informatique\", [])])\n"
      ]
     },
     "execution_count": 12,
     "metadata": {},
     "output_type": "execute_result"
    },
    {
     "data": {
      "text/plain": [
       "- : term list =\n",
       "[Term (\"apprend\", [Var (VarT (\"E\", 0)); Var (VarT (\"M\", 0))]);\n",
       " Term (\"enseigne\", [Var (VarT (\"P\", 0)); Var (VarT (\"M\", 0))])]\n"
      ]
     },
     "execution_count": 12,
     "metadata": {},
     "output_type": "execute_result"
    },
    {
     "data": {
      "text/plain": [
       "- : clause =\n",
       "Clause (Term (\"etudiant_de\", [Var (VarT (\"E\", 0)); Var (VarT (\"P\", 0))]),\n",
       " [Term (\"apprend\", [Var (VarT (\"E\", 0)); Var (VarT (\"M\", 0))]);\n",
       "  Term (\"enseigne\", [Var (VarT (\"P\", 0)); Var (VarT (\"M\", 0))])])\n"
      ]
     },
     "execution_count": 12,
     "metadata": {},
     "output_type": "execute_result"
    }
   ],
   "source": [
    "(* Un parser sur une chaîne représentant un terme *)\n",
    "let parser_term str = tokenlist_to_term (lexer str);;\n",
    "\n",
    "(* Un parser sur une chaîne représentant une liste de termes *)\n",
    "let parser_term_list str = List.map tokenlist_to_term (extract_term_list (lexer str));;\n",
    "\n",
    "(* Un parser sur une chaîne (sans le point) représentant une clause *)\n",
    "let parser_clause str = tokenlist_to_clause (lexer str);;\n",
    "\n",
    "parser_term \"apprend(benjamin, informatique)\";;\n",
    "\n",
    "parser_term_list \"apprend(E,M), enseigne(P,M)\";;\n",
    "\n",
    "parser_clause \"etudiant_de(E,P):-apprend(E,M), enseigne(P,M)\";;"
   ]
  },
  {
   "cell_type": "code",
   "execution_count": 13,
   "metadata": {},
   "outputs": [
    {
     "data": {
      "text/plain": [
       "val world : clause list =\n",
       "  [Clause (Term (\"apprend\", [Term (\"eve\", []); Term (\"mathematiques\", [])]),\n",
       "    []);\n",
       "   Clause\n",
       "    (Term (\"apprend\", [Term (\"benjamin\", []); Term (\"informatique\", [])]),\n",
       "    []);\n",
       "   Clause (Term (\"apprend\", [Term (\"benjamin\", []); Term (\"physique\", [])]),\n",
       "    []);\n",
       "   Clause (Term (\"enseigne\", [Term (\"alice\", []); Term (\"physique\", [])]),\n",
       "    []);\n",
       "   Clause\n",
       "    (Term (\"enseigne\", [Term (\"pierre\", []); Term (\"mathematiques\", [])]),\n",
       "    []);\n",
       "   Clause\n",
       "    (Term (\"enseigne\", [Term (\"pierre\", []); Term (\"informatique\", [])]), \n",
       "    []);\n",
       "   Clause (Term (\"etudiant_de\", [Var (VarT (\"E\", 0)); Var (VarT (\"P\", 0))]),\n",
       "    [Term (\"apprend\", [Var (VarT (\"E\", 0)); Var (VarT (\"M\", 0))]);\n",
       "     Term (\"enseigne\", [Var (VarT (\"P\", 0)); Var (VarT (\"M\", 0))])]);\n",
       "   Clause\n",
       "    (Term (\"test\",\n",
       "      [PList (PLCons ([Term (\"a\", []); Term (\"b\", [])], Var (VarL (\"A\", 0))))]),\n",
       "    [])]\n"
      ]
     },
     "execution_count": 13,
     "metadata": {},
     "output_type": "execute_result"
    }
   ],
   "source": [
    "let world = parser program;;"
   ]
  },
  {
   "cell_type": "code",
   "execution_count": 14,
   "metadata": {},
   "outputs": [
    {
     "name": "stderr",
     "output_type": "stream",
     "text": [
      "File \"[14]\", line 8, characters 22-262:\n",
      " 8 | ......................function\n",
      " 9 | | Empty -> \"[]\"\n",
      "10 | | PLCons (tl, PList Empty) -> \"[\" ^ (String.concat \", \" (List.map term_to_string tl)) ^ \"]\"\n",
      "11 | | PLCons (tl, PList plst) -> \"[\" ^ (String.concat \", \" (List.map term_to_string tl)) ^ \" | \" ^ (plist_to_string plst) ^ \"]\"..\n",
      "Warning 8: this pattern-matching is not exhaustive.\n",
      "Here is an example of a case that is not matched:\n",
      "PLCons (_, (Var _|Term (_, _)))\n"
     ]
    },
    {
     "data": {
      "text/plain": [
       "val term_to_string : term -> string = <fun>\n",
       "val plist_to_string : plist -> string = <fun>\n"
      ]
     },
     "execution_count": 14,
     "metadata": {},
     "output_type": "execute_result"
    },
    {
     "data": {
      "text/plain": [
       "val term_list_to_string : term list -> string = <fun>\n"
      ]
     },
     "execution_count": 14,
     "metadata": {},
     "output_type": "execute_result"
    },
    {
     "data": {
      "text/plain": [
       "val clause_to_string : clause -> string = <fun>\n"
      ]
     },
     "execution_count": 14,
     "metadata": {},
     "output_type": "execute_result"
    }
   ],
   "source": [
    "let rec term_to_string = function\n",
    "| Var (VarT (str,n)) -> str\n",
    "| Var (VarL (str,n)) -> str ^ \"*\"\n",
    "(*| Var (Id (str,n)) -> str ^ (string_of_int n)*)\n",
    "| Term (a, []) -> a\n",
    "| Term (a, l) -> a ^ \"(\" ^ (String.concat \", \" (List.map term_to_string l)) ^ \")\"\n",
    "| PList plst -> plist_to_string plst\n",
    "and plist_to_string = function\n",
    "| Empty -> \"[]\"\n",
    "| PLCons (tl, PList Empty) -> \"[\" ^ (String.concat \", \" (List.map term_to_string tl)) ^ \"]\"\n",
    "| PLCons (tl, PList plst) -> \"[\" ^ (String.concat \", \" (List.map term_to_string tl)) ^ \" | \" ^ (plist_to_string plst) ^ \"]\";;\n",
    "\n",
    "\n",
    "let term_list_to_string l = String.concat \", \" (List.map term_to_string l);;\n",
    "\n",
    "let clause_to_string (Clause (h, l)) = (term_to_string h) ^ \":-\" ^ (term_list_to_string l);;"
   ]
  },
  {
   "cell_type": "code",
   "execution_count": 15,
   "metadata": {},
   "outputs": [
    {
     "data": {
      "text/plain": [
       "val var_in_term : var -> term -> bool = <fun>\n"
      ]
     },
     "execution_count": 15,
     "metadata": {},
     "output_type": "execute_result"
    },
    {
     "data": {
      "text/plain": [
       "- : bool = false\n"
      ]
     },
     "execution_count": 15,
     "metadata": {},
     "output_type": "execute_result"
    }
   ],
   "source": [
    "(* Teste si une variable est dans un terme *)\n",
    "let rec var_in_term v = function\n",
    "| Var w -> v = w\n",
    "| Term (_, l) -> List.mem true (List.map (var_in_term v) l)\n",
    "| PList Empty -> false\n",
    "| PList (PLCons (l, t)) -> List.mem true (List.map (var_in_term v) l) || var_in_term v t;;\n",
    "\n",
    "var_in_term (VarT (\"P\", 0)) (parser_term \"[A,[B,Z],C | [E | P] ]\");;"
   ]
  },
  {
   "cell_type": "code",
   "execution_count": 16,
   "metadata": {},
   "outputs": [
    {
     "data": {
      "text/plain": [
       "val replace_var_in_term : var -> term -> term -> term = <fun>\n"
      ]
     },
     "execution_count": 16,
     "metadata": {},
     "output_type": "execute_result"
    },
    {
     "data": {
      "text/plain": [
       "- : term =\n",
       "Term (\"etudiant_de\",\n",
       " [PList\n",
       "   (PLCons ([Var (VarT (\"E\", 0)); Var (VarT (\"B\", 0))], Term (\"pierre\", [])));\n",
       "  Var (VarT (\"P\", 0))])\n"
      ]
     },
     "execution_count": 16,
     "metadata": {},
     "output_type": "execute_result"
    }
   ],
   "source": [
    "(* Remplace une variable par un nouveau terme, récursivement à l'intérieur d'un terme *)\n",
    "let rec replace_var_in_term var new_t = function\n",
    "| Var v when v = var -> new_t\n",
    "| Var v -> Var v\n",
    "| Term (a , l) -> Term (a, List.map (replace_var_in_term var new_t) l)\n",
    "| PList Empty -> PList Empty\n",
    "| PList (PLCons (l, t)) -> PList \n",
    "(PLCons ((List.map (replace_var_in_term var new_t) l), (replace_var_in_term  var new_t t)));;\n",
    "\n",
    "replace_var_in_term (VarL (\"E\",0)) (parser_term \"pierre\") (parser_term \"etudiant_de([E,B | E],P)\");;"
   ]
  },
  {
   "cell_type": "code",
   "execution_count": 17,
   "metadata": {},
   "outputs": [
    {
     "data": {
      "text/plain": [
       "val var_in_eql : var -> (term * term) list -> bool = <fun>\n"
      ]
     },
     "execution_count": 17,
     "metadata": {},
     "output_type": "execute_result"
    },
    {
     "data": {
      "text/plain": [
       "val replace_var_in_eql :\n",
       "  var -> term -> (term * term) list -> (term * term) list = <fun>\n"
      ]
     },
     "execution_count": 17,
     "metadata": {},
     "output_type": "execute_result"
    }
   ],
   "source": [
    "(* Teste si une variable est dans une liste de couples de termes *)\n",
    "let var_in_eql v e = List.mem true (List.map (function t -> var_in_term v (fst t) || var_in_term v (snd t)) e);;\n",
    "\n",
    "(* Remplace une variable par un nouveau terme, à l'intérieur d'une liste de couples de termes *)\n",
    "let replace_var_in_eql var new_t eql = \n",
    "List.map (function (a, b) -> (replace_var_in_term var new_t a), (replace_var_in_term var new_t b)) eql;;"
   ]
  },
  {
   "cell_type": "code",
   "execution_count": 18,
   "metadata": {},
   "outputs": [
    {
     "name": "stderr",
     "output_type": "stream",
     "text": [
      "File \"[18]\", line 5, characters 23-712:\n",
      " 5 | .......................function\n",
      " 6 |     | [] -> Some tmp\n",
      " 7 |     \n",
      " 8 |     | (Term (f, lf), Term (g, lg))::l when f = g && List.length lf = List.length lg -> \n",
      " 9 |         pass ((List.map2 (fun a b -> a,b) lf lg)@tmp) l\n",
      "...\n",
      "18 |         if var_in_term x t then None (* failwith \"Unification failed, loop\" *)\n",
      "19 |         else pass ((Var x, t)::(replace_var_in_eql x t tmp)) (replace_var_in_eql x t l)\n",
      "20 |         \n",
      "21 |     | (Var x, t)::l -> pass ((Var x, t)::tmp) l\n",
      "Warning 8: this pattern-matching is not exhaustive.\n",
      "Here is an example of a case that is not matched:\n",
      "((Term (_, _), PList _)::_|(PList _, _)::_)\n"
     ]
    },
    {
     "data": {
      "text/plain": [
       "val solve : (term * term) list -> (term * term) list option = <fun>\n"
      ]
     },
     "execution_count": 18,
     "metadata": {},
     "output_type": "execute_result"
    }
   ],
   "source": [
    "(* E est une liste de couples de termes *)\n",
    "(* transforme E en un équivalent sous forme résolue (type option, None si impossible) *) \n",
    "let rec solve e =\n",
    "    (* Parcourt une fois l'ensemble des équations *)\n",
    "    let rec pass tmp = function\n",
    "    | [] -> Some tmp\n",
    "    \n",
    "    | (Term (f, lf), Term (g, lg))::l when f = g && List.length lf = List.length lg -> \n",
    "        pass ((List.map2 (fun a b -> a,b) lf lg)@tmp) l\n",
    "        \n",
    "    | (Term (_, _), Term (_, _))::l -> None (* failwith \"Unification failed\" *)\n",
    "    \n",
    "    | (Var x, Var y)::l when x = y -> pass tmp l\n",
    "    \n",
    "    | (Term (a, la), Var x)::l -> pass ((Var x, Term (a, la))::tmp) l\n",
    "    \n",
    "    | (Var x, t)::l when var_in_eql x tmp || var_in_eql x l -> \n",
    "        if var_in_term x t then None (* failwith \"Unification failed, loop\" *)\n",
    "        else pass ((Var x, t)::(replace_var_in_eql x t tmp)) (replace_var_in_eql x t l)\n",
    "        \n",
    "    | (Var x, t)::l -> pass ((Var x, t)::tmp) l\n",
    "    \n",
    "in match (pass [] e) with \n",
    "| None -> None\n",
    "| Some eqlpp -> let b = List.sort_uniq compare eqlpp in if e = b then Some e else solve b;;"
   ]
  },
  {
   "cell_type": "code",
   "execution_count": 19,
   "metadata": {},
   "outputs": [
    {
     "data": {
      "text/plain": [
       "- : (term * term) list option =\n",
       "Some [(Var (VarT (\"E\", 0)), Var (VarT (\"S\", 0)))]\n"
      ]
     },
     "execution_count": 19,
     "metadata": {},
     "output_type": "execute_result"
    }
   ],
   "source": [
    "solve [parser_term \"etudiant_de(E, P)\", parser_term \"etudiant_de(S, P)\"];; (* E = S *)"
   ]
  },
  {
   "cell_type": "code",
   "execution_count": 20,
   "metadata": {},
   "outputs": [
    {
     "name": "stderr",
     "output_type": "stream",
     "text": [
      "File \"[20]\", line 4, characters 26-162:\n",
      "4 | ..........................function\n",
      "5 |     | Var x, Term (a, l) -> x, Term (a, l)\n",
      "6 |     | Var x, Var y -> x, Var y\n",
      "7 |     | Term (_, _), _ -> failwith \"Should not happen.\"\n",
      "Warning 8: this pattern-matching is not exhaustive.\n",
      "Here is an example of a case that is not matched:\n",
      "((Var _, PList _)|(PList _, _))\n"
     ]
    },
    {
     "data": {
      "text/plain": [
       "val mgu : term -> term -> (var * term) list option = <fun>\n"
      ]
     },
     "execution_count": 20,
     "metadata": {},
     "output_type": "execute_result"
    }
   ],
   "source": [
    "(* Prend 2 terme et renvoie l'unifieur le plus général s'il existe, None sinon. \n",
    "Attention, aucune variable ne doit être présente dans (r) la requête et dans (c) la tête de la clause *)\n",
    "\n",
    "let rec mgu r c = let f = function\n",
    "    | Var x, Term (a, l) -> x, Term (a, l)\n",
    "    | Var x, Var y -> x, Var y\n",
    "    | Term (_, _), _ -> failwith \"Should not happen.\"\n",
    "in match solve [r, c] with\n",
    "| None -> None\n",
    "| Some e -> Some (List.map f e);;"
   ]
  },
  {
   "cell_type": "code",
   "execution_count": 21,
   "metadata": {},
   "outputs": [
    {
     "data": {
      "text/plain": [
       "val test_unification : string -> string -> (var * term) list option = <fun>\n"
      ]
     },
     "execution_count": 21,
     "metadata": {},
     "output_type": "execute_result"
    },
    {
     "data": {
      "text/plain": [
       "- : (var * term) list option =\n",
       "Some\n",
       " [(VarT (\"E\", 0), Var (VarT (\"F\", 0))); (VarT (\"P\", 0), Term (\"pierre\", []))]\n"
      ]
     },
     "execution_count": 21,
     "metadata": {},
     "output_type": "execute_result"
    },
    {
     "data": {
      "text/plain": [
       "- : (var * term) list option =\n",
       "Some\n",
       " [(VarT (\"F\", 0), Var (VarT (\"E\", 0))); (VarT (\"P\", 0), Term (\"pierre\", []))]\n"
      ]
     },
     "execution_count": 21,
     "metadata": {},
     "output_type": "execute_result"
    },
    {
     "data": {
      "text/plain": [
       "- : (var * term) list option =\n",
       "Some\n",
       " [(VarT (\"X\", 0), Term (\"g\", [Term (\"g\", [Var (VarT (\"Y\", 0))])]));\n",
       "  (VarT (\"Z\", 0), Term (\"g\", [Var (VarT (\"Y\", 0))]))]\n"
      ]
     },
     "execution_count": 21,
     "metadata": {},
     "output_type": "execute_result"
    },
    {
     "data": {
      "text/plain": [
       "- : (var * term) list option =\n",
       "Some\n",
       " [(VarT (\"X\", 0), Term (\"g\", [Term (\"g\", [Var (VarT (\"Y\", 0))])]));\n",
       "  (VarT (\"Z\", 0), Term (\"g\", [Var (VarT (\"Y\", 0))]))]\n"
      ]
     },
     "execution_count": 21,
     "metadata": {},
     "output_type": "execute_result"
    }
   ],
   "source": [
    "(* La fonction test_unification a pour but de tester mgu *)\n",
    "let test_unification str_r str_c = mgu (parser_term str_r) (parser_term str_c);;\n",
    "\n",
    "test_unification \"etudiant_de(E, pierre)\" \"etudiant_de(F,P)\";; (* F/E et P/pierre *)\n",
    "\n",
    "test_unification \"etudiant_de(F,P)\" \"etudiant_de(E, pierre)\";; (* E/F et P/pierre *)\n",
    "\n",
    "test_unification \"f(X,g(Y))\" \"f(g(Z),Z)\";; (* X/g(g(Y)) et Z/g(Y) *)\n",
    "\n",
    "test_unification \"f(g(Z),Z)\" \"f(X,g(Y))\";; (* X/g(g(Y)) et Z/g(Y) *)"
   ]
  },
  {
   "cell_type": "code",
   "execution_count": 22,
   "metadata": {},
   "outputs": [
    {
     "data": {
      "text/plain": [
       "val apply_subst_on_term : (var * term) list -> term -> term = <fun>\n"
      ]
     },
     "execution_count": 22,
     "metadata": {},
     "output_type": "execute_result"
    },
    {
     "data": {
      "text/plain": [
       "val apply_subst_on_termlist : (var * term) list -> term list -> term list =\n",
       "  <fun>\n"
      ]
     },
     "execution_count": 22,
     "metadata": {},
     "output_type": "execute_result"
    }
   ],
   "source": [
    "(* Applique une substitution sur un terme *)\n",
    "let rec apply_subst_on_term uni term = match uni with\n",
    "| [] -> term\n",
    "| (v,t)::l -> apply_subst_on_term l (replace_var_in_term v t term);;\n",
    "\n",
    "(* Applique une substitution sur une liste de termes *)\n",
    "let rec apply_subst_on_termlist uni lst = List.map (apply_subst_on_term uni) lst;;"
   ]
  },
  {
   "cell_type": "code",
   "execution_count": 23,
   "metadata": {},
   "outputs": [
    {
     "name": "stderr",
     "output_type": "stream",
     "text": [
      "File \"[23]\", line 3, characters 12-110:\n",
      "3 | ............function \n",
      "4 | | Var (VarT (str, _)) -> Var (VarT (str, n))\n",
      "5 | | Term (atm, l) -> Term (atm, List.map f l)\n",
      "Warning 8: this pattern-matching is not exhaustive.\n",
      "Here is an example of a case that is not matched:\n",
      "(Var (VarL (_, _))|PList _)\n"
     ]
    },
    {
     "data": {
      "text/plain": [
       "val rename : int -> clause -> clause = <fun>\n"
      ]
     },
     "execution_count": 23,
     "metadata": {},
     "output_type": "execute_result"
    },
    {
     "data": {
      "text/plain": [
       "- : clause =\n",
       "Clause (Term (\"etudiant_de\", [Var (VarT (\"E\", 42)); Var (VarT (\"P\", 42))]),\n",
       " [Term (\"apprend\", [Var (VarT (\"E\", 42)); Var (VarT (\"M\", 42))]);\n",
       "  Term (\"enseigne\", [Var (VarT (\"P\", 42)); Var (VarT (\"M\", 42))])])\n"
      ]
     },
     "execution_count": 23,
     "metadata": {},
     "output_type": "execute_result"
    }
   ],
   "source": [
    "(* Prend un entier et une clause, renvoie la clause avec les variables renommées à l'entier *)\n",
    "let rename n (Clause (t1, tl)) = \n",
    "let rec f = function \n",
    "| Var (VarT (str, _)) -> Var (VarT (str, n))\n",
    "| Term (atm, l) -> Term (atm, List.map f l)\n",
    "in Clause (f t1, List.map f tl);;\n",
    "\n",
    "rename 42 (parser_clause \"etudiant_de(E,P):-apprend(E,M), enseigne(P,M)\");;"
   ]
  },
  {
   "cell_type": "code",
   "execution_count": 24,
   "metadata": {},
   "outputs": [
    {
     "data": {
      "text/plain": [
       "type 'a tree = Leaf of 'a | Node of 'a tree Lazy.t list\n"
      ]
     },
     "execution_count": 24,
     "metadata": {},
     "output_type": "execute_result"
    },
    {
     "data": {
      "text/plain": [
       "val sld_tree :\n",
       "  clause list ->\n",
       "  term list -> (var * term) list list -> int -> (var * term) list list tree =\n",
       "  <fun>\n"
      ]
     },
     "execution_count": 24,
     "metadata": {},
     "output_type": "execute_result"
    }
   ],
   "source": [
    "type 'a tree = Leaf of 'a | Node of (('a tree) Lazy.t) list;;\n",
    "\n",
    "(* La fonction de recherche, renvoie l'arbre des solutions *)\n",
    "let rec sld_tree world req subs n = match req with\n",
    "| [] -> Leaf subs \n",
    "| head_request_term::other_request_terms -> \n",
    "    Node (List.filter_map (fun c -> let Clause (left_member, right_member) = rename n c in \n",
    "    (match mgu head_request_term left_member with\n",
    "        | None -> None\n",
    "        | Some unifier -> Some (lazy (sld_tree world \n",
    "            (apply_subst_on_termlist unifier (right_member@other_request_terms)) \n",
    "            (unifier::subs) (n+1)))\n",
    "    )) world);;"
   ]
  },
  {
   "cell_type": "code",
   "execution_count": 25,
   "metadata": {},
   "outputs": [
    {
     "data": {
      "text/plain": [
       "val compose : (var * term) list list -> (var * term) list = <fun>\n"
      ]
     },
     "execution_count": 25,
     "metadata": {},
     "output_type": "execute_result"
    },
    {
     "name": "stderr",
     "output_type": "stream",
     "text": [
      "File \"[25]\", line 8, characters 0-70:\n",
      " 8 | (function \n",
      " 9 | | Var v -> [Var v]\n",
      "10 | | Term (_,l) -> find_vars_in_termlist l).\n",
      "Warning 8: this pattern-matching is not exhaustive.\n",
      "Here is an example of a case that is not matched:\n",
      "PList _\n"
     ]
    },
    {
     "data": {
      "text/plain": [
       "val find_vars_in_termlist : term list -> term list = <fun>\n"
      ]
     },
     "execution_count": 25,
     "metadata": {},
     "output_type": "execute_result"
    }
   ],
   "source": [
    "(* Compose correctement la liste de substitutions *)\n",
    "let compose l = \n",
    "let compose2 s1 s2 = s1@(List.map (function (v2, lt2) -> (v2, apply_subst_on_term s1 lt2)) s2)\n",
    "in List.fold_left compose2 [] l;;\n",
    "\n",
    "(* Recherche les termes qui sont des variables récursivement dans une liste de termes *)\n",
    "let rec find_vars_in_termlist tl = List.sort_uniq compare (List.concat (List.map \n",
    "(function \n",
    "| Var v -> [Var v]\n",
    "| Term (_,l) -> find_vars_in_termlist l) \n",
    "tl));;"
   ]
  },
  {
   "cell_type": "code",
   "execution_count": 26,
   "metadata": {},
   "outputs": [
    {
     "data": {
      "text/plain": [
       "val list_to_seq : 'a list -> 'a Seq.t = <fun>\n"
      ]
     },
     "execution_count": 26,
     "metadata": {},
     "output_type": "execute_result"
    },
    {
     "data": {
      "text/plain": [
       "val to_seq : 'a tree -> 'a Seq.t = <fun>\n"
      ]
     },
     "execution_count": 26,
     "metadata": {},
     "output_type": "execute_result"
    },
    {
     "data": {
      "text/plain": [
       "val solutions : clause list -> string -> (term list * term list) Seq.t =\n",
       "  <fun>\n"
      ]
     },
     "execution_count": 26,
     "metadata": {},
     "output_type": "execute_result"
    },
    {
     "data": {
      "text/plain": [
       "val request : clause list -> string -> unit = <fun>\n"
      ]
     },
     "execution_count": 26,
     "metadata": {},
     "output_type": "execute_result"
    }
   ],
   "source": [
    "let list_to_seq l = List.fold_right (fun x s -> (fun ()->Seq.Cons(x, s)) ) l Seq.empty;;\n",
    "\n",
    "let rec to_seq = function\n",
    "| Leaf str -> Seq.return str\n",
    "| Node tl -> Seq.flat_map (fun par -> to_seq (Lazy.force par)) (list_to_seq tl);;\n",
    "\n",
    "let solutions world req = let tree = sld_tree world (parser_term_list req) [] 1 in \n",
    "let vars = (find_vars_in_termlist (parser_term_list req)) in\n",
    "Seq.map  (fun l -> vars, apply_subst_on_termlist (compose l) vars) (to_seq tree);;\n",
    "\n",
    "let request world req = let sol = solutions world req in\n",
    "if sol () = Seq.Nil then Format.printf \"This is false.\\n%!\"\n",
    "else Seq.iter (fun (vars, tl) -> \n",
    "if vars = [] then Format.printf \"This is True.\\n%!\"\n",
    "else Format.printf \"There is : %s\\n%!\"\n",
    "(String.concat \", \" (List.map2 (fun v t -> (term_to_string v) ^ \" = \" ^ (term_to_string t)) vars tl))\n",
    ") sol;;"
   ]
  },
  {
   "cell_type": "code",
   "execution_count": 27,
   "metadata": {},
   "outputs": [],
   "source": [
    "(* request world \"etudiant_de(E, pierre)\";;\n",
    "\n",
    "request world \"etudiant_de(E, pierre), etudiant_de(E, alice)\";;\n",
    "\n",
    "request world \"etudiant_de(A, B)\";;\n",
    "\n",
    "request world \"etudiant_de(A, A)\";;\n",
    "\n",
    "request world \"apprend(A, A)\";;\n",
    "\n",
    "request world \"enseigne(A, A)\";;\n",
    "\n",
    "request world \"enseigne(alice, physique)\";;\n",
    "\n",
    "request world \"enseigne(alice, mathematiques)\";; *)"
   ]
  },
  {
   "cell_type": "code",
   "execution_count": null,
   "metadata": {},
   "outputs": [],
   "source": []
  },
  {
   "cell_type": "code",
   "execution_count": null,
   "metadata": {},
   "outputs": [],
   "source": []
  },
  {
   "cell_type": "code",
   "execution_count": 28,
   "metadata": {},
   "outputs": [],
   "source": [
    "(* # load \"prolog.cmo\";;\n",
    "open Prolog;; *)"
   ]
  },
  {
   "cell_type": "code",
   "execution_count": 29,
   "metadata": {
    "scrolled": true
   },
   "outputs": [
    {
     "data": {
      "text/plain": [
       "val program : string =\n",
       "  \"\\nconnected(bond_street,oxford_circus,central).\\nconnected(oxford_circus,tottenham_court_road,central).\\nconnected(bond_street,green_park,jubilee).\\nconnected(green_park,charing_cross,jubilee).\\nconnected(green_park,piccadilly_circus,piccadilly).\\nconnected(piccadilly_circus,leicester_square,piccadilly).\"... (* string length 816; truncated *)\n"
      ]
     },
     "execution_count": 29,
     "metadata": {},
     "output_type": "execute_result"
    }
   ],
   "source": [
    "let program = \"\n",
    "connected(bond_street,oxford_circus,central).\n",
    "connected(oxford_circus,tottenham_court_road,central).\n",
    "connected(bond_street,green_park,jubilee).\n",
    "connected(green_park,charing_cross,jubilee).\n",
    "connected(green_park,piccadilly_circus,piccadilly).\n",
    "connected(piccadilly_circus,leicester_square,piccadilly).\n",
    "connected(green_park,oxford_circus,victoria).\n",
    "connected(oxford_circus,piccadilly_circus,bakerloo).\n",
    "connected(piccadilly_circus,charing_cross,bakerloo).\n",
    "connected(tottenham_court_road,leicester_square,northern).\n",
    "connected(leicester_square,charing_cross,northern).\n",
    "\n",
    "nearby(X,Y):-connected(X,Y,L).\n",
    "nearby(X,Y):-connected(X,Z,L),connected(Z,Y,L).\n",
    "\n",
    "reachable(X,Y):-connected(X,Y,L).\n",
    "reachable(X,Y):-connected(X,Z,L),reachable(Z,Y).\n",
    "\n",
    "path(X,Y,noroute):-connected(X,Y,L).\n",
    "path(X,Y,route(Z,R)):-connected(X,Z,L),path(Z,Y,R).\";; (*connected(X,Y,L):-connected(Y,X,L).*)"
   ]
  },
  {
   "cell_type": "code",
   "execution_count": 30,
   "metadata": {
    "scrolled": true
   },
   "outputs": [
    {
     "data": {
      "text/plain": [
       "val world : clause list =\n",
       "  [Clause\n",
       "    (Term (\"connected\",\n",
       "      [Term (\"bond_street\", []); Term (\"oxford_circus\", []);\n",
       "       Term (\"central\", [])]),\n",
       "    []);\n",
       "   Clause\n",
       "    (Term (\"connected\",\n",
       "      [Term (\"oxford_circus\", []); Term (\"tottenham_court_road\", []);\n",
       "       Term (\"central\", [])]),\n",
       "    []);\n",
       "   Clause\n",
       "    (Term (\"connected\",\n",
       "      [Term (\"bond_street\", []); Term (\"green_park\", []);\n",
       "       Term (\"jubilee\", [])]),\n",
       "    []);\n",
       "   Clause\n",
       "    (Term (\"connected\",\n",
       "      [Term (\"green_park\", []); Term (\"charing_cross\", []);\n",
       "       Term (\"jubilee\", [])]),\n",
       "    []);\n",
       "   Clause\n",
       "    (Term (\"connected\",\n",
       "      [Term (\"green_park\", []); Term (\"piccadilly_circus\", []);\n",
       "       Term (\"piccadilly\", [])]),\n",
       "    []);\n",
       "   Clause\n",
       "    (Term (\"connected\",\n",
       "      [Term (\"piccadilly_circus\", []); Term (\"leicester_square\", []);\n",
       "       Term (\"piccadilly\", [])]),\n",
       "    []);\n",
       "   Clause\n",
       "    (Term (\"connected\",\n",
       "      [Term (\"green_park\", []); Term (\"oxford_circus\", []);\n",
       "       Term (\"victoria\", [])]),\n",
       "    []);\n",
       "   Clause\n",
       "    (Term (\"connected\",\n",
       "      [Term (\"oxford_circus\", []); Term (\"piccadilly_circus\", []);\n",
       "       Term (\"bakerloo\", [])]),\n",
       "    []);\n",
       "   Clause\n",
       "    (Term (\"connected\",\n",
       "      [Term (\"piccadilly_circus\", []); Term (\"charing_cross\", []);\n",
       "       Term (\"bakerloo\", [])]),\n",
       "    []);\n",
       "   Clause\n",
       "    (Term (\"connected\",\n",
       "      [Term (\"tottenham_court_road\", []); Term (\"leicester_square\", []);\n",
       "       Term (\"northern\", [])]),\n",
       "    []);\n",
       "   Clause\n",
       "    (Term (\"connected\",\n",
       "      [Term (\"leicester_square\", []); Term (\"charing_cross\", []);\n",
       "       Term (\"northern\", [])]),\n",
       "    []);\n",
       "   Clause (Term (\"nearby\", [Var (VarT (\"X\", 0)); Var (VarT (\"Y\", 0))]),\n",
       "    [Term (\"connected\",\n",
       "      [Var (VarT (\"X\", 0)); Var (VarT (\"Y\", 0)); Var (VarT (\"L\", 0))])]);\n",
       "   Clause (Term (\"nearby\", [Var (VarT (\"X\", 0)); Var (VarT (\"Y\", 0))]),\n",
       "    [Term (\"connected\",\n",
       "      [Var (VarT (\"X\", 0)); Var (VarT (\"Z\", 0)); Var (VarT (\"L\", 0))]);\n",
       "     Term (\"connected\",\n",
       "      [Var (VarT (\"Z\", 0)); Var (VarT (\"Y\", 0)); Var (VarT (\"L\", 0))])]);\n",
       "   Clause (Term (\"reachable\", [Var (VarT (\"X\", 0)); Var (VarT (\"Y\", 0))]),\n",
       "    [Term (\"connected\",\n",
       "      [Var (VarT (\"X\", 0)); Var (VarT (\"Y\", 0)); Var (VarT (\"L\", 0))])]);\n",
       "   Clause (Term (\"reachable\", [Var (VarT (\"X\", 0)); Var (VarT (\"Y\", 0))]),\n",
       "    [Term (\"connected\",\n",
       "      [Var (VarT (\"X\", 0)); Var (VarT (\"Z\", 0)); Var (VarT (\"L\", 0))]);\n",
       "     Term (\"reachable\", [Var (VarT (\"Z\", 0)); Var (VarT (\"Y\", 0))])]);\n",
       "   Clause\n",
       "    (Term (\"path\",\n",
       "      [Var (VarT (\"\"... (* string length 1; truncated *), ...)); ...]),\n",
       "    ...);\n",
       "   ...]\n"
      ]
     },
     "execution_count": 30,
     "metadata": {},
     "output_type": "execute_result"
    }
   ],
   "source": [
    "let world = parser program;;"
   ]
  },
  {
   "cell_type": "code",
   "execution_count": 31,
   "metadata": {
    "scrolled": true
   },
   "outputs": [
    {
     "name": "stdout",
     "output_type": "stream",
     "text": [
      "This is True.\n"
     ]
    },
    {
     "data": {
      "text/plain": [
       "- : unit = ()\n"
      ]
     },
     "execution_count": 31,
     "metadata": {},
     "output_type": "execute_result"
    }
   ],
   "source": [
    "request world \"connected(piccadilly_circus,leicester_square,piccadilly)\";;"
   ]
  },
  {
   "cell_type": "code",
   "execution_count": 32,
   "metadata": {},
   "outputs": [
    {
     "name": "stdout",
     "output_type": "stream",
     "text": [
      "This is True.\n"
     ]
    },
    {
     "data": {
      "text/plain": [
       "- : unit = ()\n"
      ]
     },
     "execution_count": 32,
     "metadata": {},
     "output_type": "execute_result"
    }
   ],
   "source": [
    "request world \"nearby(oxford_circus, charing_cross)\";;"
   ]
  },
  {
   "cell_type": "code",
   "execution_count": 33,
   "metadata": {},
   "outputs": [
    {
     "name": "stdout",
     "output_type": "stream",
     "text": [
      "There is : W = leicester_square\n",
      "There is : W = charing_cross\n"
     ]
    },
    {
     "data": {
      "text/plain": [
       "- : unit = ()\n"
      ]
     },
     "execution_count": 33,
     "metadata": {},
     "output_type": "execute_result"
    }
   ],
   "source": [
    "request world \"nearby(tottenham_court_road,W)\";;"
   ]
  },
  {
   "cell_type": "code",
   "execution_count": 34,
   "metadata": {},
   "outputs": [
    {
     "name": "stdout",
     "output_type": "stream",
     "text": [
      "This is True.\n",
      "This is True.\n",
      "This is True.\n",
      "This is True.\n",
      "This is True.\n"
     ]
    },
    {
     "data": {
      "text/plain": [
       "- : unit = ()\n"
      ]
     },
     "execution_count": 34,
     "metadata": {},
     "output_type": "execute_result"
    }
   ],
   "source": [
    "request world \"reachable(bond_street, leicester_square)\";;"
   ]
  },
  {
   "cell_type": "code",
   "execution_count": 35,
   "metadata": {},
   "outputs": [
    {
     "name": "stdout",
     "output_type": "stream",
     "text": [
      "This is false.\n"
     ]
    },
    {
     "data": {
      "text/plain": [
       "- : unit = ()\n"
      ]
     },
     "execution_count": 35,
     "metadata": {},
     "output_type": "execute_result"
    }
   ],
   "source": [
    "request world \"connected(oxford_circus, bond_street, L)\";;"
   ]
  },
  {
   "cell_type": "code",
   "execution_count": 36,
   "metadata": {},
   "outputs": [
    {
     "name": "stdout",
     "output_type": "stream",
     "text": [
      "There is : R = route(tottenham_court_road, route(leicester_square, noroute))\n",
      "There is : R = route(piccadilly_circus, noroute)\n",
      "There is : R = route(piccadilly_circus, route(leicester_square, noroute))\n"
     ]
    },
    {
     "data": {
      "text/plain": [
       "- : unit = ()\n"
      ]
     },
     "execution_count": 36,
     "metadata": {},
     "output_type": "execute_result"
    }
   ],
   "source": [
    "request world \"path(oxford_circus,charing_cross,R)\";;"
   ]
  },
  {
   "cell_type": "code",
   "execution_count": null,
   "metadata": {},
   "outputs": [],
   "source": []
  }
 ],
 "metadata": {
  "kernelspec": {
   "display_name": "OCaml 4.08.1",
   "language": "OCaml",
   "name": "ocaml-jupyter"
  },
  "language_info": {
   "codemirror_mode": "text/x-ocaml",
   "file_extension": ".ml",
   "mimetype": "text/x-ocaml",
   "name": "OCaml",
   "nbconverter_exporter": null,
   "pygments_lexer": "OCaml",
   "version": "4.08.1"
  }
 },
 "nbformat": 4,
 "nbformat_minor": 4
}
