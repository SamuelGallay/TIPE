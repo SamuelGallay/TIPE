{
 "cells": [
  {
   "cell_type": "markdown",
   "metadata": {},
   "source": [
    "# Déchiffrement de la syntaxe Prolog"
   ]
  },
  {
   "cell_type": "code",
   "execution_count": 1,
   "metadata": {},
   "outputs": [
    {
     "data": {
      "text/plain": [
       "type var = Id of string * int\n"
      ]
     },
     "execution_count": 1,
     "metadata": {},
     "output_type": "execute_result"
    },
    {
     "data": {
      "text/plain": [
       "type table = Empty | NonEmpty of term * table | TVar of var\n",
       "and term = Var of var | Predicate of string * term list | Table of table\n"
      ]
     },
     "execution_count": 1,
     "metadata": {},
     "output_type": "execute_result"
    },
    {
     "data": {
      "text/plain": [
       "type clause = Clause of term * term list\n"
      ]
     },
     "execution_count": 1,
     "metadata": {},
     "output_type": "execute_result"
    }
   ],
   "source": [
    "type var = Id of string * int\n",
    "\n",
    "type table = Empty | NonEmpty of term * table | TVar of var\n",
    "and term = Var of var | Predicate of string * (term list) | Table of table\n",
    "\n",
    "type clause = Clause of term * (term list);;"
   ]
  },
  {
   "cell_type": "markdown",
   "metadata": {},
   "source": [
    "## Le nouveau Parser :"
   ]
  },
  {
   "cell_type": "code",
   "execution_count": 2,
   "metadata": {},
   "outputs": [
    {
     "data": {
      "text/plain": [
       "type structure =\n",
       "    S of string\n",
       "  | V of var\n",
       "  | L of table\n",
       "  | T of term\n",
       "  | C of clause\n",
       "  | W of clause list\n",
       "  | P of string\n",
       "  | TL of term list\n"
      ]
     },
     "execution_count": 2,
     "metadata": {},
     "output_type": "execute_result"
    }
   ],
   "source": [
    "type structure = S of string | V of var | L of table | T of term | C of clause \n",
    "                | W of clause list | P of string | TL of term list"
   ]
  },
  {
   "cell_type": "code",
   "execution_count": 3,
   "metadata": {},
   "outputs": [
    {
     "data": {
      "text/plain": [
       "val to_list : string -> char list = <fun>\n"
      ]
     },
     "execution_count": 3,
     "metadata": {},
     "output_type": "execute_result"
    },
    {
     "data": {
      "text/plain": [
       "val remove_spaces : char list -> char list = <fun>\n"
      ]
     },
     "execution_count": 3,
     "metadata": {},
     "output_type": "execute_result"
    },
    {
     "data": {
      "text/plain": [
       "val of_char : char -> string = <fun>\n"
      ]
     },
     "execution_count": 3,
     "metadata": {},
     "output_type": "execute_result"
    }
   ],
   "source": [
    "let to_list str = List.init (String.length str) (String.get str);;\n",
    "let rec remove_spaces = function\n",
    "| [] -> []\n",
    "| (' ' | '\\t' | '\\n')::l -> remove_spaces l\n",
    "| a::l -> a::(remove_spaces l);;\n",
    "let of_char c = String.make 1 c;;"
   ]
  },
  {
   "cell_type": "code",
   "execution_count": 4,
   "metadata": {},
   "outputs": [
    {
     "data": {
      "text/plain": [
       "val ( <+> ) : ('a -> 'b list) -> ('a -> 'b list) -> 'a -> 'b list = <fun>\n"
      ]
     },
     "execution_count": 4,
     "metadata": {},
     "output_type": "execute_result"
    },
    {
     "data": {
      "text/plain": [
       "val chain : 'a list -> ('b * 'a list) list -> ('b * 'a list) list = <fun>\n"
      ]
     },
     "execution_count": 4,
     "metadata": {},
     "output_type": "execute_result"
    },
    {
     "data": {
      "text/plain": [
       "val ( *~* ) :\n",
       "  ('a -> ('b * 'c list) list) ->\n",
       "  ('b -> ('d * 'c list) list) -> 'a -> ('d * 'c list) list = <fun>\n"
      ]
     },
     "execution_count": 4,
     "metadata": {},
     "output_type": "execute_result"
    },
    {
     "data": {
      "text/plain": [
       "val ( >~> ) : ('a -> ('b * 'c) list) -> ('c -> 'd) -> 'a -> ('b * 'd) list =\n",
       "  <fun>\n"
      ]
     },
     "execution_count": 4,
     "metadata": {},
     "output_type": "execute_result"
    },
    {
     "data": {
      "text/plain": [
       "val skip : 'a -> 'b list = <fun>\n"
      ]
     },
     "execution_count": 4,
     "metadata": {},
     "output_type": "execute_result"
    },
    {
     "data": {
      "text/plain": [
       "val fix : (('a -> 'b) -> 'a -> 'b) -> 'a -> 'b = <fun>\n"
      ]
     },
     "execution_count": 4,
     "metadata": {},
     "output_type": "execute_result"
    }
   ],
   "source": [
    "let ( <+> ) ra rb = fun l -> (ra l) @ (rb l)\n",
    "\n",
    "let chain y l = List.map (fun (a, b) -> (a, y@b)) l\n",
    "\n",
    "let ( *~* ) ra rb l = List.concat (List.map (fun (x, y) -> chain y (rb x)) (ra l))\n",
    "                    \n",
    "let ( >~> ) ra f = fun l -> List.map (fun (a, b) -> (a, f b)) (ra l)\n",
    "\n",
    "let skip = fun l -> []\n",
    "                    \n",
    "let fix aux = let rec g x = aux g x in g"
   ]
  },
  {
   "cell_type": "code",
   "execution_count": 5,
   "metadata": {},
   "outputs": [
    {
     "data": {
      "text/plain": [
       "val rlow : char list -> (char list * structure list) list = <fun>\n"
      ]
     },
     "execution_count": 5,
     "metadata": {},
     "output_type": "execute_result"
    },
    {
     "data": {
      "text/plain": [
       "val rup : char list -> (char list * structure list) list = <fun>\n"
      ]
     },
     "execution_count": 5,
     "metadata": {},
     "output_type": "execute_result"
    },
    {
     "data": {
      "text/plain": [
       "val rsym : char -> char list -> (char list * structure list) list = <fun>\n"
      ]
     },
     "execution_count": 5,
     "metadata": {},
     "output_type": "execute_result"
    },
    {
     "data": {
      "text/plain": [
       "val rchar : char list -> (char list * structure list) list = <fun>\n"
      ]
     },
     "execution_count": 5,
     "metadata": {},
     "output_type": "execute_result"
    },
    {
     "data": {
      "text/plain": [
       "val rmot : char list -> (char list * structure list) list = <fun>\n"
      ]
     },
     "execution_count": 5,
     "metadata": {},
     "output_type": "execute_result"
    },
    {
     "data": {
      "text/plain": [
       "val variable : char list -> (char list * structure list) list = <fun>\n"
      ]
     },
     "execution_count": 5,
     "metadata": {},
     "output_type": "execute_result"
    },
    {
     "data": {
      "text/plain": [
       "val predicate : char list -> (char list * structure list) list = <fun>\n"
      ]
     },
     "execution_count": 5,
     "metadata": {},
     "output_type": "execute_result"
    },
    {
     "data": {
      "text/plain": [
       "val table_from_list : term list -> table -> table = <fun>\n"
      ]
     },
     "execution_count": 5,
     "metadata": {},
     "output_type": "execute_result"
    },
    {
     "data": {
      "text/plain": [
       "val term : char list -> (char list * structure list) list = <fun>\n",
       "val termlist : char list -> (char list * structure list) list = <fun>\n",
       "val table : char list -> (char list * structure list) list = <fun>\n"
      ]
     },
     "execution_count": 5,
     "metadata": {},
     "output_type": "execute_result"
    },
    {
     "data": {
      "text/plain": [
       "val clause : char list -> (char list * structure list) list = <fun>\n"
      ]
     },
     "execution_count": 5,
     "metadata": {},
     "output_type": "execute_result"
    },
    {
     "data": {
      "text/plain": [
       "val programme : char list -> (char list * structure list) list = <fun>\n"
      ]
     },
     "execution_count": 5,
     "metadata": {},
     "output_type": "execute_result"
    },
    {
     "data": {
      "text/plain": [
       "val check : ('a -> ('b list * 'c) list) -> 'a -> 'c = <fun>\n"
      ]
     },
     "execution_count": 5,
     "metadata": {},
     "output_type": "execute_result"
    },
    {
     "data": {
      "text/plain": [
       "val parse_program : string -> clause list = <fun>\n"
      ]
     },
     "execution_count": 5,
     "metadata": {},
     "output_type": "execute_result"
    },
    {
     "data": {
      "text/plain": [
       "val parse_term : string -> term = <fun>\n"
      ]
     },
     "execution_count": 5,
     "metadata": {},
     "output_type": "execute_result"
    },
    {
     "data": {
      "text/plain": [
       "val parse_clause : string -> clause = <fun>\n"
      ]
     },
     "execution_count": 5,
     "metadata": {},
     "output_type": "execute_result"
    },
    {
     "data": {
      "text/plain": [
       "val parse_termlist : string -> term list = <fun>\n"
      ]
     },
     "execution_count": 5,
     "metadata": {},
     "output_type": "execute_result"
    }
   ],
   "source": [
    "let rlow = function\n",
    "| ('a'..'z' as c)::l -> [l, [S (of_char c)]]\n",
    "| _ -> []\n",
    "\n",
    "let rup = function\n",
    "| ('A'..'Z' as c)::l -> [l, [S (of_char c)]]\n",
    "| _ -> []\n",
    "\n",
    "let rsym s = function\n",
    "| h::t when s = h -> [t, [S (of_char s)]]\n",
    "| _ -> []\n",
    "\n",
    "let rchar = function\n",
    "| ('a'..'z' | 'A'..'Z' | '0'..'9' | '_' as c)::t -> [t, [S (of_char c)]]\n",
    "| _ -> []\n",
    "\n",
    "let rmot =\n",
    "let aux self = rchar \n",
    "            <+> rchar *~* self >~> (function | [S s; S s'] -> [S (s^s')] | l -> l)\n",
    "in fix aux\n",
    "\n",
    "let variable = \n",
    "    rup >~> (function | [S s] -> [V (Id (s,0) )] | l -> l)\n",
    "<+> rup *~* rmot >~> (function | [S s; S s'] -> [V (Id ((s^s'),0) )] | l -> l)\n",
    "\n",
    "let predicate = rlow >~> (function | [S s] -> [P s] | l -> l)\n",
    "                <+> rlow *~* rmot >~> (function | [S s; S s'] -> [P (s^s')] | l -> l)\n",
    "\n",
    "let rec table_from_list tl t = match tl with\n",
    "| h::q -> NonEmpty (h, table_from_list q t)\n",
    "| [] -> t\n",
    "\n",
    "let rec term l = (\n",
    "    variable >~> (function | [V s] -> [T (Var s)] | l -> l)\n",
    "<+> predicate >~> (function | [P s] -> [T (Predicate (s,[]))] | l -> l)\n",
    "<+> predicate *~* (rsym '(' >~> skip) *~* termlist *~* (rsym ')' >~> skip) \n",
    "        >~> (function | [P s; TL tl] -> [T (Predicate (s, tl))] | l -> l)\n",
    "<+> table >~> (function | [L t] -> [T (Table t)] | l -> l)\n",
    ") l\n",
    "and termlist l = (\n",
    "term >~> (function | [T t] -> [TL [t]] | l -> l)\n",
    "<+> term *~* (rsym ',' >~> skip) *~* termlist >~> (function | [T t; TL tl] -> [TL (t::tl)] | l -> l)\n",
    ") l\n",
    "and table l = (\n",
    "rsym '[' *~* rsym ']' >~> (function | [S \"[\"; S \"]\"] -> [L Empty] | l -> l)\n",
    "<+> (rsym '[' >~> skip) *~* termlist *~* (rsym ']' >~> skip) \n",
    "    >~> (function | [TL tl] -> [L (table_from_list tl Empty)] | l -> l)\n",
    "<+> (rsym '[' >~> skip) *~* termlist *~* (rsym '|' >~> skip) *~* table *~* (rsym ']' >~> skip) \n",
    "    >~> (function | [TL tl; L t] -> [L (table_from_list tl t)] | l -> l)\n",
    "<+> (rsym '[' >~> skip) *~* termlist *~* (rsym '|' >~> skip) *~* variable *~* (rsym ']' >~> skip) \n",
    "    >~> (function | [TL tl; V v] -> [L (table_from_list tl (TVar v))] | l -> l)\n",
    ") l\n",
    "\n",
    "\n",
    "let clause = term *~* (rsym '.' >~> skip) >~> (function | [T t] -> [C (Clause (t,[]))] | l -> l)\n",
    "            <+> term *~* (rsym ':' *~* rsym '-' >~> skip) *~* termlist *~* (rsym '.' >~> skip)\n",
    "                    >~> (function | [T t; TL tl] -> [C (Clause (t,tl))] | l -> l)\n",
    "let programme =\n",
    "let aux self = clause >~> (function | [C c] -> [W [c]] | l -> l)\n",
    "            <+> clause *~* self >~> (function | [C c; W cl] -> [W (c::cl)]| l -> l)\n",
    "in fix aux\n",
    "\n",
    "let check r l = \n",
    "let aux = function\n",
    "| [], result -> Some result\n",
    "| _ -> None\n",
    "in match r l |> List.filter_map aux  with\n",
    "| [] -> failwith \"Parsing failed\"\n",
    "| [a] -> a\n",
    "| _ -> failwith \"Ambiguous grammar\";;\n",
    "\n",
    "let parse_program s = match s |> to_list |> remove_spaces |> check programme with\n",
    "| [W w] -> w\n",
    "| _ -> failwith \"input is not a program\"\n",
    "\n",
    "let parse_term s = match s |> to_list |> remove_spaces |> check term with\n",
    "| [T t] -> t\n",
    "| _ -> failwith \"input is not a term\"\n",
    "\n",
    "let parse_clause c = match c |> to_list |> remove_spaces |> check clause with\n",
    "| [C a] -> a\n",
    "| _ -> failwith \"input is not a clause\"\n",
    "\n",
    "let parse_termlist str = match str |> to_list |> remove_spaces |> check termlist with\n",
    "| [TL tl] -> tl\n",
    "| _ -> failwith \"input is not a termlist\""
   ]
  },
  {
   "cell_type": "markdown",
   "metadata": {},
   "source": [
    "# Fonctions de base"
   ]
  },
  {
   "cell_type": "code",
   "execution_count": 6,
   "metadata": {},
   "outputs": [
    {
     "data": {
      "text/plain": [
       "module TermSet :\n",
       "  sig\n",
       "    type elt = term * term\n",
       "    type t\n",
       "    val empty : t\n",
       "    val is_empty : t -> bool\n",
       "    val mem : elt -> t -> bool\n",
       "    val add : elt -> t -> t\n",
       "    val singleton : elt -> t\n",
       "    val remove : elt -> t -> t\n",
       "    val union : t -> t -> t\n",
       "    val inter : t -> t -> t\n",
       "    val disjoint : t -> t -> bool\n",
       "    val diff : t -> t -> t\n",
       "    val compare : t -> t -> int\n",
       "    val equal : t -> t -> bool\n",
       "    val subset : t -> t -> bool\n",
       "    val iter : (elt -> unit) -> t -> unit\n",
       "    val map : (elt -> elt) -> t -> t\n",
       "    val fold : (elt -> 'a -> 'a) -> t -> 'a -> 'a\n",
       "    val for_all : (elt -> bool) -> t -> bool\n",
       "    val exists : (elt -> bool) -> t -> bool\n",
       "    val filter : (elt -> bool) -> t -> t\n",
       "    val partition : (elt -> bool) -> t -> t * t\n",
       "    val cardinal : t -> int\n",
       "    val elements : t -> elt list\n",
       "    val min_elt : t -> elt\n",
       "    val min_elt_opt : t -> elt option\n",
       "    val max_elt : t -> elt\n",
       "    val max_elt_opt : t -> elt option\n",
       "    val choose : t -> elt\n",
       "    val choose_opt : t -> elt option\n",
       "    val split : elt -> t -> t * bool * t\n",
       "    val find : elt -> t -> elt\n",
       "    val find_opt : elt -> t -> elt option\n",
       "    val find_first : (elt -> bool) -> t -> elt\n",
       "    val find_first_opt : (elt -> bool) -> t -> elt option\n",
       "    val find_last : (elt -> bool) -> t -> elt\n",
       "    val find_last_opt : (elt -> bool) -> t -> elt option\n",
       "    val of_list : elt list -> t\n",
       "    val to_seq_from : elt -> t -> elt Seq.t\n",
       "    val to_seq : t -> elt Seq.t\n",
       "    val add_seq : elt Seq.t -> t -> t\n",
       "    val of_seq : elt Seq.t -> t\n",
       "  end\n"
      ]
     },
     "execution_count": 6,
     "metadata": {},
     "output_type": "execute_result"
    },
    {
     "data": {
      "text/plain": [
       "module VarMap :\n",
       "  sig\n",
       "    type key = var\n",
       "    type +'a t\n",
       "    val empty : 'a t\n",
       "    val is_empty : 'a t -> bool\n",
       "    val mem : key -> 'a t -> bool\n",
       "    val add : key -> 'a -> 'a t -> 'a t\n",
       "    val update : key -> ('a option -> 'a option) -> 'a t -> 'a t\n",
       "    val singleton : key -> 'a -> 'a t\n",
       "    val remove : key -> 'a t -> 'a t\n",
       "    val merge :\n",
       "      (key -> 'a option -> 'b option -> 'c option) -> 'a t -> 'b t -> 'c t\n",
       "    val union : (key -> 'a -> 'a -> 'a option) -> 'a t -> 'a t -> 'a t\n",
       "    val compare : ('a -> 'a -> int) -> 'a t -> 'a t -> int\n",
       "    val equal : ('a -> 'a -> bool) -> 'a t -> 'a t -> bool\n",
       "    val iter : (key -> 'a -> unit) -> 'a t -> unit\n",
       "    val fold : (key -> 'a -> 'b -> 'b) -> 'a t -> 'b -> 'b\n",
       "    val for_all : (key -> 'a -> bool) -> 'a t -> bool\n",
       "    val exists : (key -> 'a -> bool) -> 'a t -> bool\n",
       "    val filter : (key -> 'a -> bool) -> 'a t -> 'a t\n",
       "    val partition : (key -> 'a -> bool) -> 'a t -> 'a t * 'a t\n",
       "    val cardinal : 'a t -> int\n",
       "    val bindings : 'a t -> (key * 'a) list\n",
       "    val min_binding : 'a t -> key * 'a\n",
       "    val min_binding_opt : 'a t -> (key * 'a) option\n",
       "    val max_binding : 'a t -> key * 'a\n",
       "    val max_binding_opt : 'a t -> (key * 'a) option\n",
       "    val choose : 'a t -> key * 'a\n",
       "    val choose_opt : 'a t -> (key * 'a) option\n",
       "    val split : key -> 'a t -> 'a t * 'a option * 'a t\n",
       "    val find : key -> 'a t -> 'a\n",
       "    val find_opt : key -> 'a t -> 'a option\n",
       "    val find_first : (key -> bool) -> 'a t -> key * 'a\n",
       "    val find_first_opt : (key -> bool) -> 'a t -> (key * 'a) option\n",
       "    val find_last : (key -> bool) -> 'a t -> key * 'a\n",
       "    val find_last_opt : (key -> bool) -> 'a t -> (key * 'a) option\n",
       "    val map : ('a -> 'b) -> 'a t -> 'b t\n",
       "    val mapi : (key -> 'a -> 'b) -> 'a t -> 'b t\n",
       "    val to_seq : 'a t -> (key * 'a) Seq.t\n",
       "    val to_seq_from : key -> 'a t -> (key * 'a) Seq.t\n",
       "    val add_seq : (key * 'a) Seq.t -> 'a t -> 'a t\n",
       "    val of_seq : (key * 'a) Seq.t -> 'a t\n",
       "  end\n"
      ]
     },
     "execution_count": 6,
     "metadata": {},
     "output_type": "execute_result"
    },
    {
     "data": {
      "text/plain": [
       "module TermMap :\n",
       "  sig\n",
       "    type key = term\n",
       "    type +'a t\n",
       "    val empty : 'a t\n",
       "    val is_empty : 'a t -> bool\n",
       "    val mem : key -> 'a t -> bool\n",
       "    val add : key -> 'a -> 'a t -> 'a t\n",
       "    val update : key -> ('a option -> 'a option) -> 'a t -> 'a t\n",
       "    val singleton : key -> 'a -> 'a t\n",
       "    val remove : key -> 'a t -> 'a t\n",
       "    val merge :\n",
       "      (key -> 'a option -> 'b option -> 'c option) -> 'a t -> 'b t -> 'c t\n",
       "    val union : (key -> 'a -> 'a -> 'a option) -> 'a t -> 'a t -> 'a t\n",
       "    val compare : ('a -> 'a -> int) -> 'a t -> 'a t -> int\n",
       "    val equal : ('a -> 'a -> bool) -> 'a t -> 'a t -> bool\n",
       "    val iter : (key -> 'a -> unit) -> 'a t -> unit\n",
       "    val fold : (key -> 'a -> 'b -> 'b) -> 'a t -> 'b -> 'b\n",
       "    val for_all : (key -> 'a -> bool) -> 'a t -> bool\n",
       "    val exists : (key -> 'a -> bool) -> 'a t -> bool\n",
       "    val filter : (key -> 'a -> bool) -> 'a t -> 'a t\n",
       "    val partition : (key -> 'a -> bool) -> 'a t -> 'a t * 'a t\n",
       "    val cardinal : 'a t -> int\n",
       "    val bindings : 'a t -> (key * 'a) list\n",
       "    val min_binding : 'a t -> key * 'a\n",
       "    val min_binding_opt : 'a t -> (key * 'a) option\n",
       "    val max_binding : 'a t -> key * 'a\n",
       "    val max_binding_opt : 'a t -> (key * 'a) option\n",
       "    val choose : 'a t -> key * 'a\n",
       "    val choose_opt : 'a t -> (key * 'a) option\n",
       "    val split : key -> 'a t -> 'a t * 'a option * 'a t\n",
       "    val find : key -> 'a t -> 'a\n",
       "    val find_opt : key -> 'a t -> 'a option\n",
       "    val find_first : (key -> bool) -> 'a t -> key * 'a\n",
       "    val find_first_opt : (key -> bool) -> 'a t -> (key * 'a) option\n",
       "    val find_last : (key -> bool) -> 'a t -> key * 'a\n",
       "    val find_last_opt : (key -> bool) -> 'a t -> (key * 'a) option\n",
       "    val map : ('a -> 'b) -> 'a t -> 'b t\n",
       "    val mapi : (key -> 'a -> 'b) -> 'a t -> 'b t\n",
       "    val to_seq : 'a t -> (key * 'a) Seq.t\n",
       "    val to_seq_from : key -> 'a t -> (key * 'a) Seq.t\n",
       "    val add_seq : (key * 'a) Seq.t -> 'a t -> 'a t\n",
       "    val of_seq : (key * 'a) Seq.t -> 'a t\n",
       "  end\n"
      ]
     },
     "execution_count": 6,
     "metadata": {},
     "output_type": "execute_result"
    }
   ],
   "source": [
    "module TermSet = Set.Make(struct\n",
    "   type t = term * term\n",
    "   let compare = compare\n",
    "end)\n",
    "\n",
    "module VarMap = Map.Make(struct\n",
    "   type t = var\n",
    "   let compare = compare\n",
    "end)\n",
    "\n",
    "module TermMap = Map.Make(struct\n",
    "   type t = term\n",
    "   let compare = compare\n",
    "end)"
   ]
  },
  {
   "cell_type": "code",
   "execution_count": 7,
   "metadata": {},
   "outputs": [
    {
     "data": {
      "text/plain": [
       "val string_of_term : term -> string = <fun>\n"
      ]
     },
     "execution_count": 7,
     "metadata": {},
     "output_type": "execute_result"
    },
    {
     "data": {
      "text/plain": [
       "val print_eqs : TermSet.t -> unit = <fun>\n"
      ]
     },
     "execution_count": 7,
     "metadata": {},
     "output_type": "execute_result"
    }
   ],
   "source": [
    "(* Transforme un terme en une chaîne de caractères *)\n",
    "let rec string_of_term = function\n",
    "| Predicate (p, []) -> p\n",
    "| Predicate (p, l) -> p ^ \"(\" ^ (String.concat \", \" (List.map string_of_term l)) ^ \")\"\n",
    "| Var (Id (s, _)) -> s\n",
    "| Table (Empty) -> \"[]\"\n",
    "| Table (TVar (Id (s,_))) -> s\n",
    "| Table (NonEmpty (t, l)) -> \n",
    "let rec aux = function\n",
    "| Empty -> \"\"\n",
    "| TVar (Id (s, _)) -> \"|\"^s\n",
    "| NonEmpty (t, l) -> \", \"^(string_of_term t)^(aux l)\n",
    "in \"[\"^(string_of_term t)^(aux l)^\"]\"\n",
    "\n",
    "(* DEBUG : affiche un liste de couple de termes *)\n",
    "let print_eqs eqs = \n",
    "TermSet.iter (fun (t1,t2) -> Format.printf \"%s <-> %s\\n%!\" (string_of_term t1) (string_of_term t2)) eqs"
   ]
  },
  {
   "cell_type": "code",
   "execution_count": 8,
   "metadata": {},
   "outputs": [
    {
     "data": {
      "text/plain": [
       "val replace_var_in_term : var -> term -> term -> term = <fun>\n"
      ]
     },
     "execution_count": 8,
     "metadata": {},
     "output_type": "execute_result"
    },
    {
     "data": {
      "text/plain": [
       "val replace_var_in_eqs : var -> term -> TermSet.t -> TermSet.t = <fun>\n"
      ]
     },
     "execution_count": 8,
     "metadata": {},
     "output_type": "execute_result"
    },
    {
     "data": {
      "text/plain": [
       "val var_in_term : var -> term -> bool = <fun>\n"
      ]
     },
     "execution_count": 8,
     "metadata": {},
     "output_type": "execute_result"
    },
    {
     "data": {
      "text/plain": [
       "val var_in_eqs : var -> TermSet.t -> bool = <fun>\n"
      ]
     },
     "execution_count": 8,
     "metadata": {},
     "output_type": "execute_result"
    },
    {
     "data": {
      "text/plain": [
       "val find_vars_in_termlist : term list -> term list = <fun>\n"
      ]
     },
     "execution_count": 8,
     "metadata": {},
     "output_type": "execute_result"
    },
    {
     "data": {
      "text/plain": [
       "val find_tvars_in_term : term -> var list = <fun>\n"
      ]
     },
     "execution_count": 8,
     "metadata": {},
     "output_type": "execute_result"
    },
    {
     "data": {
      "text/plain": [
       "val find_tvars_in_termlist : term list -> var list = <fun>\n"
      ]
     },
     "execution_count": 8,
     "metadata": {},
     "output_type": "execute_result"
    },
    {
     "data": {
      "text/plain": [
       "val find_tvars_in_clause : clause -> var list = <fun>\n"
      ]
     },
     "execution_count": 8,
     "metadata": {},
     "output_type": "execute_result"
    }
   ],
   "source": [
    "(* Applique une substitution sur un terme *)\n",
    "(* Attention, on ne peut remplacer une variable qui représente un tableau que par un tableau *)\n",
    "let rec replace_var_in_term var new_term term = match term with\n",
    "| Var v -> if v = var then new_term else Var v\n",
    "| Predicate (p, l) -> Predicate (p, List.map (replace_var_in_term var new_term) l)\n",
    "| Table tbl ->\n",
    "let rec aux = function\n",
    "| Empty -> Empty\n",
    "| TVar v -> if v=var then\n",
    "(match new_term with | Table nt -> nt \n",
    "| _ -> failwith \"Try to replace a table by a term that is not a table\")\n",
    "else TVar v\n",
    "| NonEmpty (head, tail) -> NonEmpty (replace_var_in_term var new_term head, aux tail)\n",
    "in Table (aux tbl)\n",
    "\n",
    "let replace_var_in_eqs var new_term eqs = \n",
    "TermSet.map (fun (a, b) -> replace_var_in_term var new_term a, replace_var_in_term var new_term b) eqs\n",
    "\n",
    "let rec var_in_term var = function\n",
    "| Var v -> if v=var then true else false\n",
    "| Predicate (p, l) -> List.mem true (List.map (var_in_term var) l)\n",
    "| Table t -> let rec aux = function\n",
    "| Empty -> false\n",
    "| NonEmpty (head, tail) -> var_in_term var head || aux tail\n",
    "| TVar v -> if v=var then true else false\n",
    "in aux t\n",
    "\n",
    "let var_in_eqs var eqs = \n",
    "TermSet.exists (function (a, b) -> var_in_term var a || var_in_term var b) eqs;;\n",
    "\n",
    "\n",
    "(* Recherche les termes qui sont des variables récursivement dans une liste de termes *)\n",
    "let rec find_vars_in_termlist tl = \n",
    "let rec find_vars_in_term = function\n",
    "| Var v -> [Var v]\n",
    "| Predicate (_, l) -> find_vars_in_termlist l\n",
    "| Table t ->\n",
    "let rec aux = function\n",
    "| Empty -> []\n",
    "| TVar v -> [Table (TVar v)]\n",
    "| NonEmpty (head, tail) -> (find_vars_in_term head)@(aux tail)\n",
    "in aux t\n",
    "in List.sort_uniq compare (List.concat (List.map find_vars_in_term tl));;\n",
    "\n",
    "(* Renvoie la liste des variables représentant un tableau à l'intérieur d'un terme *)\n",
    "let rec find_tvars_in_term = function\n",
    "| Var _ -> []\n",
    "| Predicate (_, l) -> List.concat (List.map find_tvars_in_term l)\n",
    "| Table t -> \n",
    "let rec aux = function\n",
    "| Empty -> []\n",
    "| NonEmpty (head, tail) -> (find_tvars_in_term head) @ (aux tail)\n",
    "| TVar v -> [v]\n",
    "in aux t\n",
    "\n",
    "(* Renvoie la liste des variables représentant un tableau à l'intérieur d'une liste de termes *)\n",
    "let rec find_tvars_in_termlist tl = List.concat (List.map find_tvars_in_term tl)\n",
    "\n",
    "(* Renvoie la liste des variables représentant un tableau à l'intérieur d'une clause *)\n",
    "let find_tvars_in_clause (Clause (t, tl)) = (find_tvars_in_term t) @ (find_tvars_in_termlist tl)"
   ]
  },
  {
   "cell_type": "markdown",
   "metadata": {},
   "source": [
    "# Vérification des types"
   ]
  },
  {
   "cell_type": "code",
   "execution_count": 9,
   "metadata": {},
   "outputs": [
    {
     "data": {
      "text/plain": [
       "val type_check_term : term -> term = <fun>\n"
      ]
     },
     "execution_count": 9,
     "metadata": {},
     "output_type": "execute_result"
    },
    {
     "data": {
      "text/plain": [
       "val type_check_cl : clause -> clause = <fun>\n"
      ]
     },
     "execution_count": 9,
     "metadata": {},
     "output_type": "execute_result"
    },
    {
     "data": {
      "text/plain": [
       "val read_term : string -> term = <fun>\n"
      ]
     },
     "execution_count": 9,
     "metadata": {},
     "output_type": "execute_result"
    },
    {
     "data": {
      "text/plain": [
       "val read_program : string -> clause list = <fun>\n"
      ]
     },
     "execution_count": 9,
     "metadata": {},
     "output_type": "execute_result"
    },
    {
     "data": {
      "text/plain": [
       "val read_clause : string -> clause = <fun>\n"
      ]
     },
     "execution_count": 9,
     "metadata": {},
     "output_type": "execute_result"
    },
    {
     "data": {
      "text/plain": [
       "val read_termlist : string -> term list = <fun>\n"
      ]
     },
     "execution_count": 9,
     "metadata": {},
     "output_type": "execute_result"
    }
   ],
   "source": [
    "let type_check_term term =\n",
    "List.fold_left (fun t v -> replace_var_in_term (v) (Table (TVar v)) t) term (find_tvars_in_term term)\n",
    "\n",
    "let type_check_cl cl = \n",
    "let l = find_tvars_in_clause cl in\n",
    "List.fold_left (fun cl v -> \n",
    "let aux = replace_var_in_term (v) (Table (TVar v))\n",
    "and Clause (left, right) = cl in\n",
    "Clause (aux left, List.map aux right)\n",
    ") cl l\n",
    "\n",
    "let read_term str = type_check_term (parse_term str)\n",
    "let read_program str = List.map type_check_cl (parse_program str)\n",
    "let read_clause str = type_check_cl (parse_clause str)\n",
    "let read_termlist str = List.map type_check_term (parse_termlist str)"
   ]
  },
  {
   "cell_type": "markdown",
   "metadata": {},
   "source": [
    "# Algorithme d'unification"
   ]
  },
  {
   "cell_type": "code",
   "execution_count": 10,
   "metadata": {},
   "outputs": [
    {
     "data": {
      "text/plain": [
       "type equation_set = { mutable data : TermSet.t; mutable correct : bool; }\n"
      ]
     },
     "execution_count": 10,
     "metadata": {},
     "output_type": "execute_result"
    },
    {
     "data": {
      "text/plain": [
       "val solve : TermSet.t -> TermSet.t option = <fun>\n"
      ]
     },
     "execution_count": 10,
     "metadata": {},
     "output_type": "execute_result"
    }
   ],
   "source": [
    "(* E est un ensemble couples de termes *)\n",
    "(* transforme E en un équivalent sous forme résolue (type option, None si impossible) *)\n",
    "type equation_set = {mutable data : TermSet.t; mutable correct : bool}\n",
    "\n",
    "let rec solve e =\n",
    "let eqs = {data = e; correct = true} in\n",
    "\n",
    "let aux = function\n",
    "| Predicate (f, lf), Predicate (g, lg) when f = g && List.length lf = List.length lg ->\n",
    "    List.iter2 (fun a b -> eqs.data <- TermSet.add (a,b) eqs.data) lf lg;\n",
    "    eqs.data <- TermSet.remove (Predicate (f, lf), Predicate (g, lg)) eqs.data;\n",
    "\n",
    "| Predicate (_, _), Predicate (_, _) -> \n",
    "    eqs.correct <- false;\n",
    "\n",
    "| Var x, Var y when x = y ->\n",
    "    eqs.data <- TermSet.remove (Var x, Var y) eqs.data\n",
    "\n",
    "| Predicate (a, la), Var x ->\n",
    "    eqs.data <- TermSet.remove (Predicate (a, la), Var x) eqs.data;\n",
    "    eqs.data <- TermSet.add    (Var x, Predicate (a, la)) eqs.data;\n",
    "\n",
    "| Table t, Var x ->\n",
    "    eqs.data <- TermSet.remove (Table t, Var x) eqs.data;\n",
    "    eqs.data <- TermSet.add    (Var x, Table t) eqs.data;\n",
    "\n",
    "| Var w, t when var_in_eqs w (TermSet.remove (Var w, t) eqs.data) ->\n",
    "    if var_in_term w t then eqs.correct <- false\n",
    "    else (\n",
    "    eqs.data <- TermSet.remove (Var w, t) eqs.data;\n",
    "    eqs.data <- replace_var_in_eqs w t eqs.data;\n",
    "    eqs.data <- TermSet.add (Var w, t) eqs.data;\n",
    "    )\n",
    "\n",
    "| Var v, t ->\n",
    "    ()\n",
    "\n",
    "| Predicate (_, _), Table _ -> \n",
    "    eqs.correct <- false\n",
    "\n",
    "| Table _, Predicate (_, _) -> \n",
    "    eqs.correct <- false\n",
    "\n",
    "| Table t1, Table t2 -> (\n",
    "    match t1, t2 with \n",
    "    | Empty, Empty ->\n",
    "        eqs.data <- TermSet.remove (Table Empty, Table Empty) eqs.data;\n",
    "\n",
    "    | Empty, NonEmpty _ ->\n",
    "        eqs.correct <- false;\n",
    "\n",
    "    | NonEmpty _, Empty -> \n",
    "        eqs.correct <- false;\n",
    "\n",
    "    | (NonEmpty (head1, tail1) as t1), (NonEmpty (head2, tail2) as t2) ->\n",
    "        eqs.data <- TermSet.remove (Table t1, Table t2) eqs.data;\n",
    "        eqs.data <- TermSet.add (head1, head2) eqs.data;\n",
    "        eqs.data <- TermSet.add (Table tail1, Table tail2) eqs.data;\n",
    "\n",
    "    | (NonEmpty (_, _) | Empty as t), TVar a ->\n",
    "        eqs.data <- TermSet.remove (Table t, Table (TVar a)) eqs.data;\n",
    "        eqs.data <- TermSet.add (Table (TVar a), Table t) eqs.data;\n",
    "\n",
    "    | TVar a, TVar b when a=b ->\n",
    "        eqs.data <- TermSet.remove (Table (TVar a), Table (TVar b)) eqs.data;\n",
    "\n",
    "    | TVar w, table when var_in_eqs w (TermSet.remove (Table (TVar w), Table table) eqs.data) ->\n",
    "        if var_in_term w (Table table) then eqs.correct <- false\n",
    "        else eqs.data <- replace_var_in_eqs w (Table table) eqs.data;\n",
    "\n",
    "    | TVar _ , _ -> \n",
    "        ()\n",
    "    )\n",
    "in\n",
    "let old = ref TermSet.empty in \n",
    "while eqs.data <> !old && eqs.correct do\n",
    "old := eqs.data;\n",
    "TermSet.iter (fun c -> if eqs.data <> !old then () else aux c) eqs.data;\n",
    "done;\n",
    "\n",
    "if eqs.correct then Some eqs.data else None"
   ]
  },
  {
   "cell_type": "code",
   "execution_count": 11,
   "metadata": {},
   "outputs": [
    {
     "data": {
      "text/plain": [
       "val mgu : term -> term -> term VarMap.t option = <fun>\n"
      ]
     },
     "execution_count": 11,
     "metadata": {},
     "output_type": "execute_result"
    }
   ],
   "source": [
    "(* Prend 2 terme et renvoie l'unifieur le plus général s'il existe, None sinon. \n",
    "Attention, aucune variable ne doit être présente dans \n",
    "(r) la requête et dans (c) la tête de la clause *)\n",
    "\n",
    "let rec mgu r c = let f = function\n",
    "    | Var x, t -> x, t\n",
    "    | Predicate (_, _), _ -> failwith \"Should not happen.\"\n",
    "    | Table (TVar r), t -> r, t\n",
    "    | Table (Empty | NonEmpty _), _ -> failwith \"Should not happen.\"\n",
    "in match solve (TermSet.singleton (r, c)) with\n",
    "| None -> None\n",
    "| Some e -> Some (e |> TermSet.to_seq |> Seq.map f |> VarMap.of_seq);;"
   ]
  },
  {
   "cell_type": "code",
   "execution_count": 12,
   "metadata": {},
   "outputs": [
    {
     "data": {
      "text/plain": [
       "val test_unification : string -> string -> unit = <fun>\n"
      ]
     },
     "execution_count": 12,
     "metadata": {},
     "output_type": "execute_result"
    },
    {
     "name": "stdout",
     "output_type": "stream",
     "text": [
      "Unification de etudiant_de(E, pierre) et de etudiant_de(F,P) :\n",
      "E <- F\n",
      "P <- pierre\n",
      "Unification de etudiant_de(F,P) et de etudiant_de(E, pierre) :\n",
      "F <- E\n",
      "P <- pierre\n",
      "Unification de f(X,g(Y)) et de f(g(Z),Z) :\n",
      "X <- g(g(Y))\n",
      "Z <- g(Y)\n",
      "Unification de f(g(Z),Z) et de f(X,g(Y)) :\n",
      "X <- g(g(Y))\n",
      "Z <- g(Y)\n",
      "Unification de [a, a, b, c] et de [A | B] :\n",
      "A <- a\n",
      "B <- [a, b, c]\n",
      "Unification de [a, a, b, c] et de [A | A] :\n",
      "No unification\n",
      "Unification de [[a, b, c], a, b, c] et de [A | A] :\n"
     ]
    },
    {
     "data": {
      "text/plain": [
       "- : unit = ()\n"
      ]
     },
     "execution_count": 12,
     "metadata": {},
     "output_type": "execute_result"
    }
   ],
   "source": [
    "(* La fonction test_unification a pour but de tester mgu *)\n",
    "let test_unification str_r str_c = Format.printf \"Unification de %s et de %s :\\n%!\" str_r str_c;\n",
    "match mgu (str_r |> read_term) (str_c |> read_term) with\n",
    "| Some t -> VarMap.iter \n",
    "    (fun (Id (s, a)) term -> Format.printf \"%s <- %s\\n%!\" s (string_of_term term)) t\n",
    "| None -> Format.printf \"No unification\\n%!\"\n",
    ";;\n",
    "\n",
    "test_unification \"etudiant_de(E, pierre)\" \"etudiant_de(F,P)\"; (* F/E et P/pierre *)\n",
    "test_unification \"etudiant_de(F,P)\" \"etudiant_de(E, pierre)\"; (* E/F et P/pierre *)\n",
    "test_unification \"f(X,g(Y))\" \"f(g(Z),Z)\"; (* X/g(g(Y)) et Z/g(Y) *)\n",
    "test_unification \"f(g(Z),Z)\" \"f(X,g(Y))\"; (* X/g(g(Y)) et Z/g(Y) *)\n",
    "test_unification \"[a, a, b, c]\" \"[A | B]\";\n",
    "test_unification \"[a, a, b, c]\" \"[A | A]\";\n",
    "test_unification \"[[a, b, c], a, b, c]\" \"[A | A]\""
   ]
  },
  {
   "cell_type": "markdown",
   "metadata": {},
   "source": [
    "# Algorithme de backtracking"
   ]
  },
  {
   "cell_type": "code",
   "execution_count": 13,
   "metadata": {},
   "outputs": [
    {
     "name": "stdout",
     "output_type": "stream",
     "text": [
      "A <- [a, b, c]\n"
     ]
    },
    {
     "data": {
      "text/plain": [
       "val apply_subst_on_term : term VarMap.t -> term -> term = <fun>\n"
      ]
     },
     "execution_count": 13,
     "metadata": {},
     "output_type": "execute_result"
    },
    {
     "data": {
      "text/plain": [
       "val apply_subst_on_termlist : term VarMap.t -> term list -> term list = <fun>\n"
      ]
     },
     "execution_count": 13,
     "metadata": {},
     "output_type": "execute_result"
    }
   ],
   "source": [
    "(* Applique une substitution *)\n",
    "let apply_subst_on_term = VarMap.fold replace_var_in_term;;\n",
    "\n",
    "(* Applique une substitution sur une liste de termes *)\n",
    "let apply_subst_on_termlist uni = apply_subst_on_term uni |> List.map;;"
   ]
  },
  {
   "cell_type": "code",
   "execution_count": 14,
   "metadata": {},
   "outputs": [
    {
     "data": {
      "text/plain": [
       "val rename : int -> clause -> clause = <fun>\n"
      ]
     },
     "execution_count": 14,
     "metadata": {},
     "output_type": "execute_result"
    }
   ],
   "source": [
    "(* Prend un entier et une clause, renvoie la clause avec les variables renommées à l'entier *)\n",
    "let rename n (Clause (t1, tl)) = \n",
    "let rec f = function \n",
    "| Var (Id (str, _)) -> Var (Id (str, n))\n",
    "| Predicate (atm, l) -> Predicate (atm, List.map f l)\n",
    "| Table t -> \n",
    "let rec aux = function\n",
    "| Empty -> Empty\n",
    "| TVar (Id (str, _)) -> TVar (Id (str, n))\n",
    "| NonEmpty (head, tail) -> NonEmpty (f head, aux tail)\n",
    "in Table (aux t)\n",
    "in Clause (f t1, List.map f tl);;"
   ]
  },
  {
   "cell_type": "code",
   "execution_count": 15,
   "metadata": {},
   "outputs": [
    {
     "data": {
      "text/plain": [
       "val equivalent : term -> term -> var VarMap.t option = <fun>\n"
      ]
     },
     "execution_count": 15,
     "metadata": {},
     "output_type": "execute_result"
    },
    {
     "data": {
      "text/plain": [
       "val bijection : term -> term -> VarMap.key VarMap.t option = <fun>\n"
      ]
     },
     "execution_count": 15,
     "metadata": {},
     "output_type": "execute_result"
    },
    {
     "data": {
      "text/plain": [
       "val exist_in : term -> term list -> bool = <fun>\n"
      ]
     },
     "execution_count": 15,
     "metadata": {},
     "output_type": "execute_result"
    }
   ],
   "source": [
    "(* Renvoie un set de (Var Model -> Var Request) *)\n",
    "let equivalent r m =\n",
    "let rec equal map_opt request model = match map_opt with \n",
    "| None -> None\n",
    "| Some map ->\n",
    "match request, model with\n",
    "| Var vr, Var vm -> (match VarMap.find_opt vm map with\n",
    "    | None -> Some (VarMap.add vm vr map)\n",
    "    | Some vs -> if vs = vr then Some map else None)\n",
    "| Predicate (pr, lr), Predicate (pm, lm) ->\n",
    "    if pr <> pm || List.length lr <> List.length lm then None\n",
    "    else List.fold_left2 equal (Some map) lr lm\n",
    "| Table tr, Table tm ->\n",
    "    let rec aux map_opt tbl_r tbl_m = match map_opt with\n",
    "    | None -> None\n",
    "    | Some map -> (\n",
    "    match tbl_r, tbl_m with\n",
    "    | Empty, Empty -> Some map\n",
    "    | TVar vr, TVar vm -> (match VarMap.find_opt vm map with\n",
    "        | None -> Some (VarMap.add vm vr map)\n",
    "        | Some vs -> if vs = vr then Some map else None)\n",
    "    | NonEmpty (head_r, tail_r), NonEmpty (head_m, tail_m) ->\n",
    "        aux (equal (Some map) head_r head_m) tail_r tail_m\n",
    "    | _, _ -> None\n",
    "    ) in aux (Some map) tr tm\n",
    "| _, _ -> None\n",
    "in equal (Some (VarMap.empty)) r m\n",
    "\n",
    "(* requête tête ->  (var tête -> var requête) *)\n",
    "let bijection r m = match equivalent m r with\n",
    "| None -> None\n",
    "| Some map -> VarMap.fold\n",
    "(fun key v b -> match b with\n",
    "| None -> None\n",
    "| Some nmap -> if VarMap.mem v nmap then None else Some (VarMap.add v key nmap))\n",
    "map (Some VarMap.empty)\n",
    "\n",
    "let exist_in term gen = List.exists\n",
    "(fun t -> Option.is_some (bijection term t)) gen"
   ]
  },
  {
   "cell_type": "code",
   "execution_count": 16,
   "metadata": {},
   "outputs": [
    {
     "data": {
      "text/plain": [
       "type 'a tree = Leaf of 'a | Node of 'a tree Lazy.t list\n"
      ]
     },
     "execution_count": 16,
     "metadata": {},
     "output_type": "execute_result"
    },
    {
     "data": {
      "text/plain": [
       "val list_to_seq : 'a list -> 'a Seq.t = <fun>\n"
      ]
     },
     "execution_count": 16,
     "metadata": {},
     "output_type": "execute_result"
    },
    {
     "data": {
      "text/plain": [
       "val to_seq : 'a tree -> 'a Seq.t = <fun>\n"
      ]
     },
     "execution_count": 16,
     "metadata": {},
     "output_type": "execute_result"
    }
   ],
   "source": [
    "type 'a tree = Leaf of 'a | Node of (('a tree) Lazy.t) list;;\n",
    "\n",
    "let list_to_seq l = List.fold_right (fun x s -> (fun ()->Seq.Cons(x, s)) ) l Seq.empty;;\n",
    "\n",
    "let rec to_seq = function\n",
    "| Leaf str -> Seq.return str\n",
    "| Node tl -> Seq.flat_map (fun par -> to_seq (Lazy.force par)) (list_to_seq tl);;"
   ]
  },
  {
   "cell_type": "markdown",
   "metadata": {},
   "source": [
    "## Arbre standard"
   ]
  },
  {
   "cell_type": "code",
   "execution_count": 17,
   "metadata": {},
   "outputs": [
    {
     "data": {
      "text/plain": [
       "val sld_tree :\n",
       "  clause list ->\n",
       "  term list -> term VarMap.t list -> int -> term VarMap.t list tree = <fun>\n"
      ]
     },
     "execution_count": 17,
     "metadata": {},
     "output_type": "execute_result"
    }
   ],
   "source": [
    "(* La fonction de recherche, renvoie l'arbre des solutions *)\n",
    "let rec sld_tree world req subs n = match req with\n",
    "| [] -> Leaf subs \n",
    "| head_request_term::other_request_terms -> \n",
    "    Node (List.filter_map (fun c -> let Clause (left_member, right_member) = rename n c in \n",
    "    (match mgu head_request_term left_member with\n",
    "        | None -> None\n",
    "        | Some unifier -> Some (lazy (sld_tree world \n",
    "            (apply_subst_on_termlist unifier (right_member@other_request_terms)) \n",
    "            (unifier::subs) (n+1)))\n",
    "    )) world);;"
   ]
  },
  {
   "cell_type": "markdown",
   "metadata": {},
   "source": [
    "## Arbre sans boucles"
   ]
  },
  {
   "cell_type": "code",
   "execution_count": 18,
   "metadata": {},
   "outputs": [
    {
     "data": {
      "text/plain": [
       "val sld_tree_gen :\n",
       "  clause list ->\n",
       "  (term * term list) list ->\n",
       "  term VarMap.t list -> int -> term VarMap.t list tree = <fun>\n"
      ]
     },
     "execution_count": 18,
     "metadata": {},
     "output_type": "execute_result"
    }
   ],
   "source": [
    "let rec sld_tree_gen world req subs n = match req with\n",
    "| [] -> Leaf subs\n",
    "| (head_request_term, hr_gen)::other_request_terms ->\n",
    "    if exist_in head_request_term hr_gen then Node [] else\n",
    "    Node (List.filter_map (fun c -> let Clause (left_member, right_member) = rename n c in\n",
    "    (match mgu head_request_term left_member with\n",
    "        | None -> None\n",
    "        | Some unifier -> Some (lazy (sld_tree_gen world\n",
    "            (\n",
    "            (List.map (fun t -> apply_subst_on_term unifier t, head_request_term::hr_gen) right_member)\n",
    "            @ (List.map (fun (t, gen) -> apply_subst_on_term unifier t, gen) other_request_terms)\n",
    "            )\n",
    "        (unifier::subs) (n+1)))\n",
    "    )) world)"
   ]
  },
  {
   "cell_type": "markdown",
   "metadata": {},
   "source": [
    "## Arbre sans boucle et négation"
   ]
  },
  {
   "cell_type": "code",
   "execution_count": 19,
   "metadata": {},
   "outputs": [
    {
     "data": {
      "text/plain": [
       "val sld_tree_neg_gen :\n",
       "  clause list ->\n",
       "  (term * term list) list ->\n",
       "  term VarMap.t list -> int -> term VarMap.t list tree = <fun>\n",
       "val naf : clause list -> (term * term list) list -> bool = <fun>\n"
      ]
     },
     "execution_count": 19,
     "metadata": {},
     "output_type": "execute_result"
    }
   ],
   "source": [
    "let rec sld_tree_neg_gen world (req : (term * term list) list) subs n = match req with\n",
    "| [] -> Leaf subs\n",
    "| (head_request_term, hr_gen)::other_request_terms ->\n",
    "    if exist_in head_request_term hr_gen then Node [] else\n",
    "    match head_request_term with\n",
    "    | Predicate (\"naf\", tl) -> if naf world (List.map (fun t -> t, []) tl) \n",
    "        then sld_tree_neg_gen world other_request_terms subs n\n",
    "        else Node []\n",
    "    | _ -> \n",
    "    Node (List.filter_map (fun c -> let Clause (left_member, right_member) = rename n c in\n",
    "    (match mgu head_request_term left_member with\n",
    "        | None -> None\n",
    "        | Some unifier -> Some (lazy (sld_tree_neg_gen world\n",
    "            (\n",
    "            (List.map (fun t -> apply_subst_on_term unifier t, head_request_term::hr_gen) right_member) \n",
    "            @ (List.map (fun (t, gen) -> apply_subst_on_term unifier t, gen) other_request_terms)\n",
    "            )\n",
    "        (unifier::subs) (n+1)))\n",
    "    )) world)\n",
    "and naf world (req : (term * term list) list) =\n",
    "let sols = to_seq (sld_tree_neg_gen world req [] 1) in\n",
    "if sols () = Seq.Nil then true else false"
   ]
  },
  {
   "cell_type": "markdown",
   "metadata": {},
   "source": [
    "## Parcourir les solutions des arbres"
   ]
  },
  {
   "cell_type": "code",
   "execution_count": 20,
   "metadata": {},
   "outputs": [
    {
     "data": {
      "text/plain": [
       "val solutions :\n",
       "  term VarMap.t list tree -> term list -> (term list * term list) Seq.t =\n",
       "  <fun>\n"
      ]
     },
     "execution_count": 20,
     "metadata": {},
     "output_type": "execute_result"
    },
    {
     "data": {
      "text/plain": [
       "val request : clause list -> string -> string -> unit = <fun>\n"
      ]
     },
     "execution_count": 20,
     "metadata": {},
     "output_type": "execute_result"
    }
   ],
   "source": [
    "let solutions tree vars = \n",
    "Seq.map  (fun l -> vars, \n",
    "List.fold_right apply_subst_on_termlist l vars\n",
    ") (to_seq tree);;\n",
    "\n",
    "let request world sol_method req = \n",
    "let termlist = read_termlist req in\n",
    "let vars = find_vars_in_termlist termlist in\n",
    "let sol = match sol_method with\n",
    "| \"standard\" -> solutions (sld_tree world termlist [] 1) vars \n",
    "| \"loops\" -> solutions (sld_tree_gen world (termlist |> List.map (fun t -> t, [])) [] 1) vars\n",
    "| \"neg\" -> solutions (sld_tree_neg_gen world (termlist |> List.map (fun t -> t, [])) [] 1) vars\n",
    "| _ -> failwith \"Unknown solution method\"\n",
    "in\n",
    "if sol () = Seq.Nil then Format.printf \"This is false.\\n%!\"\n",
    "else Seq.iter (fun (vars, tl) -> \n",
    "if vars = [] then Format.printf \"This is true.\\n%!\"\n",
    "else Format.printf \"There is : %s\\n%!\"\n",
    "(String.concat \", \" (List.map2 (fun v t -> (string_of_term v) ^ \" = \" ^ (string_of_term t)) vars tl))\n",
    ") sol;\n",
    "Format.printf \"\\n%!\";;"
   ]
  },
  {
   "cell_type": "markdown",
   "metadata": {},
   "source": [
    "# Essais de l'implémentation"
   ]
  },
  {
   "cell_type": "markdown",
   "metadata": {},
   "source": [
    "## Utilitaires"
   ]
  },
  {
   "cell_type": "code",
   "execution_count": 21,
   "metadata": {},
   "outputs": [
    {
     "data": {
      "text/plain": [
       "type 'a ftree = FLeaf of 'a | FNode of 'a ftree list\n"
      ]
     },
     "execution_count": 21,
     "metadata": {},
     "output_type": "execute_result"
    },
    {
     "data": {
      "text/plain": [
       "val force_tree : 'a tree -> 'a ftree = <fun>\n"
      ]
     },
     "execution_count": 21,
     "metadata": {},
     "output_type": "execute_result"
    },
    {
     "data": {
      "text/plain": [
       "val test_eq : string -> string -> unit = <fun>\n"
      ]
     },
     "execution_count": 21,
     "metadata": {},
     "output_type": "execute_result"
    },
    {
     "name": "stdout",
     "output_type": "stream",
     "text": [
      "Bijection entre table(A, B) et table(C, C) :\n",
      "Bijection entre table(A, A) et table(B, C) :\n",
      "Bijection entre table(A, B) et table(A, B) :\n",
      "A -> A\n",
      "B -> B\n",
      "Bijection entre [A, B, C, pinguin(AB, BA) | D] et [Z, Y, X, pinguin(BA, AB) | W] :\n",
      "AB -> BA\n",
      "BA -> AB\n",
      "W -> D\n",
      "X -> C\n"
     ]
    },
    {
     "data": {
      "text/plain": [
       "- : unit = ()\n"
      ]
     },
     "execution_count": 21,
     "metadata": {},
     "output_type": "execute_result"
    }
   ],
   "source": [
    "type 'a ftree = FLeaf of 'a | FNode of ('a ftree) list;;\n",
    "\n",
    "let rec force_tree (tree : 'a tree) = match tree with\n",
    "| Leaf a -> FLeaf a\n",
    "| Node atl -> FNode (List.map (fun t -> force_tree (Lazy.force t)) atl)\n",
    "\n",
    "let test_eq s1 s2 = Format.printf \"Bijection entre %s et %s :\\n%!\" s1 s2;\n",
    "Option.iter \n",
    "(VarMap.iter (fun key v -> Format.printf \"%s -> %s\\n%!\" (string_of_term (Var key)) (string_of_term (Var v))))\n",
    "(bijection (read_term s1) (read_term s2));;\n",
    "\n",
    "test_eq \"table(A, B)\" \"table(C, C)\";\n",
    "test_eq \"table(A, A)\" \"table(B, C)\";\n",
    "test_eq \"table(A, B)\" \"table(A, B)\";\n",
    "test_eq \"[A, B, C, pinguin(AB, BA) | D]\" \"[Z, Y, X, pinguin(BA, AB) | W]\";;"
   ]
  },
  {
   "cell_type": "markdown",
   "metadata": {},
   "source": [
    "## Tests basiques... des élèves, des cours et des professeurs"
   ]
  },
  {
   "cell_type": "code",
   "execution_count": 22,
   "metadata": {},
   "outputs": [
    {
     "name": "stdout",
     "output_type": "stream",
     "text": [
      "Y -> B\n",
      "Z -> A\n",
      "There is : E = eve\n",
      "There is : E = benjamin\n",
      "\n",
      "There is : E = benjamin\n",
      "\n",
      "There is : A = eve, B = pierre\n",
      "There is : A = benjamin, B = pierre\n",
      "There is : A = benjamin, B = alice\n",
      "\n",
      "This is false.\n",
      "\n",
      "This is false.\n",
      "\n",
      "This is false.\n",
      "\n",
      "This is true.\n",
      "\n",
      "This is false.\n",
      "\n"
     ]
    },
    {
     "data": {
      "text/plain": [
       "- : unit = ()\n"
      ]
     },
     "execution_count": 22,
     "metadata": {},
     "output_type": "execute_result"
    }
   ],
   "source": [
    "let world = read_program \"\n",
    "apprend(eve, mathematiques).\n",
    "apprend(benjamin, informatique).\n",
    "apprend(benjamin, physique).\n",
    "enseigne(alice, physique).\n",
    "enseigne(pierre, mathematiques).\n",
    "enseigne(pierre, informatique).\n",
    "\n",
    "etudiant_de(E,P):-apprend(E,M), enseigne(P,M).\n",
    "\" in let req = request world \"standard\" in\n",
    "req \"etudiant_de(E, pierre)\";\n",
    "req \"etudiant_de(E, pierre), etudiant_de(E, alice)\";\n",
    "req \"etudiant_de(A, B)\";\n",
    "req\"etudiant_de(A, A)\";\n",
    "req \"apprend(A, A)\";\n",
    "req \"enseigne(A, A)\";\n",
    "req \"enseigne(alice, physique)\";\n",
    "req \"enseigne(alice, mathematiques)\";; "
   ]
  },
  {
   "cell_type": "markdown",
   "metadata": {},
   "source": [
    "## Le métro londonien"
   ]
  },
  {
   "cell_type": "code",
   "execution_count": 23,
   "metadata": {},
   "outputs": [
    {
     "name": "stdout",
     "output_type": "stream",
     "text": [
      "This is true.\n",
      "\n",
      "This is true.\n",
      "\n",
      "There is : W = leicester_square\n",
      "There is : W = charing_cross\n",
      "\n",
      "This is true.\n",
      "This is true.\n",
      "This is true.\n",
      "This is true.\n",
      "This is true.\n",
      "\n",
      "This is false.\n",
      "\n",
      "There is : R = route(tottenham_court_road, route(leicester_square, noroute))\n",
      "There is : R = route(piccadilly_circus, noroute)\n",
      "There is : R = route(piccadilly_circus, route(leicester_square, noroute))\n",
      "\n"
     ]
    },
    {
     "data": {
      "text/plain": [
       "- : unit = ()\n"
      ]
     },
     "execution_count": 23,
     "metadata": {},
     "output_type": "execute_result"
    }
   ],
   "source": [
    "let world = read_program \"\n",
    "connected(bond_street,oxford_circus,central).\n",
    "connected(oxford_circus,tottenham_court_road,central).\n",
    "connected(bond_street,green_park,jubilee).\n",
    "connected(green_park,charing_cross,jubilee).\n",
    "connected(green_park,piccadilly_circus,piccadilly).\n",
    "connected(piccadilly_circus,leicester_square,piccadilly).\n",
    "connected(green_park,oxford_circus,victoria).\n",
    "connected(oxford_circus,piccadilly_circus,bakerloo).\n",
    "connected(piccadilly_circus,charing_cross,bakerloo).\n",
    "connected(tottenham_court_road,leicester_square,northern).\n",
    "connected(leicester_square,charing_cross,northern).\n",
    "\n",
    "nearby(X,Y):-connected(X,Y,L).\n",
    "nearby(X,Y):-connected(X,Z,L),connected(Z,Y,L).\n",
    "\n",
    "reachable(X,Y):-connected(X,Y,L).\n",
    "reachable(X,Y):-connected(X,Z,L),reachable(Z,Y).\n",
    "\n",
    "path(X,Y,noroute):-connected(X,Y,L).\n",
    "path(X,Y,route(Z,R)):-connected(X,Z,L),path(Z,Y,R).\"\n",
    "in let req = request world \"standard\" in\n",
    "req \"connected(piccadilly_circus,leicester_square,piccadilly)\";\n",
    "req \"nearby(oxford_circus, charing_cross)\";\n",
    "req \"nearby(tottenham_court_road,W)\";\n",
    "req\"reachable(bond_street, leicester_square)\";\n",
    "req\"connected(oxford_circus, bond_street, L)\";\n",
    "req \"path(oxford_circus, charing_cross, R)\";;"
   ]
  },
  {
   "cell_type": "markdown",
   "metadata": {},
   "source": [
    "## Les listes"
   ]
  },
  {
   "cell_type": "code",
   "execution_count": 24,
   "metadata": {},
   "outputs": [
    {
     "name": "stdout",
     "output_type": "stream",
     "text": [
      "This is true.\n",
      "\n",
      "There is : P = []\n",
      "There is : P = [c]\n",
      "There is : P = [c, d]\n",
      "There is : P = [c, d, a]\n",
      "There is : P = [c, d, a, b]\n",
      "\n",
      "There is : S = []\n",
      "There is : S = [a]\n",
      "There is : S = [a, b]\n",
      "There is : S = [a, b, c]\n",
      "There is : S = [a, b, c, d]\n",
      "There is : S = []\n",
      "There is : S = [b]\n",
      "There is : S = [b, c]\n",
      "There is : S = [b, c, d]\n",
      "There is : S = []\n",
      "There is : S = [c]\n",
      "There is : S = [c, d]\n",
      "There is : S = []\n",
      "There is : S = [d]\n",
      "There is : S = []\n",
      "\n",
      "There is : X = [a, b, c, d, e, f]\n",
      "\n",
      "There is : R = [f, e, d, c, b, a]\n",
      "\n",
      "There is : X = a, Y = b\n",
      "There is : X = b, Y = c\n",
      "There is : X = c, Y = d\n",
      "\n",
      "There is : X = [a, b]\n",
      "\n"
     ]
    },
    {
     "data": {
      "text/plain": [
       "- : unit = ()\n"
      ]
     },
     "execution_count": 24,
     "metadata": {},
     "output_type": "execute_result"
    }
   ],
   "source": [
    "let world = read_program \"\n",
    "member(X, [X|Xs]).\n",
    "member(X, [Y|Ys]) :- member(X, Ys).\n",
    "\n",
    "prefix([], Ys).\n",
    "prefix([X|Xs],[X|Ys]) :- prefix(Xs, Ys).\n",
    "\n",
    "sublist(Xs, Ys) :- prefix(Xs, Ys).\n",
    "sublist(Xs, [Y|Ys]) :- sublist (Xs, Ys).\n",
    "\n",
    "append([], Ys, Ys).\n",
    "append([X|Xs], Ys, [X|Zs]) :- append(Xs, Ys, Zs).\n",
    "\n",
    "reverse([],[]).\n",
    "reverse([X|Xs], R) :- reverse(Xs, Z), append(Z, [X], R).\n",
    "\n",
    "adjacent(X,Y,Zs) :- append(As, [X,Y|Ys] ,Zs).\n",
    "\n",
    "equal(X, X).\n",
    "\" in let req = request world \"standard\" in\n",
    "\n",
    "req \"member(a, [c,d,a,b])\";\n",
    "req \"prefix(P, [c,d,a,b])\"; \n",
    "req \"sublist(S, [a,b,c,d])\";\n",
    "req \"append([a,b,c], [d,e,f], X)\";\n",
    "req \"reverse([a,b,c,d,e,f], R)\";\n",
    "req \"adjacent(X, Y, [a,b,c,d])\";\n",
    "req \"equal([a, b], X)\";;"
   ]
  },
  {
   "cell_type": "code",
   "execution_count": 25,
   "metadata": {},
   "outputs": [
    {
     "name": "stdout",
     "output_type": "stream",
     "text": [
      "This is false.\n",
      "\n"
     ]
    },
    {
     "data": {
      "text/plain": [
       "- : unit = ()\n"
      ]
     },
     "execution_count": 25,
     "metadata": {},
     "output_type": "execute_result"
    }
   ],
   "source": [
    "let world = read_program \"\n",
    "satisfiable(true).\n",
    "satisfiable(and(X, Y)) :- satisfiable(X), satisfiable(Y).\n",
    "satisfiable(or(X, Y)) :- satisfiable(X).\n",
    "satisfiable(or(X, Y)) :- satisfiable(Y).\n",
    "satisfiable(not(X)) :- invalid(X).\n",
    "\n",
    "invalid(false).\n",
    "invalid(or(X, Y)) :- invalid(X), invalid(Y).\n",
    "invalid(and(X, Y)) :- invalid(X).\n",
    "invalid(and(X, Y)) :- invalid(Y).\n",
    "invalid(not(X)) :- satisfiable(X).\n",
    "\" in let req = request world \"standard\" in\n",
    "req \"satisfiable(false)\";;"
   ]
  },
  {
   "cell_type": "code",
   "execution_count": 26,
   "metadata": {},
   "outputs": [
    {
     "name": "stdout",
     "output_type": "stream",
     "text": [
      "There is : X = zero\n",
      "\n"
     ]
    },
    {
     "data": {
      "text/plain": [
       "- : unit = ()\n"
      ]
     },
     "execution_count": 26,
     "metadata": {},
     "output_type": "execute_result"
    }
   ],
   "source": [
    "let world = read_program \"\n",
    "natural(s(N)) :- natural(N).\n",
    "natural(zero).\n",
    "\" in let req = request world \"loops\" in\n",
    "req \"natural(X)\";;"
   ]
  },
  {
   "cell_type": "raw",
   "metadata": {},
   "source": [
    "(*\n",
    "\\begin{figure}\n",
    "\\centering\n",
    "\\includegraphics[scale=0.6]{london.png}\n",
    "\\caption{Métro londonien (piqué dans un bouquin)}\n",
    "\\end{figure}\n",
    "*)"
   ]
  },
  {
   "cell_type": "code",
   "execution_count": 27,
   "metadata": {},
   "outputs": [
    {
     "name": "stdout",
     "output_type": "stream",
     "text": [
      "There is : R = [tottenham_court_road, leicester_square]\n",
      "There is : R = [tottenham_court_road, leicester_square, piccadilly_circus]\n",
      "There is : R = [tottenham_court_road, leicester_square, piccadilly_circus, green_park]\n",
      "There is : R = [piccadilly_circus]\n",
      "There is : R = [piccadilly_circus, leicester_square]\n",
      "There is : R = [piccadilly_circus, green_park]\n",
      "There is : R = [bond_street, green_park]\n",
      "There is : R = [bond_street, green_park, piccadilly_circus]\n",
      "There is : R = [bond_street, green_park, piccadilly_circus, leicester_square]\n",
      "There is : R = [green_park]\n",
      "There is : R = [green_park, piccadilly_circus]\n",
      "There is : R = [green_park, piccadilly_circus, leicester_square]\n",
      "\n"
     ]
    },
    {
     "data": {
      "text/plain": [
       "- : unit = ()\n"
      ]
     },
     "execution_count": 27,
     "metadata": {},
     "output_type": "execute_result"
    }
   ],
   "source": [
    "let world = read_program \"\n",
    "member(X, [X|Xs]).\n",
    "member(X, [Y|Ys]) :- member(X, Ys).\n",
    "\n",
    "connected(bond_street,oxford_circus,central).\n",
    "connected(oxford_circus,tottenham_court_road,central).\n",
    "connected(bond_street,green_park,jubilee).\n",
    "connected(green_park,charing_cross,jubilee).\n",
    "connected(green_park,piccadilly_circus,piccadilly).\n",
    "connected(piccadilly_circus,leicester_square,piccadilly).\n",
    "connected(green_park,oxford_circus,victoria).\n",
    "connected(oxford_circus,piccadilly_circus,bakerloo).\n",
    "connected(piccadilly_circus,charing_cross,bakerloo).\n",
    "connected(tottenham_court_road,leicester_square,northern).\n",
    "connected(leicester_square,charing_cross,northern).\n",
    "\n",
    "connected(X, Y, L):-connected(Y, X, L).\n",
    "\n",
    "nearby(X,Y):-connected(X,Y,L).\n",
    "nearby(X,Y):-connected(X,Z,L),connected(Z,Y,L).\n",
    "\n",
    "reachable(X,Y):-connected(X,Y,L).\n",
    "reachable(X,Y):-connected(X,Z,L),reachable(Z,Y).\n",
    "\n",
    "path(X,Y,[]) :- connected(X,Y,L).\n",
    "path(X,Y, [Z|R]) :- connected(X,Z,L),path(Z,Y,R).\n",
    "\n",
    "useful_path(X, Y, L) :- path(X, Y, L), naf(member(X, L)), naf(member(Y, L)).\n",
    "\" in let req = request world \"neg\" in\n",
    "req \"useful_path(oxford_circus, charing_cross, R)\";;"
   ]
  },
  {
   "cell_type": "code",
   "execution_count": 28,
   "metadata": {},
   "outputs": [
    {
     "name": "stdout",
     "output_type": "stream",
     "text": [
      "This is true.\n",
      "\n"
     ]
    },
    {
     "data": {
      "text/plain": [
       "- : unit = ()\n"
      ]
     },
     "execution_count": 28,
     "metadata": {},
     "output_type": "execute_result"
    }
   ],
   "source": [
    "let world = read_program \"\n",
    "natural(s(N)) :- natural(N).\n",
    "natural(zero).\n",
    "\" in let req = request world \"neg\" in\n",
    "req \"naf(natural(s(s(zero2))))\";;"
   ]
  },
  {
   "cell_type": "code",
   "execution_count": 29,
   "metadata": {},
   "outputs": [
    {
     "name": "stdout",
     "output_type": "stream",
     "text": [
      "This is true.\n",
      "This is true.\n",
      "\n",
      "This is false.\n",
      "\n",
      "This is false.\n",
      "\n",
      "There is : C = cuisine\n",
      "There is : C = chambre\n",
      "There is : C = garage\n",
      "There is : C = garage\n",
      "\n",
      "This is true.\n",
      "\n"
     ]
    },
    {
     "data": {
      "text/plain": [
       "- : unit = ()\n"
      ]
     },
     "execution_count": 29,
     "metadata": {},
     "output_type": "execute_result"
    }
   ],
   "source": [
    "let world = read_program \"\n",
    "member(X, [X|Xs]).\n",
    "member(X, [Y|Ys]) :- member(X, Ys).\n",
    "\n",
    "egal(X,X).\n",
    "pas_egal(X,Y) :- naf(egal(X, Y)).\n",
    "\n",
    "remove(E, [], []).\n",
    "remove(E, [E | Q], N) :- remove(E, Q, N).\n",
    "remove(E, [T | Q], [T | N]) :- pas_egal(E, T), remove(E, Q, N).\n",
    "\n",
    "\n",
    "joueurs([samuel, pierre, benjamin]).\n",
    "cartes([cuisine, chambre, salle_de_bain, salon, garage, salle_a_manger, veranda]).\n",
    "cartes_par_joueur(s(s(zero))).\n",
    "\n",
    "\n",
    "possede(samuel, cuisine).\n",
    "possede(samuel, chambre).\n",
    "\n",
    "possede_aucune_triplet(pierre, [salle_de_bain, salon, cuisine]).\n",
    "possede_une_des(pierre, [garage, cuisine, salon]).\n",
    "\n",
    "\n",
    "possede(J, C) :- possede_une_des(J, L), member(C, L), remove(C, L, Ln), possede_aucune(J, Ln).\n",
    "\n",
    "possede_pas(J, C) :- possede_aucune_triplet(J, L), member(C, L).\n",
    "possede_pas(J1, C) :- possede(J2, C), pas_egal(J1, J2).\n",
    "\n",
    "possedent_pas([], C).\n",
    "possedent_pas([J | Jl], C) :- possede_pas(J, C), possedent_pas(Jl, C).\n",
    "\n",
    "personne_ne_possede(C) :- joueurs(Lj), possedent_pas(Lj, C).\n",
    "\n",
    "possedent([J | Jl], C) :- possede(J, C).\n",
    "possedent([J | Jl], C) :- possedent(Jl, C).\n",
    "\n",
    "qqn_possede(C) :- joueurs(Lj), possedent(Lj, C).\n",
    "\n",
    "uniq_possede(C) :- cartes(Cl), member(C, Cl), qqn_possede(C).\n",
    "\n",
    "possede_aucune(J, []).\n",
    "possede_aucune(J, [C | T]) :- possede_pas(J, C), possede_aucune(J, T).\n",
    "\"\n",
    "in let req = request world \"neg\" in\n",
    "req \"possede(pierre, garage)\";\n",
    "req \"presonne_ne_possede(C)\";\n",
    "req \"liste_possedees(C)\";\n",
    "req \"uniq_possede(C)\";\n",
    "req \"qqn_possede(cuisine)\";;"
   ]
  },
  {
   "cell_type": "code",
   "execution_count": 30,
   "metadata": {},
   "outputs": [
    {
     "name": "stdout",
     "output_type": "stream",
     "text": [
      "There is : X = X\n",
      "There is : X = X\n",
      "\n"
     ]
    },
    {
     "data": {
      "text/plain": [
       "- : unit = ()\n"
      ]
     },
     "execution_count": 30,
     "metadata": {},
     "output_type": "execute_result"
    }
   ],
   "source": [
    "let world = read_program \"\n",
    "h(sam).\n",
    "h(sam).\n",
    "test(X) :- h(sam).\n",
    "\"\n",
    "in let req = request world \"neg\" in\n",
    "req \"test(X)\";;"
   ]
  }
 ],
 "metadata": {
  "kernelspec": {
   "display_name": "OCaml 4.08.1",
   "language": "OCaml",
   "name": "ocaml-jupyter"
  },
  "language_info": {
   "codemirror_mode": "text/x-ocaml",
   "file_extension": ".ml",
   "mimetype": "text/x-ocaml",
   "name": "OCaml",
   "nbconverter_exporter": null,
   "pygments_lexer": "OCaml",
   "version": "4.08.1"
  }
 },
 "nbformat": 4,
 "nbformat_minor": 4
}
