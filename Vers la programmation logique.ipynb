{
 "cells": [
  {
   "cell_type": "markdown",
   "metadata": {},
   "source": [
    "# L'écriture en OCaml d'un interpréteur du langage Prolog"
   ]
  },
  {
   "cell_type": "markdown",
   "metadata": {},
   "source": [
    "Prolog, pour programmation en logique est un langage créé par A. Colmerauer, en 1972 à Marseille. La programmation logique est un paradigme différent de la programmation impérative ou de la programmation fonctionnelle. On définit des faits élémentaires et des règles de la manière suivante :\n",
    "\n",
    "```\n",
    "etudiant_de(E,P):-apprend(E,M), enseigne(P,M).\n",
    "apprend(benjamin, informatique).\n",
    "apprend(benjamin, physique).\n",
    "apprend(eve, mathematiques).\n",
    "enseigne(alice, physique).\n",
    "enseigne(pierre, mathematiques).\n",
    "enseigne(pierre, informatique).\n",
    "```\n",
    "\n",
    "Ces informations décrivent l'ensemble des connaissance du programme. Ensuite l'utilisateur peut effectuer des requêtes : \n",
    "\n",
    "`?-étudiant_de(E, pierre)`\n",
    "\n",
    "L'interpréteur Prolog renvoie alors `E = benjamin` et `E = eve`.\n",
    "\n",
    "Ce qui différencie la programmation logique de l'informatique impérative, c'est qu'on n'explique pas au programme comment résoudre la requête, on se contente de décrire le problème.\n",
    "\n",
    "De très nombreuses introductions au langage Prolog peuvent être trouvées sur internet, je n'en cite qu'une seule qui m'est apparue comme convenable pour une première approche : *Simply Logical: Intelligent Reasoning by Example*, P. Flach, 1994 <cite data-cite=\"Flach\">(Flach)</cite>."
   ]
  },
  {
   "cell_type": "markdown",
   "metadata": {
    "slideshow": {
     "slide_type": "-"
    }
   },
   "source": [
    "## La représentation des programmes Prolog"
   ]
  },
  {
   "cell_type": "markdown",
   "metadata": {},
   "source": [
    "La représentation des programmes Prolog dans OCaml se fait de la manière suivante :\n",
    "\n",
    "* `var` est une variable (en majuscule en Prolog), identifiée par une chaine, et un numéro. Le numéro est nécessaire à la substitution, pour éviter les conflits entre les noms de variables il faut un renommage.\n",
    "\n",
    "* `atom` est une chaine de caractères représentant les symboles de prédicats : soit des constantes (arité 0 du prédicat), soit les foncteurs (arité strictement positive).\n",
    "\n",
    "* un `term` est soit une variable, soit sous la forme `expression(terme1, terme2, ...)`, qui est donc un atome, et une liste de termes.\n",
    "\n",
    "* une `clause` est de la forme `etudiant_de(E,P):-apprend(E,M), enseigne(P,M).`, un terme à gauche et une liste de termes à droite. `eleve(samuel).` est une clause, il n'y rien à droite."
   ]
  },
  {
   "cell_type": "code",
   "execution_count": 13,
   "metadata": {},
   "outputs": [
    {
     "data": {
      "text/plain": [
       "type var = Id of string * int\n"
      ]
     },
     "execution_count": 13,
     "metadata": {},
     "output_type": "execute_result"
    },
    {
     "data": {
      "text/plain": [
       "type atom = Atom of string\n"
      ]
     },
     "execution_count": 13,
     "metadata": {},
     "output_type": "execute_result"
    },
    {
     "data": {
      "text/plain": [
       "type term = Var of var | Term of atom * term list\n"
      ]
     },
     "execution_count": 13,
     "metadata": {},
     "output_type": "execute_result"
    },
    {
     "data": {
      "text/plain": [
       "type clause = Clause of term * term list\n"
      ]
     },
     "execution_count": 13,
     "metadata": {},
     "output_type": "execute_result"
    }
   ],
   "source": [
    "type var = Id of string * int;;\n",
    "type atom = Atom of string;;\n",
    "type term = Var of var | Term of atom * (term list);;\n",
    "type clause = Clause of term * (term list);;"
   ]
  },
  {
   "cell_type": "markdown",
   "metadata": {},
   "source": [
    "Ce n'est pas moi qui ai inventé cette structure particulière : je l'ai retrouvée dans un diapo de cours en Haskell sur le langage Prolog écrit par Alan Smaill en 2009, et qui est une modification de la structure en Lisp de *Paradigms of Artificial Intelligence Programming*, Peter Norvig, 1992 <cite data-cite=\"Norvig\">(Norvig)</cite> : *”We will build a single uniform data base of clauses, without distinguishing rules from facts. The simplest representation of clauses is as a cons cell holdingthe head and the body. For facts, the body will be empty.”*\n",
    "\n",
    "J'explique plus bas le *pourquoi* de cette structure, qui permet de représenter les clauses de Horn."
   ]
  },
  {
   "cell_type": "markdown",
   "metadata": {},
   "source": [
    "## L'analyse lexicale : le lexer\n",
    "\n",
    "Il faut d'abord transformer le programme qui est une chaine de caractères, en une liste de symboles. Les `token` sont les différents symboles présents dans un programme Prolog simple. Des mots, et ces caractères spéciaux : `( | ) | , | . | :-` Parmi les mots, on distingue ensuite les variables et les atomes."
   ]
  },
  {
   "cell_type": "code",
   "execution_count": null,
   "metadata": {},
   "outputs": [],
   "source": [
    "type token = TWord of string | TLPar | TRPar | TDot | TIf | TAnd | TVar of string | TAtom of string;;"
   ]
  },
  {
   "cell_type": "code",
   "execution_count": null,
   "metadata": {},
   "outputs": [],
   "source": [
    "(* Transforme une chaine de caractères en liste et réciproquement *)\n",
    "let to_list str = List.init (String.length str) (String.get str);;\n",
    "let to_string lst = String.init (List.length lst) (List.nth lst);;\n",
    "\n",
    "\n",
    "(* Enlève les espaces, tabulations de la liste de caractères *)\n",
    "let rec enleve_blancs = function\n",
    "| (' ' | '\\t' | '\\n')::l -> enleve_blancs l\n",
    "| l -> l;;\n",
    "\n",
    "(* Retire le premier mot (suite de lettres et de '_') de la liste *)\n",
    "let rec lire_mot car_list mot = match car_list with\n",
    "| ('A'..'Z' | 'a'..'z' | '_' as c)::l -> lire_mot l (c::mot)\n",
    "| car_list -> car_list, to_string (List.rev mot);;\n",
    "\n",
    "(* Transforme la liste de caractères en liste de symboles *)\n",
    "let rec lire_token liste_car = let lst = enleve_blancs liste_car in match lst with\n",
    "| [] -> []\n",
    "| '.'::l -> TDot::(lire_token l)\n",
    "| '('::l -> TLPar::(lire_token l)\n",
    "| ')'::l -> TRPar::(lire_token l)\n",
    "| ':'::'-'::l -> TIf::(lire_token l)\n",
    "| ','::l -> TAnd::(lire_token l)\n",
    "| ('A'..'Z' | 'a'..'z' | '_')::_ -> let l, m = lire_mot lst [] in (TWord m)::(lire_token l)\n",
    "| l -> failwith (\"Wrong Syntax in \" ^ (to_string l));;"
   ]
  },
  {
   "cell_type": "markdown",
   "metadata": {},
   "source": [
    "### Un exemple d'utilisation de l'analyseur lexical : "
   ]
  },
  {
   "cell_type": "code",
   "execution_count": null,
   "metadata": {},
   "outputs": [],
   "source": [
    "let program = \"etudiant_de(E,P):-apprend(E,M), enseigne(P,M).\n",
    "apprend(benjamin, informatique).\n",
    "apprend(benjamin, physique).\n",
    "apprend(eve, mathematiques).\n",
    "enseigne(alice, physique).\n",
    "enseigne(pierre, mathematiques).\n",
    "enseigne(pierre, informatique).\";;\n",
    "\n",
    "let tkl = lire_token (to_list program);;"
   ]
  },
  {
   "cell_type": "markdown",
   "metadata": {},
   "source": [
    "### Une dernière étape : séparer les variables des atomes"
   ]
  },
  {
   "cell_type": "code",
   "execution_count": null,
   "metadata": {},
   "outputs": [],
   "source": [
    "(* Pour séparer les variables et les atomes *)\n",
    "let tword_to_atomvar = function\n",
    "| TWord str -> (match String.get str 0 with\n",
    "                | ('A'..'Z') -> TVar str\n",
    "                | ('a'..'z') -> TAtom str\n",
    "                | _ -> failwith \"Wrong Word\")\n",
    "| t -> t;;\n",
    "\n",
    "let tkl_atomvar = List.map tword_to_atomvar tkl;;"
   ]
  },
  {
   "cell_type": "markdown",
   "metadata": {},
   "source": [
    "Quelques remarques sur le lexer : j'ai bien repris les idées du livre *Le Langage Caml*, Pierre Weis et Xavier Leroy, 1992 <cite data-cite=\"WeisLeroy\">(WeisLeroy)</cite>. Une grande différence est l'utilisation des List à la place des Stream. L'utilisation des Stream semble plus intelligente, mais ils ont pour des raisons qui m'échappent ils ont presque disparu des dernières versions d'OCaml (le pattern-matching est beaucoup plus difficile). Avec les listes il y a bien plus de copies, mais nous n'avons pas là de véritable problèmes de performance. (Du coup mes fonctions sont sans effets de bord, purement fonctionnelles...) "
   ]
  },
  {
   "cell_type": "markdown",
   "metadata": {},
   "source": [
    "## L'analyse syntaxique : le parser"
   ]
  },
  {
   "cell_type": "markdown",
   "metadata": {},
   "source": [
    "Il faut maintenant transformer la liste de `tokens` en une structure formée des types `clause`, `term`, `atom` et `var`."
   ]
  },
  {
   "cell_type": "markdown",
   "metadata": {},
   "source": [
    "### Isoler les clauses"
   ]
  },
  {
   "cell_type": "code",
   "execution_count": null,
   "metadata": {},
   "outputs": [],
   "source": [
    "(* Sépare les différentes clauses *)\n",
    "let rec extract_clauses tk_lst tmp = match tk_lst with\n",
    "| [] -> if tmp = [] then [] else failwith \"No end of clause\"\n",
    "| TDot::l -> (List.rev tmp)::(extract_clauses l [])\n",
    "| t::l -> extract_clauses l (t::tmp);;\n",
    "\n",
    "let cl_lst = extract_clauses tkl_atomvar [];;"
   ]
  },
  {
   "cell_type": "markdown",
   "metadata": {},
   "source": [
    "### Isoler les termes de droite et de gauche d'une clause"
   ]
  },
  {
   "cell_type": "code",
   "execution_count": null,
   "metadata": {},
   "outputs": [],
   "source": [
    "(* Sépare les membres de droite et de gauche d'une clause *)\n",
    "let rec extract_rl cl left = match cl with\n",
    "| [] -> (List.rev left), []\n",
    "| TIf::l -> (List.rev left), l\n",
    "| t::l -> extract_rl l (t::left);;\n",
    "\n",
    "let rl = extract_rl (List.hd cl_lst) [];;"
   ]
  },
  {
   "cell_type": "markdown",
   "metadata": {},
   "source": [
    "### Isoler les différents termes d'une suite de termes"
   ]
  },
  {
   "cell_type": "code",
   "execution_count": 14,
   "metadata": {},
   "outputs": [
    {
     "data": {
      "text/plain": [
       "val extract_term_lst : token list -> token list -> int -> token list list =\n",
       "  <fun>\n"
      ]
     },
     "execution_count": 14,
     "metadata": {},
     "output_type": "execute_result"
    },
    {
     "ename": "error",
     "evalue": "compile_error",
     "output_type": "error",
     "traceback": [
      "File \"[14]\", line 10, characters 12-14:\n10 | let r = snd rl in extract_term_lst r [] 0;;\n                 ^^\nError: Unbound value rl\n"
     ]
    }
   ],
   "source": [
    "(* Sépare les termes d'une liste de termes *)\n",
    "let rec extract_term_lst tk_lst term_tmp lvl = match tk_lst with\n",
    "| [] -> [term_tmp]\n",
    "| TLPar::l -> extract_term_lst l (term_tmp @ [TLPar]) (lvl + 1)\n",
    "| TRPar::l -> if lvl > 0 then extract_term_lst l (term_tmp @ [TRPar]) (lvl - 1) \n",
    "                else failwith \"Mismatched Parenthesis\"\n",
    "| TAnd::l when lvl = 0 -> term_tmp::(extract_term_lst l [] 0)\n",
    "| t::l -> extract_term_lst l (term_tmp @ [t]) lvl;;\n",
    "\n",
    "let r = snd rl in extract_term_lst r [] 0;;"
   ]
  },
  {
   "cell_type": "markdown",
   "metadata": {},
   "source": [
    "### Transformer la liste de symboles en un terme"
   ]
  },
  {
   "cell_type": "code",
   "execution_count": null,
   "metadata": {},
   "outputs": [],
   "source": [
    "(* Renvoie l'intérieur d'une liste de symboles dont les extrèmes sont des parenthèses *)\n",
    "let in_par = function\n",
    "| [] -> failwith \"Empty List\"\n",
    "| TLPar::l -> (let rec f = function\n",
    "                | [] -> failwith \"Mismatched Parenthesis\"\n",
    "                | [TRPar] -> []\n",
    "                | h::t -> h::(f t)\n",
    "                in f l)\n",
    "| _ -> failwith \"List is not beginning with TLPar\";;\n",
    "\n",
    "(* Prend une liste de tokens qui est censée ne représenter qu'un terme 'mouton', 'élève(samuel)', 'X',\n",
    "'apprend(X, Y)' et renvoie ce terme *)\n",
    "let rec tkl_to_term = function\n",
    "| [] -> failwith \"Error : [] is not a term\"\n",
    "| (TVar str)::[] -> Var (Id (str, 0))\n",
    "| (TVar str)::_ -> failwith \"No other arguments with Var\"\n",
    "| (TAtom str)::[] -> Term(Atom str, [])\n",
    "| (TAtom str)::l -> Term(Atom str, List.map tkl_to_term (extract_term_lst (in_par l) [] 0))\n",
    "| _ -> failwith \"Not a valid term\";;\n",
    "\n",
    "in_par [TLPar; TVar \"E\"; TAnd; TVar \"M\"; TRPar];;\n",
    "\n",
    "tkl_to_term (fst rl);;"
   ]
  },
  {
   "cell_type": "markdown",
   "metadata": {},
   "source": [
    "### Transformer les symboles en clauses, le programme en liste de clauses"
   ]
  },
  {
   "cell_type": "code",
   "execution_count": null,
   "metadata": {},
   "outputs": [],
   "source": [
    "(* Transforme une liste de symboles représentant une clause en la clause elle même *)\n",
    "let tklcl_toclause tklcl = \n",
    "let c = extract_rl tklcl [] in let l = fst c and r = snd c\n",
    "in Clause (tkl_to_term l, if r = [] then [] else List.map tkl_to_term (extract_term_lst r [] 0) );;\n",
    "\n",
    "(* Transforme la chaine de caractères du programme en la liste de clauses du format voulu *)\n",
    "let str_to_tree str = List.map tklcl_toclause (extract_clauses (List.map tword_to_atomvar (lire_token (to_list str))) []);;"
   ]
  },
  {
   "cell_type": "markdown",
   "metadata": {},
   "source": [
    "### Quelques exemples"
   ]
  },
  {
   "cell_type": "code",
   "execution_count": null,
   "metadata": {},
   "outputs": [],
   "source": [
    "tklcl_toclause (List.hd cl_lst);;\n",
    "\n",
    "tklcl_toclause [TAtom \"apprend\"; TLPar; TAtom \"benjamin\"; TAnd; TAtom \"informatique\"; TRPar];;\n",
    "\n",
    "let world = str_to_tree \"etudiant_de(E,P):-apprend(E,M), enseigne(P,M).\n",
    "apprend(benjamin, informatique).\n",
    "apprend(benjamin, physique).\n",
    "apprend(eve, mathematiques).\n",
    "enseigne(alice, physique).\n",
    "enseigne(pierre, mathematiques).\n",
    "enseigne(pierre, informatique).\";;"
   ]
  },
  {
   "cell_type": "markdown",
   "metadata": {},
   "source": [
    "### Remarques sur le parser\n",
    "\n",
    "Je l'ai écrit moi-même, sans reprendre une structure existante... C'est très inefficace : le programme est parcouru au moins 3 fois par les 3 fonctions d'isolement, avant même d'entrer dans la fonctions récursive `tkl_to_term` qui sert réellement à créer l'arbre... De plus, le programme est copié plein de fois dans les fonctions de parcours. Néanmoins le coût total me parait de loin proportionnel à la longueur du code, et probablement proportionnel au niveau d'imbrication `((()))` des parenthèses (ce qui pourrait certainement être évité). Je pense que ce n'est pas le plus important : les coûts d'exécution seront bien plus problématiques...\n",
    "\n",
    "Je pense qu'il pourrait exister encore des codes Prolog dont la syntaxe est fausse et qui passent le parser. (En tous cas je ne suis pas assuré du contraire). Il faut se demander si l'on peut représenter des programmes faux dans les structures formées des types `clause`, `term`, `atom` et `var`.\n",
    "\n",
    "Remarque : vous êtes priés de ne rentrer que des codes justes dans le parser, les messages d'erreur sont plus que lacunaires..."
   ]
  },
  {
   "cell_type": "markdown",
   "metadata": {},
   "source": [
    "## L'algorithme derrière Prolog"
   ]
  },
  {
   "cell_type": "markdown",
   "metadata": {},
   "source": [
    "Ma référence en ce qui concerne l'algorithme utilisé par Prolog est *Logic Programming and Prolog*, 1990, Nilsson et Maluszynski <cite data-cite=\"NilssonMaluszynski\">(NilssonMaluszynski)</cite>. \n",
    "\n",
    "Ce qui semble être le premier article traitant du type de résolution utilisé par Prolog est *A Machine-Oriented\n",
    "Logic Based on the Resolution Principle*, Robinson, 1965 <cite data-cite=\"Robinson\">(Robinson)</cite>. Cet article introduit l'unification, et le *principe de résolution* (Resolution Principle) dont dérive la SLD-resolution (Linear resolution for Definite clauses with Selection function) utilisée par Prolog.\n",
    "\n",
    "Une *clause définie*, aussi nommée clause de Horn est de la forme `(P1 et P2 et ... et Pn) => Q`. En particulier, `(non P) => Q` n'est pas une clause de Horn. On peut par contre exprimer`(P1 ou P2) => Q` avec des clauses de Horn, il suffit d'écrire les deux clauses `P1 => Q` et `P2 => Q`. Les versions premières de Prolog se limitent aux clauses de Horn, pour une principale raison : la *correction* et la *complétude* (*soundness* and *completeness*) ont été montrée pour la SLD-resolution, qui n'est valide que sur des clauses de Horn. Pour les citations (un peu compliquées) : la SLD-resolution est introduite par Kowalski en 1974, la correction est montrée par Clark en 1979, la complétude a été montrée premièrement par Hill en 1974, mais quelque chose de plus fort a été montré par Clark en 1979. \n"
   ]
  },
  {
   "cell_type": "markdown",
   "metadata": {},
   "source": [
    "### L'unification\n",
    "\n",
    "L'unification se fait entre deux termes A et B. Deux termes s'unifient s'il existe une substitution `thêta` des variables de A telle que `B = thêta(A)`. \n",
    "\n",
    "Soit le programme Prolog suivant `etudiant_de(E,P):-apprend(E,M), enseigne(P,M).`. Si l'on cherche à réaliser la requête `?-étudiant_de(E, pierre)`, on unifie `étudiant_de(E, pierre)` avec `etudiant_de(E,P)`, le membre de gauche de la clause. La substitution thêta remplace `P` par `pierre` et ne modifie pas les autres variables. Pour continuer la recherche, on applique la substitution au termes de droite de la clause.\n",
    "\n",
    "Voici l'algorithme décrit dans <cite data-cite=\"NilssonMaluszynski\">(NilssonMaluszynski)</cite> :\n",
    "```\n",
    "E est l'ensemble des équations. Au départ il n'y en a qu'une seule : \n",
    "Par exemple E = {etudiant_de(E,P) = étudiant_de(E, pierre)}.\n",
    "\n",
    "Répéter tant que E change \n",
    "(jusqu'à ce que l'on ne puisse plus rien appliquer aux équations)\n",
    "    Sélectionner une équation  s = t dans E;\n",
    "    Si s = t est de la forme :\n",
    "        f(s1, ..., sn) = f(t1, ..., tn) avec n >= 0 \n",
    "            Alors remplacer l'équation par s1=t1 ... sn=tn\n",
    "        f(s1, ..., sm) = g(t1, ..., tn) avec f != g \n",
    "            Alors ÉCHEC\n",
    "        X = X \n",
    "            Alors supprimer l'équation\n",
    "        t = X où t n'est pas une variable \n",
    "            Alors remplacer l'équation par X = t\n",
    "        X = t où X != t et X apparait plus d'une fois dans E \n",
    "            Si X est un sous-terme de t Alors ÉCHEC\n",
    "            Sinon on remplace toutes les autres occurences de X par t\n",
    "```\n",
    "\n",
    "Il est prouvé que cet algorithme termine et renvoie soit échec, soit un ensemble équivalent des équations sous *forme résolue*. Un ensemble d'équations `{X1 = t1, ..., Xn = tn}` est dit sous forme résolue si les `(Xn)` sont des variables, les `(tn)` sont des termes et aucune des variables `Xn` n'apparait dans les `tn`. Cela permet ensuite de déterminer un unifieur.\n",
    "\n",
    "Remarques : \n",
    "\n",
    "* C'est dommage que l'algorithme se prête si bien à la programmation impérative quand on programme dans un langage fonctionnel. \n",
    "\n",
    "* On trouve des algorithmes pour déterminer un unifieur qui ne manipulent pas exactement comme ça des systèmes d'équations, (et qui sont dans des styles plus fonctionnels), mais cet algorithme est le seul que j'arrive à comprendre convenablement, et en plus <cite data-cite=\"NilssonMaluszynski\">(NilssonMaluszynski)</cite> prouve sa terminaison et sa correction, ce qui est très bon point.\n",
    "\n",
    "* Le test `Si X est un sous-terme de t Alors ÉCHEC` est en pratique pas réalisé dans la plupart des implémentations Prolog (pas comme ça en tout cas), il est très lent et le cas n'arrive que très peu en pratique. On peut donc avoir des boucles infinies... Les versions \"modernes\" gèrent les unifications de structures infinies... Une citation de <cite data-cite=\"Norvig\">(Norvig)</cite> \"*This represents a circular, infinite unification. Some versions of Prolog, notably Prolog II (Giannesini et al. 1986), provide an interpretation for such structures, but it is tricky to define the semantics of infinite structures.*\""
   ]
  },
  {
   "cell_type": "code",
   "execution_count": null,
   "metadata": {},
   "outputs": [],
   "source": [
    "(* Teste si une variable est dans un terme *)\n",
    "let rec var_in_term v = function\n",
    "| Var w -> v = w\n",
    "| Term (_, l) -> List.mem true (List.map (var_in_term v) l);;\n",
    "\n",
    "let t = Term (Atom \"etudiant_de\", [Var (Id (\"E\", 0)); Var (Id (\"P\", 0))]);;\n",
    "\n",
    "var_in_term (Id (\"P\", 0)) t;;\n",
    "\n",
    "(* Remplace une variable par un nouveau terme, récursivement à l'intérieur d'un terme *)\n",
    "let rec rpl_var_term var new_t = function\n",
    "| Var v when v = var -> new_t\n",
    "| Var v -> Var v\n",
    "| Term (a , l) -> Term (a, List.map (rpl_var_term var new_t) l);;\n",
    "\n",
    "rpl_var_term (Id (\"E\",0)) (Var (Id (\"E\",27))) t;;"
   ]
  },
  {
   "cell_type": "code",
   "execution_count": null,
   "metadata": {},
   "outputs": [],
   "source": [
    "(* Teste si une variable est dans une liste de couples de termes *)\n",
    "let var_in_eql v e = List.mem true (List.map (function t -> var_in_term v (fst t) || var_in_term v (snd t)) e);;\n",
    "\n",
    "var_in_eql (Id (\"F\", 12)) [Var (Id (\"F\", 12)), Var (Id (\"A\", 0)); Var (Id (\"A\", 0)), Var (Id (\"E\", 27))];;\n",
    "\n",
    "(* Remplace une variable par un nouveau terme, à l'intérieur d'une liste de couples de termes *)\n",
    "let rpl_var_eql var new_t eql = \n",
    "List.map (function (a, b) -> (rpl_var_term var new_t a), (rpl_var_term var new_t b)) eql;;\n",
    "\n",
    "rpl_var_eql (Id (\"A\", 0)) (Var (Id (\"Salut\", 42))) [Var (Id (\"F\", 12)), Var (Id (\"A\", 0)); Var (Id (\"A\", 0)), Var (Id (\"E\", 27))];;"
   ]
  },
  {
   "cell_type": "code",
   "execution_count": null,
   "metadata": {},
   "outputs": [],
   "source": [
    "(* E est une liste de couples de termes *)\n",
    "(* transforme E en un équivalent sous forme résolue (type option, None si impossible) *) \n",
    "let rec solve e =\n",
    "    (* Parcourt une fois l'ensemble des équations *)\n",
    "    let rec pass tmp = function\n",
    "    | [] -> Some tmp\n",
    "    \n",
    "    | (Term (f, lf), Term (g, lg))::l when f = g && List.length lf = List.length lg -> \n",
    "        pass ((List.map2 (fun a b -> a,b) lf lg)@tmp) l\n",
    "        \n",
    "    | (Term (_, _), Term (_, _))::l -> None (* failwith \"Unification failed\" *)\n",
    "    \n",
    "    | (Var x, Var y)::l when x = y -> pass tmp l\n",
    "    \n",
    "    | (Term (a, la), Var x)::l -> pass ((Var x, Term (a, la))::tmp) l\n",
    "    \n",
    "    | (Var x, t)::l when var_in_eql x tmp || var_in_eql x l -> \n",
    "        if var_in_term x t then None (* failwith \"Unification failed, loop\" *)\n",
    "        else pass ((Var x, t)::(rpl_var_eql x t tmp)) (rpl_var_eql x t l)\n",
    "        \n",
    "    | (Var x, t)::l -> pass ((Var x, t)::tmp) l\n",
    "    \n",
    "in match (pass [] e) with \n",
    "| None -> None\n",
    "| Some eqlpp -> let b = List.sort_uniq compare eqlpp in if e = b then Some e else solve b;;"
   ]
  },
  {
   "cell_type": "code",
   "execution_count": null,
   "metadata": {},
   "outputs": [],
   "source": [
    "let t1 = Term (Atom \"etudiant_de\", [Var (Id (\"E\", 0)); Term (Atom \"pierre\", [])]);;\n",
    "let t2 = Term (Atom \"etudiant_de\", [Var (Id (\"S\", 0)); Var (Id (\"P\", 0))]);;\n",
    "\n",
    "solve [t1, t2];;"
   ]
  },
  {
   "cell_type": "markdown",
   "metadata": {},
   "source": [
    "Une substitution est une liste de couples (var,term), le term est inséré à la place de la variable.\n",
    "\n",
    "On sait : `etudiant_de(E1,P):-apprend(E1,M), enseigne(P,M).` (c) et on veut montrer `étudiant_de(E0, pierre).` (r). On veut unifier la tête de la clause (c) avec la requête (r).\n",
    "\n",
    "Pour l'exemple plus haut, il faut : `thêta = { P/pierre, E1/E0}`. Il faut comprendre \"La variable P est remplacée par 'pierre', la variable E1 est remplacée par la variable E0. C'est un unifieur, si on l'applique sur la requête et sur la tête de la clause, les deux deviennent égales.\n",
    "\n",
    "Il peut exister plusieurs unifieurs, par exemple `thêta2 = { P/pierre, E0/samuel, E1/samuel}` en est aussi un. On voit que thêta2, c'est thêta composé avec `{E0/samuel}`, on dit alors que thêta est plus général que thêta2. Nous, nous cherchons le plus général de ces unifieurs. On peut déduire facilement un MGU, (Most General Unifier) du système d'équations sous forme résolue de la fonction solve (c'est à ça qu'elle sert). \n",
    "\n",
    "Le seul petit détail, c'est qu'il n'y a pas un unique MGU, on peut avoir thêta plus général que oméga, et oméga plus général que théta, la relation n'est pas antisymétrique. Le MGU est unique au renommage des variables près, et ça pose quelques petits soucis d'implémentation, si on ne veut pas avoir de conflits des variables...\n",
    "\n",
    "En fait, il faut réorienter convenablement les équations du système sous forme résolue pour trouver le MGU qui nous intéresse. Si dans l'équation il y a une variable et un terme qui n'est pas une variable, alors `Var/terme` si il y a deux variables, normalement il y en a une qui vient de la requête et une de la tête de la clause, à ce moment là `Var(tête_clause)/Var(requête)`."
   ]
  },
  {
   "cell_type": "code",
   "execution_count": null,
   "metadata": {},
   "outputs": [],
   "source": [
    "(* Prend 2 terme et renvoie l'unifieur le plus général s'il existe, None sinon *)\n",
    "(* Attention, aucune variable ne doit être présente dans (r) la requête et dans (c) la tête de la clause *)\n",
    "(* le mgu r c tend à conserver les variables de (r) plutôt que celles de (c) *)\n",
    "let rec mgu r c = let f = function\n",
    "    | Var x, Term (a, l) -> x, Term (a, l)\n",
    "    | Var x, Var y -> if var_in_term x c then x, Var y else y, Var x\n",
    "    | Term (_, _), _ -> failwith \"I never thought this could happen, I'm sorry\"\n",
    "in match solve [r, c] with\n",
    "| None -> None\n",
    "| Some e -> Some (List.map f e);;\n",
    "\n",
    "mgu t1 t2;;"
   ]
  },
  {
   "cell_type": "code",
   "execution_count": null,
   "metadata": {},
   "outputs": [],
   "source": [
    "(* La fonction bricolage a pour but de tester mgu *)\n",
    "let bricolage str_r str_c =\n",
    "let f str = tkl_to_term (List.map tword_to_atomvar (lire_token (to_list str)))\n",
    "in mgu (f str_r) (f str_c);;\n",
    "\n",
    "bricolage \"etudiant_de(E, pierre)\" \"etudiant_de(F,P)\";; (* F/E et P/pierre *)\n",
    "\n",
    "bricolage \"etudiant_de(F,P)\" \"etudiant_de(E, pierre)\";; (* E/F et P/pierre *)\n",
    "\n",
    "bricolage \"f(X,g(Y))\" \"f(g(Z),Z)\";; (* X/g(g(Y)) et Z/g(Y) *)\n",
    "\n",
    "bricolage \"f(g(Z),Z)\" \"f(X,g(Y))\";; (* X/g(g(Y)) et Z/g(Y) *)"
   ]
  },
  {
   "cell_type": "markdown",
   "metadata": {},
   "source": [
    "Quelques explications sur les derniers deux exemples :\n",
    "\n",
    "* Je sais que pour tout `Z`, `f(g(Z),Z)` est vraie, et j'aimerais savoir s'il existe des couples `(X,Y)` tels que `f(X,g(Y))` soit vraie. Le programme me répond oui, il suffit de choisir `X = g(g(Y))`\n",
    "\n",
    "* Je sais que pour tout `(X,Y)`, `f(X,g(Y))` est vraie, et j'aimerais savoir s'il existe des `Z` tels que `f(g(Z),Z)` soit vraie. Le programme me répond oui, il suffit de choisir `Z = g(Y)`"
   ]
  },
  {
   "cell_type": "markdown",
   "metadata": {},
   "source": [
    "### Le backtracking\n",
    "\n",
    "Il me semble que nous nous rapprochons du but ! L'unification est une partie très importante de la SLD-resolution. L'autre point important est le backtracking. Encore quelques fonctions pour appliquer des substitutions sur des termes, listes de termes, pour composer des substitutions, pour vérifier que un terme et une clause n'ont pas de variables en commun, pour effectuer les renommages si nécessaire, et après je pense qu'il sera possible d'implémenter le backtracking."
   ]
  },
  {
   "cell_type": "code",
   "execution_count": null,
   "metadata": {},
   "outputs": [],
   "source": [
    "let rec uni_on_term uni term = match uni with\n",
    "| [] -> term\n",
    "| (v,t)::l -> uni_on_term l (rpl_var_term v t term);;\n",
    "\n",
    "[t1;t2];;\n",
    "uni_on_term (Option.get (mgu t1 t2)) t2;;"
   ]
  },
  {
   "cell_type": "code",
   "execution_count": null,
   "metadata": {},
   "outputs": [],
   "source": [
    "let rec uni_on_term_lst uni lst = List.map (uni_on_term uni) lst;;\n",
    "\n",
    "uni_on_term_lst (Option.get (mgu t1 t2)) [t1;t2];;"
   ]
  },
  {
   "cell_type": "markdown",
   "metadata": {},
   "source": [
    "* On cherche à satisfaire une requête `<- A1,...An`.\n",
    "\n",
    "* On a `A1` qui unifie avec `Hi`, où `Hi <- Ci_1,..Ci_m` est une la i-ème clause du programme. On a auparavant renommé toutes les variables de `Hi <- Ci_1,..Ci_m` qui étaient présentes dans `A1`, sinon on ne peut pas appeler `mgu`. On a donc un MGU `thêta1`.\n",
    "\n",
    "* La nouvelle requête à satisfaire est `<- thêta1(Ci_1,...Ci_m, A2,...An)`.\n",
    "\n",
    "* On récure, si on a à montrer `thêta_k( ... thêta2( thêta1( _vide_) ) ...)` alors c'est gagné (`_vide_` signifie toujours vrai), la composée `thêta_tot` des `thêta_k` est une substitution des variables de la requête de départ. Ce qu'on veut renvoyer à l'utilisateur c'est l'image des variables de `A1,...An` par `thêta_tot`.\n",
    "\n",
    "* Si `A1` ne s'unifie avec aucun `Hi`, ça ne sert à rien d'essayer d'unifier `A2`, puisque de toute façon on garde `A1` dans la nouvelle requête. Alors il faut remonter. C'est à dire qu'il faut essayer les autres unifications à l'étape d'avant."
   ]
  },
  {
   "cell_type": "markdown",
   "metadata": {},
   "source": [
    "On doit maintenant écrire une fonction pour le renommage, ce qui n'est pas la partie la plus agréable. La fonction prend un terme et une clause, et cherche dans la clause s'il y a des variables qui sont aussi dans le terme : ensuite elle renomme ces variables de la clause avec un nom qui est libre. \n",
    "\n",
    "Une autre idée : utiliser le niveau de récursion comme identifiant, que l'on place dans l'entier transporté avec la variable, cela semble beaucoup plus efficace, un seul parcours de la clause ! (dans un style un peu impératif).\n",
    "\n",
    "* On veut des variables numérotées à 0 dans la requête. \n",
    "\n",
    "* On passe 1 lors du premier appel de sld : la première clause utilisée est renommée à 1, les variables de la requête sont toutes à 0.\n",
    "\n",
    "* La deuxième clause utilisée est renommée à 2, dans la requête il y a des variables à 1 et à 0 : pas de conflit ! etc..."
   ]
  },
  {
   "cell_type": "code",
   "execution_count": null,
   "metadata": {},
   "outputs": [],
   "source": [
    "(* Prend un entier et une clause, renvoie la clause avec les variables renommées à l'entier *)\n",
    "let rename n (Clause (t1, tl)) = \n",
    "let rec f = function \n",
    "| Var (Id (str, _)) -> Var (Id (str, n))\n",
    "| Term (atm, l) -> Term (atm, List.map f l)\n",
    "in Clause (f t1, List.map f tl);;\n",
    "\n",
    "rename 42 (Clause (t2, [t1;t2]));;"
   ]
  },
  {
   "cell_type": "code",
   "execution_count": null,
   "metadata": {},
   "outputs": [],
   "source": [
    "let rec sld (world : clause list) (req : term list) (subs : (var * term) list list) n = match req with\n",
    "| [] -> Some subs\n",
    "| head_request_term::other_request_terms -> \n",
    "    let rec f = function\n",
    "    | [] -> None\n",
    "    | c::other_clauses -> let Clause (left_member, right_member) = rename n c in\n",
    "        (match mgu head_request_term left_member with\n",
    "        | None -> f other_clauses\n",
    "        | Some unifier -> (\n",
    "            match sld world (uni_on_term_lst unifier (right_member@other_request_terms)) (unifier::subs) (n+1) with\n",
    "            | None -> f other_clauses\n",
    "            | Some subst -> Some subst)\n",
    "        )\n",
    "    in f world;;"
   ]
  },
  {
   "cell_type": "code",
   "execution_count": null,
   "metadata": {},
   "outputs": [],
   "source": [
    "let t1 = Term (Atom \"etudiant_de\", [Var (Id (\"E\", 0)); Term (Atom \"pierre\", [])]);;\n",
    "let t2 = Term (Atom \"etudiant_de\", [Var (Id (\"S\", 0)); Var (Id (\"P\", 0))]);;\n",
    "\n",
    "sld world [t1] [] 1;;"
   ]
  },
  {
   "cell_type": "raw",
   "metadata": {},
   "source": [
    "\\nocite{*}\n",
    "\\bibliography{biblio}\n",
    "\\bibliographystyle{abbrv}"
   ]
  }
 ],
 "metadata": {
  "celltoolbar": "Format de la Cellule Texte Brut",
  "kernelspec": {
   "display_name": "OCaml 4.08.1",
   "language": "OCaml",
   "name": "jupyter"
  },
  "language_info": {
   "codemirror_mode": "text/x-ocaml",
   "file_extension": ".ml",
   "mimetype": "text/x-ocaml",
   "name": "OCaml",
   "nbconverter_exporter": null,
   "pygments_lexer": "OCaml",
   "version": "4.08.1"
  }
 },
 "nbformat": 4,
 "nbformat_minor": 2
}
