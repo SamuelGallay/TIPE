{
 "cells": [
  {
   "cell_type": "markdown",
   "metadata": {},
   "source": [
    "# L'écriture en OCaml d'un interpréteur du langage Prolog"
   ]
  },
  {
   "cell_type": "markdown",
   "metadata": {},
   "source": [
    "Prolog, pour programmation en logique est un langage créé par A. Colmerauer, en 1972 à Marseille. La programmation logique est un paradigme différent de la programmation impérative ou de la programmation fonctionnelle. On définit des faits élémentaires et des règles de la manière suivante :\n",
    "\n",
    "```\n",
    "apprend(eve, mathematiques).\n",
    "apprend(benjamin, informatique).\n",
    "apprend(benjamin, physique).\n",
    "enseigne(alice, physique).\n",
    "enseigne(pierre, mathematiques).\n",
    "enseigne(pierre, informatique).\n",
    "\n",
    "etudiant_de(E,P):-apprend(E,M), enseigne(P,M).\n",
    "```\n",
    "\n",
    "Ces informations décrivent l'ensemble des connaissances du programme. On lit ici \"Benjamin apprend l'informatique\", ou \"Alice enseigne la physique\". La dernière ligne est une règle : \"L'élève E est étudiant du professeur P si E apprend la matière M et que P enseigne M\". Le symbole `:-` se lit *si*, et la virgule entre `apprend(E,M)` et `enseigne(P,M)` sinifie *et*. Ensuite l'utilisateur peut effectuer des requêtes comme ceci : \n",
    "\n",
    "`?-etudiant_de(E, pierre)`\n",
    "\n",
    "L'interpréteur Prolog renvoie alors `E = benjamin` et `E = eve`.\n",
    "\n",
    "Ce qui différencie la programmation logique des formes plus courantes d'informatique impérative, c'est qu'on n'explique pas au programme comment résoudre la requête, on se contente de décrire le problème.\n",
    "\n",
    "De très nombreuses introductions au langage Prolog peuvent être trouvées sur internet, je n'en cite qu'une seule qui m'est apparue comme convenable pour une première approche : *Simply Logical: Intelligent Reasoning by Example*, P. Flach, 1994 <cite data-cite=\"Flach\">(Flach)</cite>."
   ]
  },
  {
   "cell_type": "markdown",
   "metadata": {
    "slideshow": {
     "slide_type": "-"
    }
   },
   "source": [
    "## La représentation des programmes Prolog"
   ]
  },
  {
   "cell_type": "markdown",
   "metadata": {},
   "source": [
    "La représentation des programmes Prolog dans OCaml se fait de la manière suivante :\n",
    "\n",
    "* `var` est une variable (commençant par une majuscule en Prolog), identifiée par une chaîne de caractères, et un numéro. Le numéro sera utilisé pour renommer facilement les variables, pour éviter des conflits de noms.\n",
    "\n",
    "* `atom` est une chaîne de caractères représentant les symboles de prédicats : soit des constantes (arité 0 du prédicat), soit les foncteurs (arité strictement positive). L'arité de `etudiant_de` est 2.\n",
    "\n",
    "* un `term` est soit une variable, soit sous la forme `prédicat(terme1, terme2, ...)`, qui est donc un atome, et une liste de termes.\n",
    "\n",
    "* une `clause` est de la forme `etudiant_de(E,P):-apprend(E,M), enseigne(P,M).`, un terme à gauche et une liste de termes à droite. `eleve(samuel).` est une clause, il n'y rien à droite."
   ]
  },
  {
   "cell_type": "code",
   "execution_count": 1,
   "metadata": {},
   "outputs": [
    {
     "data": {
      "text/plain": [
       "type var = Id of string * int\n"
      ]
     },
     "execution_count": 1,
     "metadata": {},
     "output_type": "execute_result"
    },
    {
     "data": {
      "text/plain": [
       "type atom = Atom of string\n"
      ]
     },
     "execution_count": 1,
     "metadata": {},
     "output_type": "execute_result"
    },
    {
     "data": {
      "text/plain": [
       "type term = Var of var | Term of atom * term list\n"
      ]
     },
     "execution_count": 1,
     "metadata": {},
     "output_type": "execute_result"
    },
    {
     "data": {
      "text/plain": [
       "type clause = Clause of term * term list\n"
      ]
     },
     "execution_count": 1,
     "metadata": {},
     "output_type": "execute_result"
    }
   ],
   "source": [
    "type var = Id of string * int;;\n",
    "type atom = Atom of string;;\n",
    "type term = Var of var | Term of atom * (term list);;\n",
    "type clause = Clause of term * (term list);;"
   ]
  },
  {
   "cell_type": "markdown",
   "metadata": {},
   "source": [
    "Ce n'est pas moi qui ai inventé cette structure particulière : je l'ai retrouvée dans un diapo de cours en Haskell sur le langage Prolog écrit par Alan Smaill en 2009 <cite data-cite=\"Smaill\">(Smaill)</cite>.\n",
    "\n",
    "Une structure proche est utilisée en Lisp par Peter Norvig dans *Paradigms of Artificial Intelligence Programming*, 1992 <cite data-cite=\"Norvig\">(Norvig)</cite>. Une citation qui permet de comprendre la structure d'un programme en Prolog : *”We will build a single uniform data base of clauses, without distinguishing rules from facts. The simplest representation of clauses is as a cons cell holding the head and the body. For facts, the body will be empty.”*\n",
    "\n",
    "J'explique plus bas le *pourquoi* de cette structure, qui permet de représenter les clauses de Horn."
   ]
  },
  {
   "cell_type": "markdown",
   "metadata": {},
   "source": [
    "## L'analyse lexicale : le lexer\n",
    "\n",
    "Il faut d'abord transformer le programme qui est une chaîne de caractères, en une liste de symboles. Les `token` sont les différents symboles présents dans un programme Prolog simple. Des variables et des atomes, et ces caractères spéciaux : `( | ) | , | . | :-`."
   ]
  },
  {
   "cell_type": "code",
   "execution_count": 2,
   "metadata": {},
   "outputs": [
    {
     "data": {
      "text/plain": [
       "type token =\n",
       "    TLPar\n",
       "  | TRPar\n",
       "  | TDot\n",
       "  | TIf\n",
       "  | TAnd\n",
       "  | TVar of string\n",
       "  | TAtom of string\n"
      ]
     },
     "execution_count": 2,
     "metadata": {},
     "output_type": "execute_result"
    }
   ],
   "source": [
    "type token = TLPar | TRPar | TDot | TIf | TAnd | TVar of string | TAtom of string;;"
   ]
  },
  {
   "cell_type": "code",
   "execution_count": 3,
   "metadata": {},
   "outputs": [
    {
     "data": {
      "text/plain": [
       "val to_list : string -> char list = <fun>\n"
      ]
     },
     "execution_count": 3,
     "metadata": {},
     "output_type": "execute_result"
    },
    {
     "data": {
      "text/plain": [
       "val to_string : char list -> string = <fun>\n"
      ]
     },
     "execution_count": 3,
     "metadata": {},
     "output_type": "execute_result"
    },
    {
     "data": {
      "text/plain": [
       "val remove_spaces : char list -> char list = <fun>\n"
      ]
     },
     "execution_count": 3,
     "metadata": {},
     "output_type": "execute_result"
    },
    {
     "data": {
      "text/plain": [
       "val read_word : char list -> char list -> char list * string = <fun>\n"
      ]
     },
     "execution_count": 3,
     "metadata": {},
     "output_type": "execute_result"
    },
    {
     "data": {
      "text/plain": [
       "val string_to_atomvar : string -> token = <fun>\n"
      ]
     },
     "execution_count": 3,
     "metadata": {},
     "output_type": "execute_result"
    },
    {
     "data": {
      "text/plain": [
       "val charlist_to_tokenlist : char list -> token list = <fun>\n"
      ]
     },
     "execution_count": 3,
     "metadata": {},
     "output_type": "execute_result"
    },
    {
     "data": {
      "text/plain": [
       "val lexer : string -> token list = <fun>\n"
      ]
     },
     "execution_count": 3,
     "metadata": {},
     "output_type": "execute_result"
    }
   ],
   "source": [
    "(* Transforme une chaîne de caractères en liste et réciproquement *)\n",
    "let to_list str = List.init (String.length str) (String.get str);;\n",
    "let to_string lst = String.init (List.length lst) (List.nth lst);;\n",
    "\n",
    "\n",
    "(* Enlève les espaces, tabulations de la liste de caractères *)\n",
    "let rec remove_spaces = function\n",
    "| (' ' | '\\t' | '\\n')::l -> remove_spaces l\n",
    "| l -> l;;\n",
    "\n",
    "(* Retire le premier mot (suite de lettres et de '_') de la liste *)\n",
    "let rec read_word char_list mot = match char_list with\n",
    "| ('A'..'Z' | 'a'..'z' | '_' as c)::l -> read_word l (c::mot)\n",
    "| char_list -> char_list, to_string (List.rev mot);;\n",
    "\n",
    "(* Pour séparer les variables et les atomes *)\n",
    "let string_to_atomvar = function\n",
    "| str -> (match String.get str 0 with\n",
    "                | ('A'..'Z') -> TVar str\n",
    "                | ('a'..'z') -> TAtom str\n",
    "                | _ -> failwith \"Wrong Word\");;\n",
    "\n",
    "(* Transforme la liste de caractères en liste de symboles *)\n",
    "let rec charlist_to_tokenlist liste_car = let lst = remove_spaces liste_car in match lst with\n",
    "| [] -> []\n",
    "| '.'::l -> TDot::(charlist_to_tokenlist l)\n",
    "| '('::l -> TLPar::(charlist_to_tokenlist l)\n",
    "| ')'::l -> TRPar::(charlist_to_tokenlist l)\n",
    "| ':'::'-'::l -> TIf::(charlist_to_tokenlist l)\n",
    "| ','::l -> TAnd::(charlist_to_tokenlist l)\n",
    "| ('A'..'Z' | 'a'..'z' | '_')::_ -> let l, m = read_word lst [] \n",
    "in (string_to_atomvar m)::(charlist_to_tokenlist l)\n",
    "| l -> failwith (\"Wrong Syntax in \" ^ (to_string l));;\n",
    "\n",
    "(* Transforme la chaîne de caractères en liste de symboles *)\n",
    "let lexer str = charlist_to_tokenlist (to_list str);;"
   ]
  },
  {
   "cell_type": "markdown",
   "metadata": {},
   "source": [
    "### Un exemple d'utilisation de l'analyseur lexical : "
   ]
  },
  {
   "cell_type": "code",
   "execution_count": 4,
   "metadata": {
    "scrolled": true
   },
   "outputs": [
    {
     "data": {
      "text/plain": [
       "val program : string =\n",
       "  \"apprend(eve, mathematiques).\\napprend(benjamin, informatique).\\napprend(benjamin, physique).\\nenseigne(alice, physique).\\nenseigne(pierre, mathematiques).\\nenseigne(pierre, informatique).\\netudiant_de(E,P):-apprend(E,M), enseigne(P,M).\\n\"\n"
      ]
     },
     "execution_count": 4,
     "metadata": {},
     "output_type": "execute_result"
    },
    {
     "data": {
      "text/plain": [
       "- : token list =\n",
       "[TAtom \"apprend\"; TLPar; TAtom \"eve\"; TAnd; TAtom \"mathematiques\"; TRPar;\n",
       " TDot; TAtom \"apprend\"; TLPar; TAtom \"benjamin\"; TAnd; TAtom \"informatique\";\n",
       " TRPar; TDot; TAtom \"apprend\"; TLPar; TAtom \"benjamin\"; TAnd;\n",
       " TAtom \"physique\"; TRPar; TDot; TAtom \"enseigne\"; TLPar; TAtom \"alice\"; TAnd;\n",
       " TAtom \"physique\"; TRPar; TDot; TAtom \"enseigne\"; TLPar; TAtom \"pierre\";\n",
       " TAnd; TAtom \"mathematiques\"; TRPar; TDot; TAtom \"enseigne\"; TLPar;\n",
       " TAtom \"pierre\"; TAnd; TAtom \"informatique\"; TRPar; TDot;\n",
       " TAtom \"etudiant_de\"; TLPar; TVar \"E\"; TAnd; TVar \"P\"; TRPar; TIf;\n",
       " TAtom \"apprend\"; TLPar; TVar \"E\"; TAnd; TVar \"M\"; TRPar; TAnd;\n",
       " TAtom \"enseigne\"; TLPar; TVar \"P\"; TAnd; TVar \"M\"; TRPar; TDot]\n"
      ]
     },
     "execution_count": 4,
     "metadata": {},
     "output_type": "execute_result"
    }
   ],
   "source": [
    "let program = \"apprend(eve, mathematiques).\n",
    "apprend(benjamin, informatique).\n",
    "apprend(benjamin, physique).\n",
    "enseigne(alice, physique).\n",
    "enseigne(pierre, mathematiques).\n",
    "enseigne(pierre, informatique).\n",
    "etudiant_de(E,P):-apprend(E,M), enseigne(P,M).\n",
    "\";;\n",
    "\n",
    "lexer program;;"
   ]
  },
  {
   "cell_type": "markdown",
   "metadata": {},
   "source": [
    "Quelques remarques sur le lexer : j'ai bien repris les idées du livre *Le Langage Caml*, Pierre Weis et Xavier Leroy, 1992 <cite data-cite=\"WeisLeroy\">(WeisLeroy)</cite>. Une grande différence est l'utilisation des List à la place des Stream. L'utilisation des Stream semble plus intelligente, mais ils ont pour des raisons qui m'échappent ils ont presque disparu des dernières versions d'OCaml (le pattern-matching est beaucoup plus difficile). Avec les listes il y a bien plus de copies, mais nous n'avons pas là de véritable problème de performance."
   ]
  },
  {
   "cell_type": "markdown",
   "metadata": {},
   "source": [
    "## L'analyse syntaxique : le parser"
   ]
  },
  {
   "cell_type": "markdown",
   "metadata": {},
   "source": [
    "Il faut maintenant transformer la liste de `tokens` en une structure formée des types `clause`, `term`, `atom` et `var`."
   ]
  },
  {
   "cell_type": "markdown",
   "metadata": {},
   "source": [
    "### Isoler les clauses séparées par des points"
   ]
  },
  {
   "cell_type": "code",
   "execution_count": 5,
   "metadata": {},
   "outputs": [
    {
     "data": {
      "text/plain": [
       "val extract_clauses : token list -> token list list = <fun>\n"
      ]
     },
     "execution_count": 5,
     "metadata": {},
     "output_type": "execute_result"
    },
    {
     "data": {
      "text/plain": [
       "- : token list list =\n",
       "[[TAtom \"apprend\"; TLPar; TAtom \"eve\"; TAnd; TAtom \"mathematiques\"; TRPar];\n",
       " [TAtom \"apprend\"; TLPar; TAtom \"benjamin\"; TAnd; TAtom \"informatique\";\n",
       "  TRPar];\n",
       " [TAtom \"apprend\"; TLPar; TAtom \"benjamin\"; TAnd; TAtom \"physique\"; TRPar];\n",
       " [TAtom \"enseigne\"; TLPar; TAtom \"alice\"; TAnd; TAtom \"physique\"; TRPar];\n",
       " [TAtom \"enseigne\"; TLPar; TAtom \"pierre\"; TAnd; TAtom \"mathematiques\";\n",
       "  TRPar];\n",
       " [TAtom \"enseigne\"; TLPar; TAtom \"pierre\"; TAnd; TAtom \"informatique\"; TRPar];\n",
       " [TAtom \"etudiant_de\"; TLPar; TVar \"E\"; TAnd; TVar \"P\"; TRPar; TIf;\n",
       "  TAtom \"apprend\"; TLPar; TVar \"E\"; TAnd; TVar \"M\"; TRPar; TAnd;\n",
       "  TAtom \"enseigne\"; TLPar; TVar \"P\"; TAnd; TVar \"M\"; TRPar]]\n"
      ]
     },
     "execution_count": 5,
     "metadata": {},
     "output_type": "execute_result"
    }
   ],
   "source": [
    "(* Sépare les différentes clauses *)\n",
    "let extract_clauses token_list =\n",
    "let rec f tk_lst tmp = match tk_lst with\n",
    "| [] -> if tmp = [] then [] else failwith \"No end of clause\"\n",
    "| TDot::l -> (List.rev tmp)::(f l [])\n",
    "| t::l -> f l (t::tmp)\n",
    "in f token_list [];;\n",
    "\n",
    "extract_clauses (lexer program);;"
   ]
  },
  {
   "cell_type": "markdown",
   "metadata": {},
   "source": [
    "### Isoler les termes de droite et de gauche d'une clause séparés par `:-`"
   ]
  },
  {
   "cell_type": "code",
   "execution_count": 6,
   "metadata": {},
   "outputs": [
    {
     "data": {
      "text/plain": [
       "val extract_rightleft : token list -> token list * token list = <fun>\n"
      ]
     },
     "execution_count": 6,
     "metadata": {},
     "output_type": "execute_result"
    },
    {
     "data": {
      "text/plain": [
       "- : token list * token list =\n",
       "([TAtom \"etudiant_de\"; TLPar; TVar \"E\"; TAnd; TVar \"P\"; TRPar],\n",
       " [TAtom \"apprend\"; TLPar; TVar \"E\"; TAnd; TVar \"M\"; TRPar; TAnd;\n",
       "  TAtom \"enseigne\"; TLPar; TVar \"P\"; TAnd; TVar \"M\"; TRPar])\n"
      ]
     },
     "execution_count": 6,
     "metadata": {},
     "output_type": "execute_result"
    }
   ],
   "source": [
    "(* Sépare les membres de droite et de gauche d'une clause *)\n",
    "let extract_rightleft cl =\n",
    "    let rec f cl left = match cl with\n",
    "    | [] -> (List.rev left), []\n",
    "    | TIf::l -> (List.rev left), l\n",
    "    | t::l -> f l (t::left)\n",
    "in f cl [];;\n",
    "\n",
    "extract_rightleft (lexer \"etudiant_de(E,P):-apprend(E,M), enseigne(P,M)\");;"
   ]
  },
  {
   "cell_type": "markdown",
   "metadata": {},
   "source": [
    "### Isoler les différents termes d'une suite de termes séparés par des virgules"
   ]
  },
  {
   "cell_type": "code",
   "execution_count": 7,
   "metadata": {},
   "outputs": [
    {
     "data": {
      "text/plain": [
       "val extract_term_list : token list -> token list list = <fun>\n"
      ]
     },
     "execution_count": 7,
     "metadata": {},
     "output_type": "execute_result"
    },
    {
     "data": {
      "text/plain": [
       "- : token list list =\n",
       "[[TAtom \"apprend\"; TLPar; TVar \"E\"; TAnd; TVar \"M\"; TRPar];\n",
       " [TAtom \"enseigne\"; TLPar; TVar \"P\"; TAnd; TVar \"M\"; TRPar]]\n"
      ]
     },
     "execution_count": 7,
     "metadata": {},
     "output_type": "execute_result"
    }
   ],
   "source": [
    "(* Sépare les termes d'une liste de termes *)\n",
    "let extract_term_list tk_lst =\n",
    "let rec f tk_lst term_tmp lvl = match tk_lst with\n",
    "    | [] -> [term_tmp]\n",
    "    | TLPar::l -> f l (term_tmp @ [TLPar]) (lvl + 1)\n",
    "    | TRPar::l -> if lvl > 0 then f l (term_tmp @ [TRPar]) (lvl - 1) \n",
    "                else failwith \"Mismatched Parenthesis\"\n",
    "    | TAnd::l when lvl = 0 -> term_tmp::(f l [] 0)\n",
    "    | t::l -> f l (term_tmp @ [t]) lvl\n",
    "in f tk_lst [] 0;;\n",
    "\n",
    "extract_term_list (lexer \"apprend(E,M), enseigne(P,M)\");;"
   ]
  },
  {
   "cell_type": "markdown",
   "metadata": {},
   "source": [
    "### Transformer la liste de symboles en un terme"
   ]
  },
  {
   "cell_type": "code",
   "execution_count": 8,
   "metadata": {},
   "outputs": [
    {
     "data": {
      "text/plain": [
       "val inside_parenthesis : token list -> token list = <fun>\n"
      ]
     },
     "execution_count": 8,
     "metadata": {},
     "output_type": "execute_result"
    },
    {
     "data": {
      "text/plain": [
       "- : token list = [TVar \"E\"; TAnd; TVar \"M\"]\n"
      ]
     },
     "execution_count": 8,
     "metadata": {},
     "output_type": "execute_result"
    }
   ],
   "source": [
    "(* Renvoie l'intérieur d'une liste de symboles dont les extrêmes sont des parenthèses *)\n",
    "let inside_parenthesis = function\n",
    "| [] -> failwith \"Empty List\"\n",
    "| TLPar::l -> (let rec f = function\n",
    "                | [] -> failwith \"Mismatched Parenthesis\"\n",
    "                | [TRPar] -> []\n",
    "                | h::t -> h::(f t)\n",
    "                in f l)\n",
    "| _ -> failwith \"List is not beginning with TLPar\";;\n",
    "\n",
    "inside_parenthesis (lexer \"(E,M)\");;"
   ]
  },
  {
   "cell_type": "code",
   "execution_count": 9,
   "metadata": {},
   "outputs": [
    {
     "data": {
      "text/plain": [
       "val tokenlist_to_term : token list -> term = <fun>\n"
      ]
     },
     "execution_count": 9,
     "metadata": {},
     "output_type": "execute_result"
    },
    {
     "data": {
      "text/plain": [
       "- : term =\n",
       "Term (Atom \"apprend\",\n",
       " [Term (Atom \"benjamin\", []); Term (Atom \"informatique\", [])])\n"
      ]
     },
     "execution_count": 9,
     "metadata": {},
     "output_type": "execute_result"
    }
   ],
   "source": [
    "(* Prend une liste de tokens qui est censée ne représenter qu'un terme 'mouton', 'élève(samuel)', 'X',\n",
    "'apprend(X, Y)' et renvoie ce terme *)\n",
    "let rec tokenlist_to_term = function\n",
    "| [] -> failwith \"Error : [] is not a term\"\n",
    "| (TVar str)::[] -> Var (Id (str, 0))\n",
    "| (TVar str)::_ -> failwith \"No other arguments with Var\"\n",
    "| (TAtom str)::[] -> Term(Atom str, [])\n",
    "| (TAtom str)::l -> Term(Atom str, List.map tokenlist_to_term (extract_term_list (inside_parenthesis l)))\n",
    "| _ -> failwith \"Not a valid term\";;\n",
    "\n",
    "tokenlist_to_term (lexer \"apprend(benjamin, informatique)\");;"
   ]
  },
  {
   "cell_type": "markdown",
   "metadata": {},
   "source": [
    "### Transformer les symboles en clauses, le programme en liste de clauses"
   ]
  },
  {
   "cell_type": "code",
   "execution_count": 10,
   "metadata": {},
   "outputs": [
    {
     "data": {
      "text/plain": [
       "val tokenlist_to_clause : token list -> clause = <fun>\n"
      ]
     },
     "execution_count": 10,
     "metadata": {},
     "output_type": "execute_result"
    },
    {
     "data": {
      "text/plain": [
       "val parser : string -> clause list = <fun>\n"
      ]
     },
     "execution_count": 10,
     "metadata": {},
     "output_type": "execute_result"
    }
   ],
   "source": [
    "(* Transforme une liste de symboles représentant une clause en la clause elle même *)\n",
    "let tokenlist_to_clause tklcl = \n",
    "let c = extract_rightleft tklcl in let l = fst c and r = snd c\n",
    "in Clause (tokenlist_to_term l, if r = [] then [] else List.map tokenlist_to_term (extract_term_list r));;\n",
    "\n",
    "(* Transforme la chaîne de caractères du programme en la liste de clauses du format voulu *)\n",
    "let parser str = List.map tokenlist_to_clause (extract_clauses (lexer str)) ;;"
   ]
  },
  {
   "cell_type": "markdown",
   "metadata": {},
   "source": [
    "### Quelques petits parsers pratiques"
   ]
  },
  {
   "cell_type": "code",
   "execution_count": 11,
   "metadata": {},
   "outputs": [
    {
     "data": {
      "text/plain": [
       "val parser_term : string -> term = <fun>\n"
      ]
     },
     "execution_count": 11,
     "metadata": {},
     "output_type": "execute_result"
    },
    {
     "data": {
      "text/plain": [
       "val parser_term_list : string -> term list = <fun>\n"
      ]
     },
     "execution_count": 11,
     "metadata": {},
     "output_type": "execute_result"
    },
    {
     "data": {
      "text/plain": [
       "val parser_clause : string -> clause = <fun>\n"
      ]
     },
     "execution_count": 11,
     "metadata": {},
     "output_type": "execute_result"
    },
    {
     "data": {
      "text/plain": [
       "- : term =\n",
       "Term (Atom \"apprend\",\n",
       " [Term (Atom \"benjamin\", []); Term (Atom \"informatique\", [])])\n"
      ]
     },
     "execution_count": 11,
     "metadata": {},
     "output_type": "execute_result"
    },
    {
     "data": {
      "text/plain": [
       "- : term list =\n",
       "[Term (Atom \"apprend\", [Var (Id (\"E\", 0)); Var (Id (\"M\", 0))]);\n",
       " Term (Atom \"enseigne\", [Var (Id (\"P\", 0)); Var (Id (\"M\", 0))])]\n"
      ]
     },
     "execution_count": 11,
     "metadata": {},
     "output_type": "execute_result"
    },
    {
     "data": {
      "text/plain": [
       "- : clause =\n",
       "Clause (Term (Atom \"etudiant_de\", [Var (Id (\"E\", 0)); Var (Id (\"P\", 0))]),\n",
       " [Term (Atom \"apprend\", [Var (Id (\"E\", 0)); Var (Id (\"M\", 0))]);\n",
       "  Term (Atom \"enseigne\", [Var (Id (\"P\", 0)); Var (Id (\"M\", 0))])])\n"
      ]
     },
     "execution_count": 11,
     "metadata": {},
     "output_type": "execute_result"
    }
   ],
   "source": [
    "(* Un parser sur une chaîne représentant un terme *)\n",
    "let parser_term str = tokenlist_to_term (lexer str);;\n",
    "\n",
    "(* Un parser sur une chaîne représentant une liste de termes *)\n",
    "let parser_term_list str = List.map tokenlist_to_term (extract_term_list (lexer str));;\n",
    "\n",
    "(* Un parser sur une chaîne (sans le point) représentant une clause *)\n",
    "let parser_clause str = tokenlist_to_clause (lexer str);;\n",
    "\n",
    "\n",
    "parser_term \"apprend(benjamin, informatique)\";;\n",
    "\n",
    "parser_term_list \"apprend(E,M), enseigne(P,M)\";;\n",
    "\n",
    "parser_clause \"etudiant_de(E,P):-apprend(E,M), enseigne(P,M)\";;"
   ]
  },
  {
   "cell_type": "markdown",
   "metadata": {},
   "source": [
    "### Un exemple"
   ]
  },
  {
   "cell_type": "code",
   "execution_count": 12,
   "metadata": {},
   "outputs": [
    {
     "data": {
      "text/plain": [
       "val world : clause list =\n",
       "  [Clause\n",
       "    (Term (Atom \"apprend\",\n",
       "      [Term (Atom \"eve\", []); Term (Atom \"mathematiques\", [])]),\n",
       "    []);\n",
       "   Clause\n",
       "    (Term (Atom \"apprend\",\n",
       "      [Term (Atom \"benjamin\", []); Term (Atom \"informatique\", [])]),\n",
       "    []);\n",
       "   Clause\n",
       "    (Term (Atom \"apprend\",\n",
       "      [Term (Atom \"benjamin\", []); Term (Atom \"physique\", [])]),\n",
       "    []);\n",
       "   Clause\n",
       "    (Term (Atom \"enseigne\",\n",
       "      [Term (Atom \"alice\", []); Term (Atom \"physique\", [])]),\n",
       "    []);\n",
       "   Clause\n",
       "    (Term (Atom \"enseigne\",\n",
       "      [Term (Atom \"pierre\", []); Term (Atom \"mathematiques\", [])]),\n",
       "    []);\n",
       "   Clause\n",
       "    (Term (Atom \"enseigne\",\n",
       "      [Term (Atom \"pierre\", []); Term (Atom \"informatique\", [])]),\n",
       "    []);\n",
       "   Clause (Term (Atom \"etudiant_de\", [Var (Id (\"E\", 0)); Var (Id (\"P\", 0))]),\n",
       "    [Term (Atom \"apprend\", [Var (Id (\"E\", 0)); Var (Id (\"M\", 0))]);\n",
       "     Term (Atom \"enseigne\", [Var (Id (\"P\", 0)); Var (Id (\"M\", 0))])])]\n"
      ]
     },
     "execution_count": 12,
     "metadata": {},
     "output_type": "execute_result"
    }
   ],
   "source": [
    "let world = parser program;;"
   ]
  },
  {
   "cell_type": "markdown",
   "metadata": {},
   "source": [
    "### Remarques sur le parser\n",
    "\n",
    "Je l'ai écrit moi-même, sans reprendre une structure existante... C'est très inefficace : le programme est parcouru au moins 3 fois par les 3 fonctions d'isolement, avant même d'entrer dans la fonctions récursive `tokenlist_to_term` qui sert réellement à créer l'arbre... De plus, le programme est copié plein de fois dans les fonctions de parcours. Néanmoins le coût total me parait de loin proportionnel à la longueur du code, et probablement proportionnel au niveau d'imbrication `((()))` des parenthèses (ce qui pourrait certainement être évité). Je pense que ce n'est pas le plus important : les coûts d'exécution seront bien plus problématiques...\n",
    "\n",
    "Je pense qu'il pourrait exister encore des codes Prolog dont la syntaxe est fausse et qui passent le parser. (En tous cas je ne suis pas assuré du contraire). Il faut se demander si l'on peut représenter des programmes faux dans les structures formées des types `clause`, `term`, `atom` et `var`.\n",
    "\n",
    "Remarque : vous êtes priés de ne rentrer que des codes justes dans le parser, les messages d'erreur sont plus que lacunaires..."
   ]
  },
  {
   "cell_type": "markdown",
   "metadata": {},
   "source": [
    "### Quelques fonctions d'affichage pour le débogage"
   ]
  },
  {
   "cell_type": "code",
   "execution_count": 13,
   "metadata": {},
   "outputs": [
    {
     "data": {
      "text/plain": [
       "val term_to_string : term -> string = <fun>\n"
      ]
     },
     "execution_count": 13,
     "metadata": {},
     "output_type": "execute_result"
    },
    {
     "data": {
      "text/plain": [
       "val term_list_to_string : term list -> string = <fun>\n"
      ]
     },
     "execution_count": 13,
     "metadata": {},
     "output_type": "execute_result"
    },
    {
     "data": {
      "text/plain": [
       "val clause_to_string : clause -> string = <fun>\n"
      ]
     },
     "execution_count": 13,
     "metadata": {},
     "output_type": "execute_result"
    }
   ],
   "source": [
    "let rec term_to_string = function\n",
    "| Var (Id (str,n)) -> str\n",
    "(*| Var (Id (str,n)) -> str ^ (string_of_int n)*)\n",
    "| Term (Atom a, []) -> a\n",
    "| Term (Atom a, l) -> a ^ \"(\" ^ (String.concat \", \" (List.map term_to_string l)) ^ \")\";;\n",
    "\n",
    "let term_list_to_string l = String.concat \", \" (List.map term_to_string l);;\n",
    "\n",
    "let clause_to_string (Clause (h, l)) = (term_to_string h) ^ \":-\" ^ (term_list_to_string l);;"
   ]
  },
  {
   "cell_type": "markdown",
   "metadata": {},
   "source": [
    "## L'algorithme derrière Prolog"
   ]
  },
  {
   "cell_type": "markdown",
   "metadata": {},
   "source": [
    "Ma référence en ce qui concerne l'algorithme utilisé par Prolog est *Logic Programming and Prolog*, 1990, Nilsson et Małuszyński <cite data-cite=\"NilssonMaluszynski\">(NilssonMaluszynski)</cite>. \n",
    "\n",
    "Ce qui semble être le premier article traitant du type de résolution utilisé par Prolog est *A Machine-Oriented\n",
    "Logic Based on the Resolution Principle*, Robinson, 1965 <cite data-cite=\"Robinson\">(Robinson)</cite>. Cet article introduit l'unification, et le *principe de résolution* (Resolution Principle) dont dérive la SLD-resolution (Linear resolution for Definite clauses with Selection function) utilisée par Prolog.\n",
    "\n",
    "Une *clause définie*, aussi nommée clause de Horn est de la forme `(P1 et P2 et ... et Pn) => Q`. En particulier, `(non P) => Q` n'est pas une clause de Horn. On peut par contre exprimer`(P1 ou P2) => Q` avec des clauses de Horn, il suffit d'écrire les deux clauses `P1 => Q` et `P2 => Q`. Les versions premières de Prolog se limitent aux clauses de Horn, pour une principale raison : la *correction* et la *complétude* (*soundness* and *completeness*) ont été montrée pour la SLD-resolution, qui n'est valide que sur des clauses de Horn. Pour les citations (un peu compliquées) : la SLD-resolution est introduite par Kowalski en 1974, la correction est montrée par Clark en 1979, la complétude a été montrée premièrement par Hill en 1974, mais quelque chose de plus fort a été montré par Clark en 1979. \n"
   ]
  },
  {
   "cell_type": "markdown",
   "metadata": {},
   "source": [
    "### L'unification\n",
    "\n",
    "L'unification se fait entre deux termes A et B. Deux termes s'unifient s'il existe une substitution `thêta` des variables de A telle que `B = thêta(A)`. \n",
    "\n",
    "Soit la clause du programme Prolog `etudiant_de(E,P):-apprend(E,M), enseigne(P,M).`. Si l'on cherche à réaliser la requête `?-étudiant_de(E, pierre)`, on unifie `étudiant_de(E, pierre)` avec `etudiant_de(E,P)`, le membre de gauche de la clause. La substitution thêta remplace `P` par `pierre` et ne modifie pas les autres variables. Pour continuer la recherche, on applique la substitution au termes de droite de la clause.\n",
    "\n",
    "Voici l'algorithme décrit dans <cite data-cite=\"NilssonMaluszynski\">(NilssonMaluszynski)</cite> :\n",
    "```\n",
    "E est l'ensemble des équations. Au départ il n'y en a qu'une seule : \n",
    "Par exemple E = {etudiant_de(E,P) = étudiant_de(E, pierre)}.\n",
    "\n",
    "Répéter tant que E change \n",
    "(jusqu'à ce que l'on ne puisse plus rien appliquer aux équations)\n",
    "    Sélectionner une équation  s = t dans E;\n",
    "    Si s = t est de la forme :\n",
    "        f(s1, ..., sn) = f(t1, ..., tn) avec n >= 0 \n",
    "            Alors remplacer l'équation par s1=t1 ... sn=tn\n",
    "        f(s1, ..., sm) = g(t1, ..., tn) avec f != g \n",
    "            Alors ÉCHEC\n",
    "        X = X \n",
    "            Alors supprimer l'équation\n",
    "        t = X où t n'est pas une variable \n",
    "            Alors remplacer l'équation par X = t\n",
    "        X = t où X != t et X apparait plus d'une fois dans E \n",
    "            Si X est un sous-terme de t Alors ÉCHEC\n",
    "            Sinon on remplace toutes les autres occurences de X par t\n",
    "```\n",
    "\n",
    "Il est prouvé que cet algorithme termine et renvoie soit échec, soit un ensemble équivalent des équations sous *forme résolue*. Un ensemble d'équations `{X1 = t1, ..., Xn = tn}` est dit sous forme résolue si les `(Xn)` sont des variables, les `(tn)` sont des termes et aucune des variables `Xn` n'apparait dans les `tn`. Cela permet ensuite de déterminer un unifieur.\n",
    "\n",
    "Remarques : \n",
    "\n",
    "* C'est dommage que l'algorithme se prête si bien à la programmation impérative quand on programme dans un langage fonctionnel. \n",
    "\n",
    "* On trouve des algorithmes pour déterminer un unifieur qui ne manipulent pas exactement comme ça des systèmes d'équations, (et qui sont dans des styles plus fonctionnels), mais cet algorithme est le seul que j'arrive à comprendre convenablement, et en plus <cite data-cite=\"NilssonMaluszynski\">(NilssonMaluszynski)</cite> prouve sa terminaison et sa correction, ce qui est très bon point.\n",
    "\n",
    "* Le test `Si X est un sous-terme de t Alors ÉCHEC` est en pratique pas réalisé dans la plupart des implémentations Prolog (pas comme ça en tout cas), il est très lent et le cas n'arrive que très peu en pratique. On peut donc avoir des boucles infinies... Les versions \"modernes\" gèrent les unifications de structures infinies... Une citation de <cite data-cite=\"Norvig\">(Norvig)</cite> \"*This represents a circular, infinite unification. Some versions of Prolog, notably Prolog II (Giannesini et al. 1986), provide an interpretation for such structures, but it is tricky to define the semantics of infinite structures.*\""
   ]
  },
  {
   "cell_type": "code",
   "execution_count": 14,
   "metadata": {},
   "outputs": [
    {
     "data": {
      "text/plain": [
       "val var_in_term : var -> term -> bool = <fun>\n"
      ]
     },
     "execution_count": 14,
     "metadata": {},
     "output_type": "execute_result"
    },
    {
     "data": {
      "text/plain": [
       "- : bool = true\n"
      ]
     },
     "execution_count": 14,
     "metadata": {},
     "output_type": "execute_result"
    },
    {
     "data": {
      "text/plain": [
       "val replace_var_in_term : var -> term -> term -> term = <fun>\n"
      ]
     },
     "execution_count": 14,
     "metadata": {},
     "output_type": "execute_result"
    },
    {
     "data": {
      "text/plain": [
       "- : term =\n",
       "Term (Atom \"etudiant_de\", [Term (Atom \"pierre\", []); Var (Id (\"P\", 0))])\n"
      ]
     },
     "execution_count": 14,
     "metadata": {},
     "output_type": "execute_result"
    }
   ],
   "source": [
    "(* Teste si une variable est dans un terme *)\n",
    "let rec var_in_term v = function\n",
    "| Var w -> v = w\n",
    "| Term (_, l) -> List.mem true (List.map (var_in_term v) l);;\n",
    "\n",
    "var_in_term (Id (\"P\", 0)) (parser_term \"etudiant_de(E,P)\");;\n",
    "\n",
    "(* Remplace une variable par un nouveau terme, récursivement à l'intérieur d'un terme *)\n",
    "let rec replace_var_in_term var new_t = function\n",
    "| Var v when v = var -> new_t\n",
    "| Var v -> Var v\n",
    "| Term (a , l) -> Term (a, List.map (replace_var_in_term var new_t) l);;\n",
    "\n",
    "replace_var_in_term (Id (\"E\",0)) (parser_term \"pierre\") (parser_term \"etudiant_de(E,P)\");;"
   ]
  },
  {
   "cell_type": "code",
   "execution_count": 15,
   "metadata": {},
   "outputs": [
    {
     "data": {
      "text/plain": [
       "val var_in_eql : var -> (term * term) list -> bool = <fun>\n"
      ]
     },
     "execution_count": 15,
     "metadata": {},
     "output_type": "execute_result"
    },
    {
     "data": {
      "text/plain": [
       "- : bool = true\n"
      ]
     },
     "execution_count": 15,
     "metadata": {},
     "output_type": "execute_result"
    },
    {
     "data": {
      "text/plain": [
       "val replace_var_in_eql :\n",
       "  var -> term -> (term * term) list -> (term * term) list = <fun>\n"
      ]
     },
     "execution_count": 15,
     "metadata": {},
     "output_type": "execute_result"
    }
   ],
   "source": [
    "(* Teste si une variable est dans une liste de couples de termes *)\n",
    "let var_in_eql v e = List.mem true (List.map (function t -> var_in_term v (fst t) || var_in_term v (snd t)) e);;\n",
    "\n",
    "var_in_eql (Id (\"F\", 12)) [Var (Id (\"F\", 12)), Var (Id (\"A\", 0)); Var (Id (\"A\", 0)), Var (Id (\"E\", 27))];;\n",
    "\n",
    "(* Remplace une variable par un nouveau terme, à l'intérieur d'une liste de couples de termes *)\n",
    "let replace_var_in_eql var new_t eql = \n",
    "List.map (function (a, b) -> (replace_var_in_term var new_t a), (replace_var_in_term var new_t b)) eql;;"
   ]
  },
  {
   "cell_type": "code",
   "execution_count": 16,
   "metadata": {},
   "outputs": [
    {
     "data": {
      "text/plain": [
       "val solve : (term * term) list -> (term * term) list option = <fun>\n"
      ]
     },
     "execution_count": 16,
     "metadata": {},
     "output_type": "execute_result"
    }
   ],
   "source": [
    "(* E est une liste de couples de termes *)\n",
    "(* transforme E en un équivalent sous forme résolue (type option, None si impossible) *) \n",
    "let rec solve e =\n",
    "    (* Parcourt une fois l'ensemble des équations *)\n",
    "    let rec pass tmp = function\n",
    "    | [] -> Some tmp\n",
    "    \n",
    "    | (Term (f, lf), Term (g, lg))::l when f = g && List.length lf = List.length lg -> \n",
    "        pass ((List.map2 (fun a b -> a,b) lf lg)@tmp) l\n",
    "        \n",
    "    | (Term (_, _), Term (_, _))::l -> None (* failwith \"Unification failed\" *)\n",
    "    \n",
    "    | (Var x, Var y)::l when x = y -> pass tmp l\n",
    "    \n",
    "    | (Term (a, la), Var x)::l -> pass ((Var x, Term (a, la))::tmp) l\n",
    "    \n",
    "    | (Var x, t)::l when var_in_eql x tmp || var_in_eql x l -> \n",
    "        if var_in_term x t then None (* failwith \"Unification failed, loop\" *)\n",
    "        else pass ((Var x, t)::(replace_var_in_eql x t tmp)) (replace_var_in_eql x t l)\n",
    "        \n",
    "    | (Var x, t)::l -> pass ((Var x, t)::tmp) l\n",
    "    \n",
    "in match (pass [] e) with \n",
    "| None -> None\n",
    "| Some eqlpp -> let b = List.sort_uniq compare eqlpp in if e = b then Some e else solve b;;"
   ]
  },
  {
   "cell_type": "markdown",
   "metadata": {},
   "source": [
    "À la place de manipuler des ensembles (`Set` existe en OCaml), j'ai juste utilisé des liste triées. La fonction `compare` est magique, elle définit une relation d'ordre pour n'importe quel type. J'ai ici utilisé la version complète de l'algorithme, qui n'est certainement pas la plus efficace. Comme l'a dit Donald Knuth : \"*Premature optimization is the root of all evil (or at least most of it) in programming.*\""
   ]
  },
  {
   "cell_type": "code",
   "execution_count": 17,
   "metadata": {},
   "outputs": [
    {
     "data": {
      "text/plain": [
       "- : (term * term) list option = Some [(Var (Id (\"E\", 0)), Var (Id (\"S\", 0)))]\n"
      ]
     },
     "execution_count": 17,
     "metadata": {},
     "output_type": "execute_result"
    }
   ],
   "source": [
    "solve [parser_term \"etudiant_de(E, P)\", parser_term \"etudiant_de(S, P)\"];; (* E = S *)"
   ]
  },
  {
   "cell_type": "markdown",
   "metadata": {},
   "source": [
    "On définit une substitution comme une liste de couples (var,term), le terme est inséré à la place de la variable.\n",
    "\n",
    "Si l'on sait que `etudiant_de(E1,P):-apprend(E1,M), enseigne(P,M).` (c) et que l'on veut montrer `étudiant_de(E0, pierre).` (r), alors il faut trouver une substitution qui unifie la tête de la clause (c) avec la requête (r).\n",
    "\n",
    "Pour l'exemple plus haut, il faut la substitution `thêta = { P/pierre, E1/E0}`. Il faut comprendre \"La variable P est remplacée par 'pierre', la variable E1 est remplacée par la variable E0. C'est bien un unifieur, si on l'applique sur la requête et sur la tête de la clause, les deux deviennent égales.\n",
    "\n",
    "Il peut exister plusieurs unifieurs, par exemple `thêta2 = { P/pierre, E0/samuel, E1/samuel}` en est aussi un. On voit que thêta2, c'est thêta composé avec `{E0/samuel}`, on dit alors que thêta est plus général que thêta2. Nous, nous cherchons le plus général de ces unifieurs, le MGU pour *Most General Unifier*.\n",
    "\n",
    "Un détail : on peut avoir thêta plus général que oméga, et oméga plus général que théta, la relation n'est donc pas antisymétrique. En fait, le MGU est unique au renommage des variables près.\n",
    "\n",
    "On peut déduire facilement un MGU du système d'équations sous forme résolue de la fonction `solve` (c'est à ça qu'elle sert). Si `{X1 = t1, ..., Xn = tn}` est sous forme résolue, alors `{X1/t1, ..., Xn/tn}` est un MGU.\n",
    "\n",
    "Lorsque l'on veut unifier `etudiant_de(E,P)` et `etudiant_de(E,pierre)`, les deux variables `E` ne doivent pas être nommées de la même manière."
   ]
  },
  {
   "cell_type": "code",
   "execution_count": 18,
   "metadata": {},
   "outputs": [
    {
     "data": {
      "text/plain": [
       "val mgu : term -> term -> (var * term) list option = <fun>\n"
      ]
     },
     "execution_count": 18,
     "metadata": {},
     "output_type": "execute_result"
    }
   ],
   "source": [
    "(* Prend 2 terme et renvoie l'unifieur le plus général s'il existe, None sinon. \n",
    "Attention, aucune variable ne doit être présente dans (r) la requête et dans (c) la tête de la clause *)\n",
    "\n",
    "let rec mgu r c = let f = function\n",
    "    | Var x, Term (a, l) -> x, Term (a, l)\n",
    "    | Var x, Var y -> x, Var y\n",
    "    | Term (_, _), _ -> failwith \"Should not happen.\"\n",
    "in match solve [r, c] with\n",
    "| None -> None\n",
    "| Some e -> Some (List.map f e);;"
   ]
  },
  {
   "cell_type": "code",
   "execution_count": 19,
   "metadata": {},
   "outputs": [
    {
     "data": {
      "text/plain": [
       "val test_unification : string -> string -> (var * term) list option = <fun>\n"
      ]
     },
     "execution_count": 19,
     "metadata": {},
     "output_type": "execute_result"
    },
    {
     "data": {
      "text/plain": [
       "- : (var * term) list option =\n",
       "Some\n",
       " [(Id (\"E\", 0), Var (Id (\"F\", 0))); (Id (\"P\", 0), Term (Atom \"pierre\", []))]\n"
      ]
     },
     "execution_count": 19,
     "metadata": {},
     "output_type": "execute_result"
    },
    {
     "data": {
      "text/plain": [
       "- : (var * term) list option =\n",
       "Some\n",
       " [(Id (\"F\", 0), Var (Id (\"E\", 0))); (Id (\"P\", 0), Term (Atom \"pierre\", []))]\n"
      ]
     },
     "execution_count": 19,
     "metadata": {},
     "output_type": "execute_result"
    },
    {
     "data": {
      "text/plain": [
       "- : (var * term) list option =\n",
       "Some\n",
       " [(Id (\"X\", 0), Term (Atom \"g\", [Term (Atom \"g\", [Var (Id (\"Y\", 0))])]));\n",
       "  (Id (\"Z\", 0), Term (Atom \"g\", [Var (Id (\"Y\", 0))]))]\n"
      ]
     },
     "execution_count": 19,
     "metadata": {},
     "output_type": "execute_result"
    },
    {
     "data": {
      "text/plain": [
       "- : (var * term) list option =\n",
       "Some\n",
       " [(Id (\"X\", 0), Term (Atom \"g\", [Term (Atom \"g\", [Var (Id (\"Y\", 0))])]));\n",
       "  (Id (\"Z\", 0), Term (Atom \"g\", [Var (Id (\"Y\", 0))]))]\n"
      ]
     },
     "execution_count": 19,
     "metadata": {},
     "output_type": "execute_result"
    }
   ],
   "source": [
    "(* La fonction test_unification a pour but de tester mgu *)\n",
    "let test_unification str_r str_c = mgu (parser_term str_r) (parser_term str_c);;\n",
    "\n",
    "test_unification \"etudiant_de(E, pierre)\" \"etudiant_de(F,P)\";; (* F/E et P/pierre *)\n",
    "\n",
    "test_unification \"etudiant_de(F,P)\" \"etudiant_de(E, pierre)\";; (* E/F et P/pierre *)\n",
    "\n",
    "test_unification \"f(X,g(Y))\" \"f(g(Z),Z)\";; (* X/g(g(Y)) et Z/g(Y) *)\n",
    "\n",
    "test_unification \"f(g(Z),Z)\" \"f(X,g(Y))\";; (* X/g(g(Y)) et Z/g(Y) *)"
   ]
  },
  {
   "cell_type": "markdown",
   "metadata": {},
   "source": [
    "Quelques explications sur les derniers deux exemples :\n",
    "\n",
    "* Je sais que pour tout `Z`, `f(g(Z),Z)` est vraie, et j'aimerais savoir s'il existe des couples `(X,Y)` tels que `f(X,g(Y))` soit vraie. Le programme me répond oui, il suffit de choisir `X = g(g(Y))`\n",
    "\n",
    "* Je sais que pour tout `(X,Y)`, `f(X,g(Y))` est vraie, et j'aimerais savoir s'il existe des `Z` tels que `f(g(Z),Z)` soit vraie. Le programme me répond oui, il suffit de choisir `Z = g(Y)`"
   ]
  },
  {
   "cell_type": "markdown",
   "metadata": {},
   "source": [
    "### Le backtracking\n",
    "\n",
    "Il me semble que nous nous rapprochons du but ! L'unification est une partie très importante de la SLD-resolution. L'autre point important est le backtracking. Encore quelques fonctions pour appliquer des substitutions sur des termes, listes de termes, pour composer des substitutions, pour vérifier que un terme et une clause n'ont pas de variables en commun, pour effectuer les renommages si nécessaire, et après je pense qu'il sera possible d'implémenter le backtracking."
   ]
  },
  {
   "cell_type": "code",
   "execution_count": 20,
   "metadata": {},
   "outputs": [
    {
     "data": {
      "text/plain": [
       "val apply_subst_on_term : (var * term) list -> term -> term = <fun>\n"
      ]
     },
     "execution_count": 20,
     "metadata": {},
     "output_type": "execute_result"
    },
    {
     "data": {
      "text/plain": [
       "val apply_subst_on_termlist : (var * term) list -> term list -> term list =\n",
       "  <fun>\n"
      ]
     },
     "execution_count": 20,
     "metadata": {},
     "output_type": "execute_result"
    }
   ],
   "source": [
    "(* Applique une substitution sur un terme *)\n",
    "let rec apply_subst_on_term uni term = match uni with\n",
    "| [] -> term\n",
    "| (v,t)::l -> apply_subst_on_term l (replace_var_in_term v t term);;\n",
    "\n",
    "(* Applique une substitution sur une liste de termes *)\n",
    "let rec apply_subst_on_termlist uni lst = List.map (apply_subst_on_term uni) lst;;"
   ]
  },
  {
   "cell_type": "markdown",
   "metadata": {},
   "source": [
    "Voilà la manière dont j'ai compris l'algorithme :\n",
    "\n",
    "* On cherche à satisfaire une requête `<- A1,...An`.\n",
    "\n",
    "* On a `A1` qui unifie avec `Hi`, où `Hi <- Ci_1,..Ci_m` est une la i-ème clause du programme. On a auparavant renommé toutes les variables de `Hi <- Ci_1,..Ci_m` qui étaient présentes dans `A1`, sinon on ne peut pas appeler `mgu`. On a donc un MGU `thêta1`.\n",
    "\n",
    "* La nouvelle requête à satisfaire est `<- thêta1(Ci_1,...Ci_m, A2,...An)`.\n",
    "\n",
    "* On récure, si on a à montrer `thêta_k( ... thêta2( thêta1( _vide_) ) ...)` alors c'est gagné (`_vide_` signifie toujours vrai), la composée `thêta_tot` des `thêta_k` est une substitution des variables de la requête de départ. Ce qu'on veut renvoyer à l'utilisateur c'est l'image des variables de `A1,...An` par `thêta_tot`.\n",
    "\n",
    "* Si `A1` ne s'unifie avec aucun `Hi`, ça ne sert à rien d'essayer d'unifier `A2`, puisque de toute façon on garde `A1` dans la nouvelle requête. Alors il faut remonter. C'est à dire qu'il faut essayer les autres unifications à l'étape d'avant."
   ]
  },
  {
   "cell_type": "markdown",
   "metadata": {},
   "source": [
    "Comment renommer les clauses pour avoir des noms libres à chaque unification ? On peut utiliser le niveau de récursion comme identifiant, que l'on place dans l'entier transporté avec la variable.\n",
    "\n",
    "* On veut des variables numérotées à 0 dans la requête. \n",
    "\n",
    "* On passe 1 lors du premier appel de sld : la première clause utilisée est renommée à 1, les variables de la requête sont toutes à 0.\n",
    "\n",
    "* La deuxième clause utilisée est renommée à 2, dans la requête il y a des variables à 1 et à 0 : pas de conflit ! etc..."
   ]
  },
  {
   "cell_type": "code",
   "execution_count": 21,
   "metadata": {},
   "outputs": [
    {
     "data": {
      "text/plain": [
       "val rename : int -> clause -> clause = <fun>\n"
      ]
     },
     "execution_count": 21,
     "metadata": {},
     "output_type": "execute_result"
    },
    {
     "data": {
      "text/plain": [
       "- : clause =\n",
       "Clause (Term (Atom \"etudiant_de\", [Var (Id (\"E\", 42)); Var (Id (\"P\", 42))]),\n",
       " [Term (Atom \"apprend\", [Var (Id (\"E\", 42)); Var (Id (\"M\", 42))]);\n",
       "  Term (Atom \"enseigne\", [Var (Id (\"P\", 42)); Var (Id (\"M\", 42))])])\n"
      ]
     },
     "execution_count": 21,
     "metadata": {},
     "output_type": "execute_result"
    }
   ],
   "source": [
    "(* Prend un entier et une clause, renvoie la clause avec les variables renommées à l'entier *)\n",
    "let rename n (Clause (t1, tl)) = \n",
    "let rec f = function \n",
    "| Var (Id (str, _)) -> Var (Id (str, n))\n",
    "| Term (atm, l) -> Term (atm, List.map f l)\n",
    "in Clause (f t1, List.map f tl);;\n",
    "\n",
    "rename 42 (parser_clause \"etudiant_de(E,P):-apprend(E,M), enseigne(P,M)\");;"
   ]
  },
  {
   "cell_type": "code",
   "execution_count": 22,
   "metadata": {},
   "outputs": [
    {
     "data": {
      "text/plain": [
       "type 'a tree = Leaf of 'a | Node of 'a tree Lazy.t list\n"
      ]
     },
     "execution_count": 22,
     "metadata": {},
     "output_type": "execute_result"
    },
    {
     "data": {
      "text/plain": [
       "val sld_tree :\n",
       "  clause list ->\n",
       "  term list -> (var * term) list list -> int -> (var * term) list list tree =\n",
       "  <fun>\n"
      ]
     },
     "execution_count": 22,
     "metadata": {},
     "output_type": "execute_result"
    }
   ],
   "source": [
    "type 'a tree = Leaf of 'a | Node of (('a tree) Lazy.t) list;;\n",
    "\n",
    "(* La fonction de recherche, renvoie l'arbre des solutions *)\n",
    "let rec sld_tree world req subs n = match req with\n",
    "| [] -> Leaf subs \n",
    "| head_request_term::other_request_terms -> \n",
    "    Node (List.filter_map (fun c -> let Clause (left_member, right_member) = rename n c in \n",
    "    (match mgu head_request_term left_member with\n",
    "        | None -> None\n",
    "        | Some unifier -> Some (lazy (sld_tree world \n",
    "            (apply_subst_on_termlist unifier (right_member@other_request_terms)) \n",
    "            (unifier::subs) (n+1)))\n",
    "    )) world);;"
   ]
  },
  {
   "cell_type": "markdown",
   "metadata": {},
   "source": [
    "### Déchiffrer les retours de la fonction `sld`"
   ]
  },
  {
   "cell_type": "code",
   "execution_count": 23,
   "metadata": {},
   "outputs": [
    {
     "data": {
      "text/plain": [
       "val compose : (var * term) list list -> (var * term) list = <fun>\n"
      ]
     },
     "execution_count": 23,
     "metadata": {},
     "output_type": "execute_result"
    },
    {
     "data": {
      "text/plain": [
       "val find_vars_in_termlist : term list -> term list = <fun>\n"
      ]
     },
     "execution_count": 23,
     "metadata": {},
     "output_type": "execute_result"
    }
   ],
   "source": [
    "(* Compose correctement la liste de substitutions *)\n",
    "let compose l = \n",
    "let compose2 s1 s2 = s1@(List.map (function (v2, lt2) -> (v2, apply_subst_on_term s1 lt2)) s2)\n",
    "in List.fold_left compose2 [] l;;\n",
    "\n",
    "(* Recherche les termes qui sont des variables récursivement dans une liste de termes *)\n",
    "let rec find_vars_in_termlist tl = List.sort_uniq compare (List.concat (List.map \n",
    "(function \n",
    "| Var v -> [Var v]\n",
    "| Term (_,l) -> find_vars_in_termlist l) \n",
    "tl));;"
   ]
  },
  {
   "cell_type": "code",
   "execution_count": 24,
   "metadata": {},
   "outputs": [
    {
     "data": {
      "text/plain": [
       "val list_to_seq : 'a list -> 'a Seq.t = <fun>\n"
      ]
     },
     "execution_count": 24,
     "metadata": {},
     "output_type": "execute_result"
    },
    {
     "data": {
      "text/plain": [
       "val to_seq : 'a tree -> 'a Seq.t = <fun>\n"
      ]
     },
     "execution_count": 24,
     "metadata": {},
     "output_type": "execute_result"
    },
    {
     "data": {
      "text/plain": [
       "val solutions : clause list -> string -> (term list * term list) Seq.t =\n",
       "  <fun>\n"
      ]
     },
     "execution_count": 24,
     "metadata": {},
     "output_type": "execute_result"
    },
    {
     "data": {
      "text/plain": [
       "val request : clause list -> string -> unit = <fun>\n"
      ]
     },
     "execution_count": 24,
     "metadata": {},
     "output_type": "execute_result"
    }
   ],
   "source": [
    "let list_to_seq l = List.fold_right (fun x s -> (fun ()->Seq.Cons(x, s)) ) l Seq.empty;;\n",
    "\n",
    "let rec to_seq = function\n",
    "| Leaf str -> Seq.return str\n",
    "| Node tl -> Seq.flat_map (fun par -> to_seq (Lazy.force par)) (list_to_seq tl);;\n",
    "\n",
    "let solutions world req = let tree = sld_tree world (parser_term_list req) [] 1 in \n",
    "let vars = (find_vars_in_termlist (parser_term_list req)) in\n",
    "Seq.map  (fun l -> vars, apply_subst_on_termlist (compose l) vars) (to_seq tree);;\n",
    "\n",
    "let request world req = let sol = solutions world req in\n",
    "if sol () = Seq.Nil then Format.printf \"This is false.\\n%!\"\n",
    "else Seq.iter (fun (vars, tl) -> \n",
    "if vars = [] then Format.printf \"This is True.\\n%!\"\n",
    "else Format.printf \"There is : %s\\n%!\"\n",
    "(String.concat \", \" (List.map2 (fun v t -> (term_to_string v) ^ \" = \" ^ (term_to_string t)) vars tl))\n",
    ") sol;;"
   ]
  },
  {
   "cell_type": "markdown",
   "metadata": {},
   "source": [
    "### Enfin des essais !"
   ]
  },
  {
   "cell_type": "code",
   "execution_count": 25,
   "metadata": {},
   "outputs": [],
   "source": [
    "(* request world \"etudiant_de(E, pierre)\";;\n",
    "\n",
    "request world \"etudiant_de(E, pierre), etudiant_de(E, alice)\";;\n",
    "\n",
    "request world \"etudiant_de(A, B)\";;\n",
    "\n",
    "request world \"etudiant_de(A, A)\";;\n",
    "\n",
    "request world \"apprend(A, A)\";;\n",
    "\n",
    "request world \"enseigne(A, A)\";;\n",
    "\n",
    "request world \"enseigne(alice, physique)\";;\n",
    "\n",
    "request world \"enseigne(alice, mathematiques)\";; *)"
   ]
  },
  {
   "cell_type": "markdown",
   "metadata": {},
   "source": [
    "## Que faire maintenant ?\n",
    "\n",
    "* Beaucoup de tests pour vérifier si tout fonctionne.\n",
    "\n",
    "* Peut-être nettoyer un peu le code...\n",
    "\n",
    "* Écrire quelques fonctions comme une ligne de commande interactive, pour une utilisation plus facile. Rendre les résultats plus clairs.\n",
    "\n",
    "* Proposer une deuxième version de la recherche, qui renvoie tous les résultats possibles, ou qui propose de chercher le résultat suivant.\n",
    "\n",
    "* Je pensais essayer d'écrire un programme pour \"*résoudre*\" le Cluedo. J'avais déjà essayé sans succès en C++. Le problème semble plus adapté au langage Prolog : \"*tel joueur possède telle carte*\", \"*si un joueur montre une carte à un autre pour réfuter une supposition (triplet de cartes), c'est qu'il possède une des trois cartes*\", sont des règles que l'on peut écrire en Prolog. Malheureusement j'ai trouvé un super mémoire de Master <cite data-cite=\"Aartun\">(Aartun)</cite> qui traite bien le sujet.\n",
    "\n",
    "* Je regarde un peu comment est-ce que l'on peut sortir des clauses de Horn, mais c'est un sujet compliqué.\n",
    "\n",
    "* Je voulais voir s'il est possible d'étendre à des langages fonctionels des éléments de programmation logique. C'est aussi un thème intéressant, qui se nomme *functional logic programming*. On trouve plusieurs petits langages sur internet qui utilisent des approches différentes, mais aucun d'eux ne semble bien abouti. Ce serait presque un idéal d'associer des mécanismes efficaces des langages fonctionnels comme l'évaluation paresseuse, et les capacités de la programmation logique pour décrire les problèmes...\n",
    "\n",
    "* Pour compiler Prolog, il faut se tourner vers les *Machines abstraites de Warren*."
   ]
  },
  {
   "cell_type": "code",
   "execution_count": null,
   "metadata": {},
   "outputs": [],
   "source": []
  }
 ],
 "metadata": {
  "celltoolbar": "Format de la Cellule Texte Brut",
  "kernelspec": {
   "display_name": "OCaml 4.08.1",
   "language": "OCaml",
   "name": "jupyter"
  },
  "language_info": {
   "codemirror_mode": "text/x-ocaml",
   "file_extension": ".ml",
   "mimetype": "text/x-ocaml",
   "name": "OCaml",
   "nbconverter_exporter": null,
   "pygments_lexer": "OCaml",
   "version": "4.08.1"
  }
 },
 "nbformat": 4,
 "nbformat_minor": 4
}
